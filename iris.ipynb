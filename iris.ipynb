{
  "nbformat": 4,
  "nbformat_minor": 0,
  "metadata": {
    "colab": {
      "name": "iris.ipynb",
      "provenance": [],
      "authorship_tag": "ABX9TyNN4D/vjzs9nWRQgIYMzSMm",
      "include_colab_link": true
    },
    "kernelspec": {
      "name": "python3",
      "display_name": "Python 3"
    }
  },
  "cells": [
    {
      "cell_type": "markdown",
      "metadata": {
        "id": "view-in-github",
        "colab_type": "text"
      },
      "source": [
        "<a href=\"https://colab.research.google.com/github/aemiralfath/BPML-Dicoding/blob/master/iris.ipynb\" target=\"_parent\"><img src=\"https://colab.research.google.com/assets/colab-badge.svg\" alt=\"Open In Colab\"/></a>"
      ]
    },
    {
      "cell_type": "code",
      "metadata": {
        "id": "UjInfn3bt1h9",
        "colab_type": "code",
        "colab": {}
      },
      "source": [
        "import pandas\n",
        "from sklearn import preprocessing\n",
        "from sklearn.model_selection import train_test_split\n",
        "from keras.models import Sequential\n",
        "from keras.layers import Dense"
      ],
      "execution_count": 1,
      "outputs": []
    },
    {
      "cell_type": "code",
      "metadata": {
        "id": "1aFnJvx0uOCp",
        "colab_type": "code",
        "colab": {
          "base_uri": "https://localhost:8080/",
          "height": 132
        },
        "outputId": "82ac3b82-91c6-4ca7-bb50-cfc4dc9ce30f"
      },
      "source": [
        "from google.colab import drive\n",
        "drive.mount('/content/drive')"
      ],
      "execution_count": 3,
      "outputs": [
        {
          "output_type": "stream",
          "text": [
            "Go to this URL in a browser: https://accounts.google.com/o/oauth2/auth?client_id=947318989803-6bn6qk8qdgf4n4g3pfee6491hc0brc4i.apps.googleusercontent.com&redirect_uri=urn%3aietf%3awg%3aoauth%3a2.0%3aoob&response_type=code&scope=email%20https%3a%2f%2fwww.googleapis.com%2fauth%2fdocs.test%20https%3a%2f%2fwww.googleapis.com%2fauth%2fdrive%20https%3a%2f%2fwww.googleapis.com%2fauth%2fdrive.photos.readonly%20https%3a%2f%2fwww.googleapis.com%2fauth%2fpeopleapi.readonly\n",
            "\n",
            "Enter your authorization code:\n",
            "··········\n",
            "Mounted at /content/drive\n"
          ],
          "name": "stdout"
        }
      ]
    },
    {
      "cell_type": "code",
      "metadata": {
        "id": "jclvfjcquszJ",
        "colab_type": "code",
        "colab": {
          "base_uri": "https://localhost:8080/",
          "height": 284
        },
        "outputId": "84020bee-2cbb-4fc2-d5a3-2dd4a02ef8e6"
      },
      "source": [
        "! pip install --upgrade --force-reinstall --no-deps kaggle\n",
        "! mkdir /root/.kaggle/\n",
        "! cp \"/content/drive/My Drive/Machine Learning/kaggle.json\" /root/.kaggle/\n",
        "! chmod 600 /root/.kaggle/kaggle.json"
      ],
      "execution_count": 4,
      "outputs": [
        {
          "output_type": "stream",
          "text": [
            "Collecting kaggle\n",
            "\u001b[?25l  Downloading https://files.pythonhosted.org/packages/62/ab/bb20f9b9e24f9a6250f95a432f8d9a7d745f8d24039d7a5a6eaadb7783ba/kaggle-1.5.6.tar.gz (58kB)\n",
            "\r\u001b[K     |█████▋                          | 10kB 19.1MB/s eta 0:00:01\r\u001b[K     |███████████▎                    | 20kB 1.8MB/s eta 0:00:01\r\u001b[K     |█████████████████               | 30kB 2.1MB/s eta 0:00:01\r\u001b[K     |██████████████████████▌         | 40kB 2.4MB/s eta 0:00:01\r\u001b[K     |████████████████████████████▏   | 51kB 2.0MB/s eta 0:00:01\r\u001b[K     |████████████████████████████████| 61kB 1.8MB/s \n",
            "\u001b[?25hBuilding wheels for collected packages: kaggle\n",
            "  Building wheel for kaggle (setup.py) ... \u001b[?25l\u001b[?25hdone\n",
            "  Created wheel for kaggle: filename=kaggle-1.5.6-cp36-none-any.whl size=72859 sha256=2cecdfe412c3a49d1d8f0714564352b8e1a059f40a38591c4cb038e7c051b1af\n",
            "  Stored in directory: /root/.cache/pip/wheels/57/4e/e8/bb28d035162fb8f17f8ca5d42c3230e284c6aa565b42b72674\n",
            "Successfully built kaggle\n",
            "Installing collected packages: kaggle\n",
            "  Found existing installation: kaggle 1.5.6\n",
            "    Uninstalling kaggle-1.5.6:\n",
            "      Successfully uninstalled kaggle-1.5.6\n",
            "Successfully installed kaggle-1.5.6\n"
          ],
          "name": "stdout"
        }
      ]
    },
    {
      "cell_type": "code",
      "metadata": {
        "id": "SGHsdIaVviuG",
        "colab_type": "code",
        "colab": {
          "base_uri": "https://localhost:8080/",
          "height": 74
        },
        "outputId": "67b00234-80e2-4d7d-9c7c-6d8a4ad933fc"
      },
      "source": [
        "!kaggle datasets download -d uciml/iris"
      ],
      "execution_count": 13,
      "outputs": [
        {
          "output_type": "stream",
          "text": [
            "Downloading iris.zip to /tmp\n",
            "\r  0% 0.00/3.60k [00:00<?, ?B/s]\n",
            "\r100% 3.60k/3.60k [00:00<00:00, 3.20MB/s]\n"
          ],
          "name": "stdout"
        }
      ]
    },
    {
      "cell_type": "code",
      "metadata": {
        "id": "mzX4cYEPvwMn",
        "colab_type": "code",
        "colab": {}
      },
      "source": [
        "import zipfile\n",
        "\n",
        "zipref = zipfile.ZipFile('iris.zip', 'r')\n",
        "zipref.extractall()\n",
        "zipref.close()"
      ],
      "execution_count": 14,
      "outputs": []
    },
    {
      "cell_type": "code",
      "metadata": {
        "id": "vHawtWaAwDXu",
        "colab_type": "code",
        "colab": {
          "base_uri": "https://localhost:8080/",
          "height": 419
        },
        "outputId": "592969ba-bff4-4a68-ceb5-dc1af7c6ac25"
      },
      "source": [
        "df = pandas.read_csv('Iris.csv')\n",
        "df"
      ],
      "execution_count": 16,
      "outputs": [
        {
          "output_type": "execute_result",
          "data": {
            "text/html": [
              "<div>\n",
              "<style scoped>\n",
              "    .dataframe tbody tr th:only-of-type {\n",
              "        vertical-align: middle;\n",
              "    }\n",
              "\n",
              "    .dataframe tbody tr th {\n",
              "        vertical-align: top;\n",
              "    }\n",
              "\n",
              "    .dataframe thead th {\n",
              "        text-align: right;\n",
              "    }\n",
              "</style>\n",
              "<table border=\"1\" class=\"dataframe\">\n",
              "  <thead>\n",
              "    <tr style=\"text-align: right;\">\n",
              "      <th></th>\n",
              "      <th>Id</th>\n",
              "      <th>SepalLengthCm</th>\n",
              "      <th>SepalWidthCm</th>\n",
              "      <th>PetalLengthCm</th>\n",
              "      <th>PetalWidthCm</th>\n",
              "      <th>Species</th>\n",
              "    </tr>\n",
              "  </thead>\n",
              "  <tbody>\n",
              "    <tr>\n",
              "      <th>0</th>\n",
              "      <td>1</td>\n",
              "      <td>5.1</td>\n",
              "      <td>3.5</td>\n",
              "      <td>1.4</td>\n",
              "      <td>0.2</td>\n",
              "      <td>Iris-setosa</td>\n",
              "    </tr>\n",
              "    <tr>\n",
              "      <th>1</th>\n",
              "      <td>2</td>\n",
              "      <td>4.9</td>\n",
              "      <td>3.0</td>\n",
              "      <td>1.4</td>\n",
              "      <td>0.2</td>\n",
              "      <td>Iris-setosa</td>\n",
              "    </tr>\n",
              "    <tr>\n",
              "      <th>2</th>\n",
              "      <td>3</td>\n",
              "      <td>4.7</td>\n",
              "      <td>3.2</td>\n",
              "      <td>1.3</td>\n",
              "      <td>0.2</td>\n",
              "      <td>Iris-setosa</td>\n",
              "    </tr>\n",
              "    <tr>\n",
              "      <th>3</th>\n",
              "      <td>4</td>\n",
              "      <td>4.6</td>\n",
              "      <td>3.1</td>\n",
              "      <td>1.5</td>\n",
              "      <td>0.2</td>\n",
              "      <td>Iris-setosa</td>\n",
              "    </tr>\n",
              "    <tr>\n",
              "      <th>4</th>\n",
              "      <td>5</td>\n",
              "      <td>5.0</td>\n",
              "      <td>3.6</td>\n",
              "      <td>1.4</td>\n",
              "      <td>0.2</td>\n",
              "      <td>Iris-setosa</td>\n",
              "    </tr>\n",
              "    <tr>\n",
              "      <th>...</th>\n",
              "      <td>...</td>\n",
              "      <td>...</td>\n",
              "      <td>...</td>\n",
              "      <td>...</td>\n",
              "      <td>...</td>\n",
              "      <td>...</td>\n",
              "    </tr>\n",
              "    <tr>\n",
              "      <th>145</th>\n",
              "      <td>146</td>\n",
              "      <td>6.7</td>\n",
              "      <td>3.0</td>\n",
              "      <td>5.2</td>\n",
              "      <td>2.3</td>\n",
              "      <td>Iris-virginica</td>\n",
              "    </tr>\n",
              "    <tr>\n",
              "      <th>146</th>\n",
              "      <td>147</td>\n",
              "      <td>6.3</td>\n",
              "      <td>2.5</td>\n",
              "      <td>5.0</td>\n",
              "      <td>1.9</td>\n",
              "      <td>Iris-virginica</td>\n",
              "    </tr>\n",
              "    <tr>\n",
              "      <th>147</th>\n",
              "      <td>148</td>\n",
              "      <td>6.5</td>\n",
              "      <td>3.0</td>\n",
              "      <td>5.2</td>\n",
              "      <td>2.0</td>\n",
              "      <td>Iris-virginica</td>\n",
              "    </tr>\n",
              "    <tr>\n",
              "      <th>148</th>\n",
              "      <td>149</td>\n",
              "      <td>6.2</td>\n",
              "      <td>3.4</td>\n",
              "      <td>5.4</td>\n",
              "      <td>2.3</td>\n",
              "      <td>Iris-virginica</td>\n",
              "    </tr>\n",
              "    <tr>\n",
              "      <th>149</th>\n",
              "      <td>150</td>\n",
              "      <td>5.9</td>\n",
              "      <td>3.0</td>\n",
              "      <td>5.1</td>\n",
              "      <td>1.8</td>\n",
              "      <td>Iris-virginica</td>\n",
              "    </tr>\n",
              "  </tbody>\n",
              "</table>\n",
              "<p>150 rows × 6 columns</p>\n",
              "</div>"
            ],
            "text/plain": [
              "      Id  SepalLengthCm  ...  PetalWidthCm         Species\n",
              "0      1            5.1  ...           0.2     Iris-setosa\n",
              "1      2            4.9  ...           0.2     Iris-setosa\n",
              "2      3            4.7  ...           0.2     Iris-setosa\n",
              "3      4            4.6  ...           0.2     Iris-setosa\n",
              "4      5            5.0  ...           0.2     Iris-setosa\n",
              "..   ...            ...  ...           ...             ...\n",
              "145  146            6.7  ...           2.3  Iris-virginica\n",
              "146  147            6.3  ...           1.9  Iris-virginica\n",
              "147  148            6.5  ...           2.0  Iris-virginica\n",
              "148  149            6.2  ...           2.3  Iris-virginica\n",
              "149  150            5.9  ...           1.8  Iris-virginica\n",
              "\n",
              "[150 rows x 6 columns]"
            ]
          },
          "metadata": {
            "tags": []
          },
          "execution_count": 16
        }
      ]
    },
    {
      "cell_type": "code",
      "metadata": {
        "id": "BODJePXQwTa0",
        "colab_type": "code",
        "colab": {
          "base_uri": "https://localhost:8080/",
          "height": 264
        },
        "outputId": "3d803e1e-e678-471f-9fb3-01ae46f60d05"
      },
      "source": [
        "df.info()"
      ],
      "execution_count": 17,
      "outputs": [
        {
          "output_type": "stream",
          "text": [
            "<class 'pandas.core.frame.DataFrame'>\n",
            "RangeIndex: 150 entries, 0 to 149\n",
            "Data columns (total 6 columns):\n",
            " #   Column         Non-Null Count  Dtype  \n",
            "---  ------         --------------  -----  \n",
            " 0   Id             150 non-null    int64  \n",
            " 1   SepalLengthCm  150 non-null    float64\n",
            " 2   SepalWidthCm   150 non-null    float64\n",
            " 3   PetalLengthCm  150 non-null    float64\n",
            " 4   PetalWidthCm   150 non-null    float64\n",
            " 5   Species        150 non-null    object \n",
            "dtypes: float64(4), int64(1), object(1)\n",
            "memory usage: 7.2+ KB\n"
          ],
          "name": "stdout"
        }
      ]
    },
    {
      "cell_type": "code",
      "metadata": {
        "id": "m8JVspP3xNU_",
        "colab_type": "code",
        "colab": {
          "base_uri": "https://localhost:8080/",
          "height": 204
        },
        "outputId": "e2e529ec-40a2-4c48-fcd4-c33b95f9c860"
      },
      "source": [
        "df.head()"
      ],
      "execution_count": 18,
      "outputs": [
        {
          "output_type": "execute_result",
          "data": {
            "text/html": [
              "<div>\n",
              "<style scoped>\n",
              "    .dataframe tbody tr th:only-of-type {\n",
              "        vertical-align: middle;\n",
              "    }\n",
              "\n",
              "    .dataframe tbody tr th {\n",
              "        vertical-align: top;\n",
              "    }\n",
              "\n",
              "    .dataframe thead th {\n",
              "        text-align: right;\n",
              "    }\n",
              "</style>\n",
              "<table border=\"1\" class=\"dataframe\">\n",
              "  <thead>\n",
              "    <tr style=\"text-align: right;\">\n",
              "      <th></th>\n",
              "      <th>Id</th>\n",
              "      <th>SepalLengthCm</th>\n",
              "      <th>SepalWidthCm</th>\n",
              "      <th>PetalLengthCm</th>\n",
              "      <th>PetalWidthCm</th>\n",
              "      <th>Species</th>\n",
              "    </tr>\n",
              "  </thead>\n",
              "  <tbody>\n",
              "    <tr>\n",
              "      <th>0</th>\n",
              "      <td>1</td>\n",
              "      <td>5.1</td>\n",
              "      <td>3.5</td>\n",
              "      <td>1.4</td>\n",
              "      <td>0.2</td>\n",
              "      <td>Iris-setosa</td>\n",
              "    </tr>\n",
              "    <tr>\n",
              "      <th>1</th>\n",
              "      <td>2</td>\n",
              "      <td>4.9</td>\n",
              "      <td>3.0</td>\n",
              "      <td>1.4</td>\n",
              "      <td>0.2</td>\n",
              "      <td>Iris-setosa</td>\n",
              "    </tr>\n",
              "    <tr>\n",
              "      <th>2</th>\n",
              "      <td>3</td>\n",
              "      <td>4.7</td>\n",
              "      <td>3.2</td>\n",
              "      <td>1.3</td>\n",
              "      <td>0.2</td>\n",
              "      <td>Iris-setosa</td>\n",
              "    </tr>\n",
              "    <tr>\n",
              "      <th>3</th>\n",
              "      <td>4</td>\n",
              "      <td>4.6</td>\n",
              "      <td>3.1</td>\n",
              "      <td>1.5</td>\n",
              "      <td>0.2</td>\n",
              "      <td>Iris-setosa</td>\n",
              "    </tr>\n",
              "    <tr>\n",
              "      <th>4</th>\n",
              "      <td>5</td>\n",
              "      <td>5.0</td>\n",
              "      <td>3.6</td>\n",
              "      <td>1.4</td>\n",
              "      <td>0.2</td>\n",
              "      <td>Iris-setosa</td>\n",
              "    </tr>\n",
              "  </tbody>\n",
              "</table>\n",
              "</div>"
            ],
            "text/plain": [
              "   Id  SepalLengthCm  SepalWidthCm  PetalLengthCm  PetalWidthCm      Species\n",
              "0   1            5.1           3.5            1.4           0.2  Iris-setosa\n",
              "1   2            4.9           3.0            1.4           0.2  Iris-setosa\n",
              "2   3            4.7           3.2            1.3           0.2  Iris-setosa\n",
              "3   4            4.6           3.1            1.5           0.2  Iris-setosa\n",
              "4   5            5.0           3.6            1.4           0.2  Iris-setosa"
            ]
          },
          "metadata": {
            "tags": []
          },
          "execution_count": 18
        }
      ]
    },
    {
      "cell_type": "code",
      "metadata": {
        "id": "ZMS3T4kPxQzO",
        "colab_type": "code",
        "colab": {}
      },
      "source": [
        "df = df.drop(columns='Id')"
      ],
      "execution_count": 19,
      "outputs": []
    },
    {
      "cell_type": "code",
      "metadata": {
        "id": "orqpEIO6xfck",
        "colab_type": "code",
        "colab": {
          "base_uri": "https://localhost:8080/",
          "height": 419
        },
        "outputId": "daf6ee6d-cada-4ef6-f5b1-54217b80b6e8"
      },
      "source": [
        "category = pandas.get_dummies(df['Species'])\n",
        "category"
      ],
      "execution_count": 20,
      "outputs": [
        {
          "output_type": "execute_result",
          "data": {
            "text/html": [
              "<div>\n",
              "<style scoped>\n",
              "    .dataframe tbody tr th:only-of-type {\n",
              "        vertical-align: middle;\n",
              "    }\n",
              "\n",
              "    .dataframe tbody tr th {\n",
              "        vertical-align: top;\n",
              "    }\n",
              "\n",
              "    .dataframe thead th {\n",
              "        text-align: right;\n",
              "    }\n",
              "</style>\n",
              "<table border=\"1\" class=\"dataframe\">\n",
              "  <thead>\n",
              "    <tr style=\"text-align: right;\">\n",
              "      <th></th>\n",
              "      <th>Iris-setosa</th>\n",
              "      <th>Iris-versicolor</th>\n",
              "      <th>Iris-virginica</th>\n",
              "    </tr>\n",
              "  </thead>\n",
              "  <tbody>\n",
              "    <tr>\n",
              "      <th>0</th>\n",
              "      <td>1</td>\n",
              "      <td>0</td>\n",
              "      <td>0</td>\n",
              "    </tr>\n",
              "    <tr>\n",
              "      <th>1</th>\n",
              "      <td>1</td>\n",
              "      <td>0</td>\n",
              "      <td>0</td>\n",
              "    </tr>\n",
              "    <tr>\n",
              "      <th>2</th>\n",
              "      <td>1</td>\n",
              "      <td>0</td>\n",
              "      <td>0</td>\n",
              "    </tr>\n",
              "    <tr>\n",
              "      <th>3</th>\n",
              "      <td>1</td>\n",
              "      <td>0</td>\n",
              "      <td>0</td>\n",
              "    </tr>\n",
              "    <tr>\n",
              "      <th>4</th>\n",
              "      <td>1</td>\n",
              "      <td>0</td>\n",
              "      <td>0</td>\n",
              "    </tr>\n",
              "    <tr>\n",
              "      <th>...</th>\n",
              "      <td>...</td>\n",
              "      <td>...</td>\n",
              "      <td>...</td>\n",
              "    </tr>\n",
              "    <tr>\n",
              "      <th>145</th>\n",
              "      <td>0</td>\n",
              "      <td>0</td>\n",
              "      <td>1</td>\n",
              "    </tr>\n",
              "    <tr>\n",
              "      <th>146</th>\n",
              "      <td>0</td>\n",
              "      <td>0</td>\n",
              "      <td>1</td>\n",
              "    </tr>\n",
              "    <tr>\n",
              "      <th>147</th>\n",
              "      <td>0</td>\n",
              "      <td>0</td>\n",
              "      <td>1</td>\n",
              "    </tr>\n",
              "    <tr>\n",
              "      <th>148</th>\n",
              "      <td>0</td>\n",
              "      <td>0</td>\n",
              "      <td>1</td>\n",
              "    </tr>\n",
              "    <tr>\n",
              "      <th>149</th>\n",
              "      <td>0</td>\n",
              "      <td>0</td>\n",
              "      <td>1</td>\n",
              "    </tr>\n",
              "  </tbody>\n",
              "</table>\n",
              "<p>150 rows × 3 columns</p>\n",
              "</div>"
            ],
            "text/plain": [
              "     Iris-setosa  Iris-versicolor  Iris-virginica\n",
              "0              1                0               0\n",
              "1              1                0               0\n",
              "2              1                0               0\n",
              "3              1                0               0\n",
              "4              1                0               0\n",
              "..           ...              ...             ...\n",
              "145            0                0               1\n",
              "146            0                0               1\n",
              "147            0                0               1\n",
              "148            0                0               1\n",
              "149            0                0               1\n",
              "\n",
              "[150 rows x 3 columns]"
            ]
          },
          "metadata": {
            "tags": []
          },
          "execution_count": 20
        }
      ]
    },
    {
      "cell_type": "code",
      "metadata": {
        "id": "26kwc-1ixrr8",
        "colab_type": "code",
        "colab": {
          "base_uri": "https://localhost:8080/",
          "height": 419
        },
        "outputId": "f59a31cf-f131-468d-d281-5220cfd600fd"
      },
      "source": [
        "new_df = pandas.concat([df, category], axis=1)\n",
        "new_df = new_df.drop(columns='Species')\n",
        "new_df"
      ],
      "execution_count": 21,
      "outputs": [
        {
          "output_type": "execute_result",
          "data": {
            "text/html": [
              "<div>\n",
              "<style scoped>\n",
              "    .dataframe tbody tr th:only-of-type {\n",
              "        vertical-align: middle;\n",
              "    }\n",
              "\n",
              "    .dataframe tbody tr th {\n",
              "        vertical-align: top;\n",
              "    }\n",
              "\n",
              "    .dataframe thead th {\n",
              "        text-align: right;\n",
              "    }\n",
              "</style>\n",
              "<table border=\"1\" class=\"dataframe\">\n",
              "  <thead>\n",
              "    <tr style=\"text-align: right;\">\n",
              "      <th></th>\n",
              "      <th>SepalLengthCm</th>\n",
              "      <th>SepalWidthCm</th>\n",
              "      <th>PetalLengthCm</th>\n",
              "      <th>PetalWidthCm</th>\n",
              "      <th>Iris-setosa</th>\n",
              "      <th>Iris-versicolor</th>\n",
              "      <th>Iris-virginica</th>\n",
              "    </tr>\n",
              "  </thead>\n",
              "  <tbody>\n",
              "    <tr>\n",
              "      <th>0</th>\n",
              "      <td>5.1</td>\n",
              "      <td>3.5</td>\n",
              "      <td>1.4</td>\n",
              "      <td>0.2</td>\n",
              "      <td>1</td>\n",
              "      <td>0</td>\n",
              "      <td>0</td>\n",
              "    </tr>\n",
              "    <tr>\n",
              "      <th>1</th>\n",
              "      <td>4.9</td>\n",
              "      <td>3.0</td>\n",
              "      <td>1.4</td>\n",
              "      <td>0.2</td>\n",
              "      <td>1</td>\n",
              "      <td>0</td>\n",
              "      <td>0</td>\n",
              "    </tr>\n",
              "    <tr>\n",
              "      <th>2</th>\n",
              "      <td>4.7</td>\n",
              "      <td>3.2</td>\n",
              "      <td>1.3</td>\n",
              "      <td>0.2</td>\n",
              "      <td>1</td>\n",
              "      <td>0</td>\n",
              "      <td>0</td>\n",
              "    </tr>\n",
              "    <tr>\n",
              "      <th>3</th>\n",
              "      <td>4.6</td>\n",
              "      <td>3.1</td>\n",
              "      <td>1.5</td>\n",
              "      <td>0.2</td>\n",
              "      <td>1</td>\n",
              "      <td>0</td>\n",
              "      <td>0</td>\n",
              "    </tr>\n",
              "    <tr>\n",
              "      <th>4</th>\n",
              "      <td>5.0</td>\n",
              "      <td>3.6</td>\n",
              "      <td>1.4</td>\n",
              "      <td>0.2</td>\n",
              "      <td>1</td>\n",
              "      <td>0</td>\n",
              "      <td>0</td>\n",
              "    </tr>\n",
              "    <tr>\n",
              "      <th>...</th>\n",
              "      <td>...</td>\n",
              "      <td>...</td>\n",
              "      <td>...</td>\n",
              "      <td>...</td>\n",
              "      <td>...</td>\n",
              "      <td>...</td>\n",
              "      <td>...</td>\n",
              "    </tr>\n",
              "    <tr>\n",
              "      <th>145</th>\n",
              "      <td>6.7</td>\n",
              "      <td>3.0</td>\n",
              "      <td>5.2</td>\n",
              "      <td>2.3</td>\n",
              "      <td>0</td>\n",
              "      <td>0</td>\n",
              "      <td>1</td>\n",
              "    </tr>\n",
              "    <tr>\n",
              "      <th>146</th>\n",
              "      <td>6.3</td>\n",
              "      <td>2.5</td>\n",
              "      <td>5.0</td>\n",
              "      <td>1.9</td>\n",
              "      <td>0</td>\n",
              "      <td>0</td>\n",
              "      <td>1</td>\n",
              "    </tr>\n",
              "    <tr>\n",
              "      <th>147</th>\n",
              "      <td>6.5</td>\n",
              "      <td>3.0</td>\n",
              "      <td>5.2</td>\n",
              "      <td>2.0</td>\n",
              "      <td>0</td>\n",
              "      <td>0</td>\n",
              "      <td>1</td>\n",
              "    </tr>\n",
              "    <tr>\n",
              "      <th>148</th>\n",
              "      <td>6.2</td>\n",
              "      <td>3.4</td>\n",
              "      <td>5.4</td>\n",
              "      <td>2.3</td>\n",
              "      <td>0</td>\n",
              "      <td>0</td>\n",
              "      <td>1</td>\n",
              "    </tr>\n",
              "    <tr>\n",
              "      <th>149</th>\n",
              "      <td>5.9</td>\n",
              "      <td>3.0</td>\n",
              "      <td>5.1</td>\n",
              "      <td>1.8</td>\n",
              "      <td>0</td>\n",
              "      <td>0</td>\n",
              "      <td>1</td>\n",
              "    </tr>\n",
              "  </tbody>\n",
              "</table>\n",
              "<p>150 rows × 7 columns</p>\n",
              "</div>"
            ],
            "text/plain": [
              "     SepalLengthCm  SepalWidthCm  ...  Iris-versicolor  Iris-virginica\n",
              "0              5.1           3.5  ...                0               0\n",
              "1              4.9           3.0  ...                0               0\n",
              "2              4.7           3.2  ...                0               0\n",
              "3              4.6           3.1  ...                0               0\n",
              "4              5.0           3.6  ...                0               0\n",
              "..             ...           ...  ...              ...             ...\n",
              "145            6.7           3.0  ...                0               1\n",
              "146            6.3           2.5  ...                0               1\n",
              "147            6.5           3.0  ...                0               1\n",
              "148            6.2           3.4  ...                0               1\n",
              "149            5.9           3.0  ...                0               1\n",
              "\n",
              "[150 rows x 7 columns]"
            ]
          },
          "metadata": {
            "tags": []
          },
          "execution_count": 21
        }
      ]
    },
    {
      "cell_type": "code",
      "metadata": {
        "id": "q-Jwwo20yYY4",
        "colab_type": "code",
        "colab": {
          "base_uri": "https://localhost:8080/",
          "height": 150
        },
        "outputId": "1abf6b75-7a01-41f2-9ec8-a109b5132307"
      },
      "source": [
        "dataset = new_df.values\n",
        "dataset"
      ],
      "execution_count": 22,
      "outputs": [
        {
          "output_type": "execute_result",
          "data": {
            "text/plain": [
              "array([[5.1, 3.5, 1.4, ..., 1. , 0. , 0. ],\n",
              "       [4.9, 3. , 1.4, ..., 1. , 0. , 0. ],\n",
              "       [4.7, 3.2, 1.3, ..., 1. , 0. , 0. ],\n",
              "       ...,\n",
              "       [6.5, 3. , 5.2, ..., 0. , 0. , 1. ],\n",
              "       [6.2, 3.4, 5.4, ..., 0. , 0. , 1. ],\n",
              "       [5.9, 3. , 5.1, ..., 0. , 0. , 1. ]])"
            ]
          },
          "metadata": {
            "tags": []
          },
          "execution_count": 22
        }
      ]
    },
    {
      "cell_type": "code",
      "metadata": {
        "id": "FA1Dm7JnyfAs",
        "colab_type": "code",
        "colab": {}
      },
      "source": [
        "x = dataset[:, 0:4]\n",
        "y = dataset[:, 4:7]"
      ],
      "execution_count": 23,
      "outputs": []
    },
    {
      "cell_type": "code",
      "metadata": {
        "id": "gD5LnxJ_zihN",
        "colab_type": "code",
        "colab": {
          "base_uri": "https://localhost:8080/",
          "height": 1000
        },
        "outputId": "20b4b8c1-7939-43e1-c2e4-65f3cebc46f1"
      },
      "source": [
        "min_max_scaler = preprocessing.MinMaxScaler()\n",
        "x_scale = min_max_scaler.fit_transform(x)\n",
        "x_scale"
      ],
      "execution_count": 24,
      "outputs": [
        {
          "output_type": "execute_result",
          "data": {
            "text/plain": [
              "array([[0.22222222, 0.625     , 0.06779661, 0.04166667],\n",
              "       [0.16666667, 0.41666667, 0.06779661, 0.04166667],\n",
              "       [0.11111111, 0.5       , 0.05084746, 0.04166667],\n",
              "       [0.08333333, 0.45833333, 0.08474576, 0.04166667],\n",
              "       [0.19444444, 0.66666667, 0.06779661, 0.04166667],\n",
              "       [0.30555556, 0.79166667, 0.11864407, 0.125     ],\n",
              "       [0.08333333, 0.58333333, 0.06779661, 0.08333333],\n",
              "       [0.19444444, 0.58333333, 0.08474576, 0.04166667],\n",
              "       [0.02777778, 0.375     , 0.06779661, 0.04166667],\n",
              "       [0.16666667, 0.45833333, 0.08474576, 0.        ],\n",
              "       [0.30555556, 0.70833333, 0.08474576, 0.04166667],\n",
              "       [0.13888889, 0.58333333, 0.10169492, 0.04166667],\n",
              "       [0.13888889, 0.41666667, 0.06779661, 0.        ],\n",
              "       [0.        , 0.41666667, 0.01694915, 0.        ],\n",
              "       [0.41666667, 0.83333333, 0.03389831, 0.04166667],\n",
              "       [0.38888889, 1.        , 0.08474576, 0.125     ],\n",
              "       [0.30555556, 0.79166667, 0.05084746, 0.125     ],\n",
              "       [0.22222222, 0.625     , 0.06779661, 0.08333333],\n",
              "       [0.38888889, 0.75      , 0.11864407, 0.08333333],\n",
              "       [0.22222222, 0.75      , 0.08474576, 0.08333333],\n",
              "       [0.30555556, 0.58333333, 0.11864407, 0.04166667],\n",
              "       [0.22222222, 0.70833333, 0.08474576, 0.125     ],\n",
              "       [0.08333333, 0.66666667, 0.        , 0.04166667],\n",
              "       [0.22222222, 0.54166667, 0.11864407, 0.16666667],\n",
              "       [0.13888889, 0.58333333, 0.15254237, 0.04166667],\n",
              "       [0.19444444, 0.41666667, 0.10169492, 0.04166667],\n",
              "       [0.19444444, 0.58333333, 0.10169492, 0.125     ],\n",
              "       [0.25      , 0.625     , 0.08474576, 0.04166667],\n",
              "       [0.25      , 0.58333333, 0.06779661, 0.04166667],\n",
              "       [0.11111111, 0.5       , 0.10169492, 0.04166667],\n",
              "       [0.13888889, 0.45833333, 0.10169492, 0.04166667],\n",
              "       [0.30555556, 0.58333333, 0.08474576, 0.125     ],\n",
              "       [0.25      , 0.875     , 0.08474576, 0.        ],\n",
              "       [0.33333333, 0.91666667, 0.06779661, 0.04166667],\n",
              "       [0.16666667, 0.45833333, 0.08474576, 0.        ],\n",
              "       [0.19444444, 0.5       , 0.03389831, 0.04166667],\n",
              "       [0.33333333, 0.625     , 0.05084746, 0.04166667],\n",
              "       [0.16666667, 0.45833333, 0.08474576, 0.        ],\n",
              "       [0.02777778, 0.41666667, 0.05084746, 0.04166667],\n",
              "       [0.22222222, 0.58333333, 0.08474576, 0.04166667],\n",
              "       [0.19444444, 0.625     , 0.05084746, 0.08333333],\n",
              "       [0.05555556, 0.125     , 0.05084746, 0.08333333],\n",
              "       [0.02777778, 0.5       , 0.05084746, 0.04166667],\n",
              "       [0.19444444, 0.625     , 0.10169492, 0.20833333],\n",
              "       [0.22222222, 0.75      , 0.15254237, 0.125     ],\n",
              "       [0.13888889, 0.41666667, 0.06779661, 0.08333333],\n",
              "       [0.22222222, 0.75      , 0.10169492, 0.04166667],\n",
              "       [0.08333333, 0.5       , 0.06779661, 0.04166667],\n",
              "       [0.27777778, 0.70833333, 0.08474576, 0.04166667],\n",
              "       [0.19444444, 0.54166667, 0.06779661, 0.04166667],\n",
              "       [0.75      , 0.5       , 0.62711864, 0.54166667],\n",
              "       [0.58333333, 0.5       , 0.59322034, 0.58333333],\n",
              "       [0.72222222, 0.45833333, 0.66101695, 0.58333333],\n",
              "       [0.33333333, 0.125     , 0.50847458, 0.5       ],\n",
              "       [0.61111111, 0.33333333, 0.61016949, 0.58333333],\n",
              "       [0.38888889, 0.33333333, 0.59322034, 0.5       ],\n",
              "       [0.55555556, 0.54166667, 0.62711864, 0.625     ],\n",
              "       [0.16666667, 0.16666667, 0.38983051, 0.375     ],\n",
              "       [0.63888889, 0.375     , 0.61016949, 0.5       ],\n",
              "       [0.25      , 0.29166667, 0.49152542, 0.54166667],\n",
              "       [0.19444444, 0.        , 0.42372881, 0.375     ],\n",
              "       [0.44444444, 0.41666667, 0.54237288, 0.58333333],\n",
              "       [0.47222222, 0.08333333, 0.50847458, 0.375     ],\n",
              "       [0.5       , 0.375     , 0.62711864, 0.54166667],\n",
              "       [0.36111111, 0.375     , 0.44067797, 0.5       ],\n",
              "       [0.66666667, 0.45833333, 0.57627119, 0.54166667],\n",
              "       [0.36111111, 0.41666667, 0.59322034, 0.58333333],\n",
              "       [0.41666667, 0.29166667, 0.52542373, 0.375     ],\n",
              "       [0.52777778, 0.08333333, 0.59322034, 0.58333333],\n",
              "       [0.36111111, 0.20833333, 0.49152542, 0.41666667],\n",
              "       [0.44444444, 0.5       , 0.6440678 , 0.70833333],\n",
              "       [0.5       , 0.33333333, 0.50847458, 0.5       ],\n",
              "       [0.55555556, 0.20833333, 0.66101695, 0.58333333],\n",
              "       [0.5       , 0.33333333, 0.62711864, 0.45833333],\n",
              "       [0.58333333, 0.375     , 0.55932203, 0.5       ],\n",
              "       [0.63888889, 0.41666667, 0.57627119, 0.54166667],\n",
              "       [0.69444444, 0.33333333, 0.6440678 , 0.54166667],\n",
              "       [0.66666667, 0.41666667, 0.6779661 , 0.66666667],\n",
              "       [0.47222222, 0.375     , 0.59322034, 0.58333333],\n",
              "       [0.38888889, 0.25      , 0.42372881, 0.375     ],\n",
              "       [0.33333333, 0.16666667, 0.47457627, 0.41666667],\n",
              "       [0.33333333, 0.16666667, 0.45762712, 0.375     ],\n",
              "       [0.41666667, 0.29166667, 0.49152542, 0.45833333],\n",
              "       [0.47222222, 0.29166667, 0.69491525, 0.625     ],\n",
              "       [0.30555556, 0.41666667, 0.59322034, 0.58333333],\n",
              "       [0.47222222, 0.58333333, 0.59322034, 0.625     ],\n",
              "       [0.66666667, 0.45833333, 0.62711864, 0.58333333],\n",
              "       [0.55555556, 0.125     , 0.57627119, 0.5       ],\n",
              "       [0.36111111, 0.41666667, 0.52542373, 0.5       ],\n",
              "       [0.33333333, 0.20833333, 0.50847458, 0.5       ],\n",
              "       [0.33333333, 0.25      , 0.57627119, 0.45833333],\n",
              "       [0.5       , 0.41666667, 0.61016949, 0.54166667],\n",
              "       [0.41666667, 0.25      , 0.50847458, 0.45833333],\n",
              "       [0.19444444, 0.125     , 0.38983051, 0.375     ],\n",
              "       [0.36111111, 0.29166667, 0.54237288, 0.5       ],\n",
              "       [0.38888889, 0.41666667, 0.54237288, 0.45833333],\n",
              "       [0.38888889, 0.375     , 0.54237288, 0.5       ],\n",
              "       [0.52777778, 0.375     , 0.55932203, 0.5       ],\n",
              "       [0.22222222, 0.20833333, 0.33898305, 0.41666667],\n",
              "       [0.38888889, 0.33333333, 0.52542373, 0.5       ],\n",
              "       [0.55555556, 0.54166667, 0.84745763, 1.        ],\n",
              "       [0.41666667, 0.29166667, 0.69491525, 0.75      ],\n",
              "       [0.77777778, 0.41666667, 0.83050847, 0.83333333],\n",
              "       [0.55555556, 0.375     , 0.77966102, 0.70833333],\n",
              "       [0.61111111, 0.41666667, 0.81355932, 0.875     ],\n",
              "       [0.91666667, 0.41666667, 0.94915254, 0.83333333],\n",
              "       [0.16666667, 0.20833333, 0.59322034, 0.66666667],\n",
              "       [0.83333333, 0.375     , 0.89830508, 0.70833333],\n",
              "       [0.66666667, 0.20833333, 0.81355932, 0.70833333],\n",
              "       [0.80555556, 0.66666667, 0.86440678, 1.        ],\n",
              "       [0.61111111, 0.5       , 0.69491525, 0.79166667],\n",
              "       [0.58333333, 0.29166667, 0.72881356, 0.75      ],\n",
              "       [0.69444444, 0.41666667, 0.76271186, 0.83333333],\n",
              "       [0.38888889, 0.20833333, 0.6779661 , 0.79166667],\n",
              "       [0.41666667, 0.33333333, 0.69491525, 0.95833333],\n",
              "       [0.58333333, 0.5       , 0.72881356, 0.91666667],\n",
              "       [0.61111111, 0.41666667, 0.76271186, 0.70833333],\n",
              "       [0.94444444, 0.75      , 0.96610169, 0.875     ],\n",
              "       [0.94444444, 0.25      , 1.        , 0.91666667],\n",
              "       [0.47222222, 0.08333333, 0.6779661 , 0.58333333],\n",
              "       [0.72222222, 0.5       , 0.79661017, 0.91666667],\n",
              "       [0.36111111, 0.33333333, 0.66101695, 0.79166667],\n",
              "       [0.94444444, 0.33333333, 0.96610169, 0.79166667],\n",
              "       [0.55555556, 0.29166667, 0.66101695, 0.70833333],\n",
              "       [0.66666667, 0.54166667, 0.79661017, 0.83333333],\n",
              "       [0.80555556, 0.5       , 0.84745763, 0.70833333],\n",
              "       [0.52777778, 0.33333333, 0.6440678 , 0.70833333],\n",
              "       [0.5       , 0.41666667, 0.66101695, 0.70833333],\n",
              "       [0.58333333, 0.33333333, 0.77966102, 0.83333333],\n",
              "       [0.80555556, 0.41666667, 0.81355932, 0.625     ],\n",
              "       [0.86111111, 0.33333333, 0.86440678, 0.75      ],\n",
              "       [1.        , 0.75      , 0.91525424, 0.79166667],\n",
              "       [0.58333333, 0.33333333, 0.77966102, 0.875     ],\n",
              "       [0.55555556, 0.33333333, 0.69491525, 0.58333333],\n",
              "       [0.5       , 0.25      , 0.77966102, 0.54166667],\n",
              "       [0.94444444, 0.41666667, 0.86440678, 0.91666667],\n",
              "       [0.55555556, 0.58333333, 0.77966102, 0.95833333],\n",
              "       [0.58333333, 0.45833333, 0.76271186, 0.70833333],\n",
              "       [0.47222222, 0.41666667, 0.6440678 , 0.70833333],\n",
              "       [0.72222222, 0.45833333, 0.74576271, 0.83333333],\n",
              "       [0.66666667, 0.45833333, 0.77966102, 0.95833333],\n",
              "       [0.72222222, 0.45833333, 0.69491525, 0.91666667],\n",
              "       [0.41666667, 0.29166667, 0.69491525, 0.75      ],\n",
              "       [0.69444444, 0.5       , 0.83050847, 0.91666667],\n",
              "       [0.66666667, 0.54166667, 0.79661017, 1.        ],\n",
              "       [0.66666667, 0.41666667, 0.71186441, 0.91666667],\n",
              "       [0.55555556, 0.20833333, 0.6779661 , 0.75      ],\n",
              "       [0.61111111, 0.41666667, 0.71186441, 0.79166667],\n",
              "       [0.52777778, 0.58333333, 0.74576271, 0.91666667],\n",
              "       [0.44444444, 0.41666667, 0.69491525, 0.70833333]])"
            ]
          },
          "metadata": {
            "tags": []
          },
          "execution_count": 24
        }
      ]
    },
    {
      "cell_type": "code",
      "metadata": {
        "id": "ew1jKpK7Bz2V",
        "colab_type": "code",
        "colab": {}
      },
      "source": [
        "x_train, x_test, y_train, y_test = train_test_split(x_scale, y, test_size=0.2)\n",
        "x_train, x_val, y_train, y_val = train_test_split(x_train, y_train, test_size=0.25)"
      ],
      "execution_count": 27,
      "outputs": []
    },
    {
      "cell_type": "code",
      "metadata": {
        "id": "AIW0A16sz85d",
        "colab_type": "code",
        "colab": {}
      },
      "source": [
        "model = Sequential([\n",
        "                    Dense(64, activation='relu', input_shape=(4,)),\n",
        "                    Dense(64, activation='relu'),\n",
        "                    Dense(3, activation='softmax')\n",
        "\n",
        "])\n",
        "\n",
        "model.compile(\n",
        "    optimizer='Adam',\n",
        "    loss='categorical_crossentropy',\n",
        "    metrics=['accuracy']\n",
        ")"
      ],
      "execution_count": 29,
      "outputs": []
    },
    {
      "cell_type": "code",
      "metadata": {
        "id": "ra6N6ZgHBl14",
        "colab_type": "code",
        "colab": {
          "base_uri": "https://localhost:8080/",
          "height": 1000
        },
        "outputId": "01b8737f-86bf-48c6-9a6e-debe9229306c"
      },
      "source": [
        "hist = model.fit(x_train, y_train, epochs=100, validation_data=(x_val, y_val))"
      ],
      "execution_count": 30,
      "outputs": [
        {
          "output_type": "stream",
          "text": [
            "Epoch 1/100\n",
            "3/3 [==============================] - 0s 53ms/step - loss: 1.0607 - accuracy: 0.6778 - val_loss: 1.0499 - val_accuracy: 0.6000\n",
            "Epoch 2/100\n",
            "3/3 [==============================] - 0s 8ms/step - loss: 1.0323 - accuracy: 0.6778 - val_loss: 1.0264 - val_accuracy: 0.6000\n",
            "Epoch 3/100\n",
            "3/3 [==============================] - 0s 7ms/step - loss: 1.0087 - accuracy: 0.6778 - val_loss: 1.0056 - val_accuracy: 0.6000\n",
            "Epoch 4/100\n",
            "3/3 [==============================] - 0s 6ms/step - loss: 0.9875 - accuracy: 0.6889 - val_loss: 0.9855 - val_accuracy: 0.6000\n",
            "Epoch 5/100\n",
            "3/3 [==============================] - 0s 6ms/step - loss: 0.9659 - accuracy: 0.6889 - val_loss: 0.9649 - val_accuracy: 0.6000\n",
            "Epoch 6/100\n",
            "3/3 [==============================] - 0s 6ms/step - loss: 0.9435 - accuracy: 0.6889 - val_loss: 0.9430 - val_accuracy: 0.6000\n",
            "Epoch 7/100\n",
            "3/3 [==============================] - 0s 6ms/step - loss: 0.9215 - accuracy: 0.6889 - val_loss: 0.9227 - val_accuracy: 0.6000\n",
            "Epoch 8/100\n",
            "3/3 [==============================] - 0s 6ms/step - loss: 0.8990 - accuracy: 0.6889 - val_loss: 0.9020 - val_accuracy: 0.6000\n",
            "Epoch 9/100\n",
            "3/3 [==============================] - 0s 6ms/step - loss: 0.8749 - accuracy: 0.6889 - val_loss: 0.8803 - val_accuracy: 0.6000\n",
            "Epoch 10/100\n",
            "3/3 [==============================] - 0s 6ms/step - loss: 0.8510 - accuracy: 0.6889 - val_loss: 0.8597 - val_accuracy: 0.6000\n",
            "Epoch 11/100\n",
            "3/3 [==============================] - 0s 6ms/step - loss: 0.8253 - accuracy: 0.6889 - val_loss: 0.8378 - val_accuracy: 0.6000\n",
            "Epoch 12/100\n",
            "3/3 [==============================] - 0s 6ms/step - loss: 0.8001 - accuracy: 0.6889 - val_loss: 0.8152 - val_accuracy: 0.6000\n",
            "Epoch 13/100\n",
            "3/3 [==============================] - 0s 6ms/step - loss: 0.7721 - accuracy: 0.6889 - val_loss: 0.7906 - val_accuracy: 0.6000\n",
            "Epoch 14/100\n",
            "3/3 [==============================] - 0s 6ms/step - loss: 0.7440 - accuracy: 0.6889 - val_loss: 0.7657 - val_accuracy: 0.6000\n",
            "Epoch 15/100\n",
            "3/3 [==============================] - 0s 6ms/step - loss: 0.7168 - accuracy: 0.6889 - val_loss: 0.7422 - val_accuracy: 0.6000\n",
            "Epoch 16/100\n",
            "3/3 [==============================] - 0s 6ms/step - loss: 0.6894 - accuracy: 0.6889 - val_loss: 0.7173 - val_accuracy: 0.6000\n",
            "Epoch 17/100\n",
            "3/3 [==============================] - 0s 6ms/step - loss: 0.6606 - accuracy: 0.6889 - val_loss: 0.6940 - val_accuracy: 0.6000\n",
            "Epoch 18/100\n",
            "3/3 [==============================] - 0s 5ms/step - loss: 0.6337 - accuracy: 0.7000 - val_loss: 0.6694 - val_accuracy: 0.6000\n",
            "Epoch 19/100\n",
            "3/3 [==============================] - 0s 6ms/step - loss: 0.6073 - accuracy: 0.7333 - val_loss: 0.6458 - val_accuracy: 0.6000\n",
            "Epoch 20/100\n",
            "3/3 [==============================] - 0s 6ms/step - loss: 0.5803 - accuracy: 0.7444 - val_loss: 0.6227 - val_accuracy: 0.6000\n",
            "Epoch 21/100\n",
            "3/3 [==============================] - 0s 8ms/step - loss: 0.5558 - accuracy: 0.7556 - val_loss: 0.5993 - val_accuracy: 0.6000\n",
            "Epoch 22/100\n",
            "3/3 [==============================] - 0s 6ms/step - loss: 0.5295 - accuracy: 0.7778 - val_loss: 0.5791 - val_accuracy: 0.6000\n",
            "Epoch 23/100\n",
            "3/3 [==============================] - 0s 6ms/step - loss: 0.5076 - accuracy: 0.7778 - val_loss: 0.5603 - val_accuracy: 0.6000\n",
            "Epoch 24/100\n",
            "3/3 [==============================] - 0s 6ms/step - loss: 0.4868 - accuracy: 0.7889 - val_loss: 0.5420 - val_accuracy: 0.6333\n",
            "Epoch 25/100\n",
            "3/3 [==============================] - 0s 6ms/step - loss: 0.4684 - accuracy: 0.8111 - val_loss: 0.5238 - val_accuracy: 0.6333\n",
            "Epoch 26/100\n",
            "3/3 [==============================] - 0s 7ms/step - loss: 0.4510 - accuracy: 0.8111 - val_loss: 0.5094 - val_accuracy: 0.6333\n",
            "Epoch 27/100\n",
            "3/3 [==============================] - 0s 6ms/step - loss: 0.4346 - accuracy: 0.8333 - val_loss: 0.4907 - val_accuracy: 0.7333\n",
            "Epoch 28/100\n",
            "3/3 [==============================] - 0s 6ms/step - loss: 0.4190 - accuracy: 0.8556 - val_loss: 0.4755 - val_accuracy: 0.7667\n",
            "Epoch 29/100\n",
            "3/3 [==============================] - 0s 5ms/step - loss: 0.4053 - accuracy: 0.8778 - val_loss: 0.4620 - val_accuracy: 0.7667\n",
            "Epoch 30/100\n",
            "3/3 [==============================] - 0s 6ms/step - loss: 0.3928 - accuracy: 0.9000 - val_loss: 0.4498 - val_accuracy: 0.7667\n",
            "Epoch 31/100\n",
            "3/3 [==============================] - 0s 6ms/step - loss: 0.3803 - accuracy: 0.9000 - val_loss: 0.4349 - val_accuracy: 0.8667\n",
            "Epoch 32/100\n",
            "3/3 [==============================] - 0s 6ms/step - loss: 0.3693 - accuracy: 0.9111 - val_loss: 0.4233 - val_accuracy: 0.9000\n",
            "Epoch 33/100\n",
            "3/3 [==============================] - 0s 6ms/step - loss: 0.3579 - accuracy: 0.9222 - val_loss: 0.4098 - val_accuracy: 0.9333\n",
            "Epoch 34/100\n",
            "3/3 [==============================] - 0s 6ms/step - loss: 0.3472 - accuracy: 0.9667 - val_loss: 0.3990 - val_accuracy: 0.9333\n",
            "Epoch 35/100\n",
            "3/3 [==============================] - 0s 6ms/step - loss: 0.3374 - accuracy: 0.9667 - val_loss: 0.3909 - val_accuracy: 0.9333\n",
            "Epoch 36/100\n",
            "3/3 [==============================] - 0s 6ms/step - loss: 0.3274 - accuracy: 0.9556 - val_loss: 0.3770 - val_accuracy: 0.9333\n",
            "Epoch 37/100\n",
            "3/3 [==============================] - 0s 7ms/step - loss: 0.3176 - accuracy: 0.9778 - val_loss: 0.3650 - val_accuracy: 0.9333\n",
            "Epoch 38/100\n",
            "3/3 [==============================] - 0s 6ms/step - loss: 0.3073 - accuracy: 0.9778 - val_loss: 0.3554 - val_accuracy: 0.9333\n",
            "Epoch 39/100\n",
            "3/3 [==============================] - 0s 5ms/step - loss: 0.2986 - accuracy: 0.9778 - val_loss: 0.3479 - val_accuracy: 0.9333\n",
            "Epoch 40/100\n",
            "3/3 [==============================] - 0s 5ms/step - loss: 0.2889 - accuracy: 0.9778 - val_loss: 0.3334 - val_accuracy: 0.9667\n",
            "Epoch 41/100\n",
            "3/3 [==============================] - 0s 5ms/step - loss: 0.2803 - accuracy: 0.9778 - val_loss: 0.3188 - val_accuracy: 0.9667\n",
            "Epoch 42/100\n",
            "3/3 [==============================] - 0s 5ms/step - loss: 0.2733 - accuracy: 0.9778 - val_loss: 0.3140 - val_accuracy: 0.9667\n",
            "Epoch 43/100\n",
            "3/3 [==============================] - 0s 7ms/step - loss: 0.2619 - accuracy: 0.9778 - val_loss: 0.3002 - val_accuracy: 0.9667\n",
            "Epoch 44/100\n",
            "3/3 [==============================] - 0s 5ms/step - loss: 0.2535 - accuracy: 0.9778 - val_loss: 0.2904 - val_accuracy: 0.9667\n",
            "Epoch 45/100\n",
            "3/3 [==============================] - 0s 5ms/step - loss: 0.2472 - accuracy: 0.9778 - val_loss: 0.2780 - val_accuracy: 0.9667\n",
            "Epoch 46/100\n",
            "3/3 [==============================] - 0s 6ms/step - loss: 0.2376 - accuracy: 0.9778 - val_loss: 0.2726 - val_accuracy: 0.9667\n",
            "Epoch 47/100\n",
            "3/3 [==============================] - 0s 6ms/step - loss: 0.2297 - accuracy: 0.9778 - val_loss: 0.2685 - val_accuracy: 0.9667\n",
            "Epoch 48/100\n",
            "3/3 [==============================] - 0s 6ms/step - loss: 0.2230 - accuracy: 0.9778 - val_loss: 0.2591 - val_accuracy: 0.9667\n",
            "Epoch 49/100\n",
            "3/3 [==============================] - 0s 6ms/step - loss: 0.2175 - accuracy: 0.9778 - val_loss: 0.2422 - val_accuracy: 0.9667\n",
            "Epoch 50/100\n",
            "3/3 [==============================] - 0s 6ms/step - loss: 0.2085 - accuracy: 0.9778 - val_loss: 0.2350 - val_accuracy: 0.9667\n",
            "Epoch 51/100\n",
            "3/3 [==============================] - 0s 6ms/step - loss: 0.2024 - accuracy: 0.9778 - val_loss: 0.2324 - val_accuracy: 0.9667\n",
            "Epoch 52/100\n",
            "3/3 [==============================] - 0s 6ms/step - loss: 0.1968 - accuracy: 0.9778 - val_loss: 0.2221 - val_accuracy: 0.9667\n",
            "Epoch 53/100\n",
            "3/3 [==============================] - 0s 6ms/step - loss: 0.1897 - accuracy: 0.9778 - val_loss: 0.2127 - val_accuracy: 0.9667\n",
            "Epoch 54/100\n",
            "3/3 [==============================] - 0s 6ms/step - loss: 0.1839 - accuracy: 0.9667 - val_loss: 0.2069 - val_accuracy: 0.9667\n",
            "Epoch 55/100\n",
            "3/3 [==============================] - 0s 6ms/step - loss: 0.1786 - accuracy: 0.9667 - val_loss: 0.2012 - val_accuracy: 0.9667\n",
            "Epoch 56/100\n",
            "3/3 [==============================] - 0s 5ms/step - loss: 0.1741 - accuracy: 0.9667 - val_loss: 0.1954 - val_accuracy: 0.9667\n",
            "Epoch 57/100\n",
            "3/3 [==============================] - 0s 5ms/step - loss: 0.1684 - accuracy: 0.9778 - val_loss: 0.1963 - val_accuracy: 0.9667\n",
            "Epoch 58/100\n",
            "3/3 [==============================] - 0s 6ms/step - loss: 0.1642 - accuracy: 0.9778 - val_loss: 0.1896 - val_accuracy: 0.9667\n",
            "Epoch 59/100\n",
            "3/3 [==============================] - 0s 6ms/step - loss: 0.1588 - accuracy: 0.9778 - val_loss: 0.1758 - val_accuracy: 0.9667\n",
            "Epoch 60/100\n",
            "3/3 [==============================] - 0s 6ms/step - loss: 0.1552 - accuracy: 0.9667 - val_loss: 0.1654 - val_accuracy: 0.9667\n",
            "Epoch 61/100\n",
            "3/3 [==============================] - 0s 6ms/step - loss: 0.1516 - accuracy: 0.9667 - val_loss: 0.1636 - val_accuracy: 0.9667\n",
            "Epoch 62/100\n",
            "3/3 [==============================] - 0s 6ms/step - loss: 0.1473 - accuracy: 0.9667 - val_loss: 0.1652 - val_accuracy: 0.9667\n",
            "Epoch 63/100\n",
            "3/3 [==============================] - 0s 6ms/step - loss: 0.1443 - accuracy: 0.9667 - val_loss: 0.1589 - val_accuracy: 0.9667\n",
            "Epoch 64/100\n",
            "3/3 [==============================] - 0s 6ms/step - loss: 0.1401 - accuracy: 0.9667 - val_loss: 0.1634 - val_accuracy: 0.9667\n",
            "Epoch 65/100\n",
            "3/3 [==============================] - 0s 8ms/step - loss: 0.1380 - accuracy: 0.9667 - val_loss: 0.1535 - val_accuracy: 0.9667\n",
            "Epoch 66/100\n",
            "3/3 [==============================] - 0s 6ms/step - loss: 0.1332 - accuracy: 0.9667 - val_loss: 0.1501 - val_accuracy: 0.9667\n",
            "Epoch 67/100\n",
            "3/3 [==============================] - 0s 6ms/step - loss: 0.1302 - accuracy: 0.9667 - val_loss: 0.1453 - val_accuracy: 0.9667\n",
            "Epoch 68/100\n",
            "3/3 [==============================] - 0s 6ms/step - loss: 0.1284 - accuracy: 0.9667 - val_loss: 0.1353 - val_accuracy: 0.9667\n",
            "Epoch 69/100\n",
            "3/3 [==============================] - 0s 6ms/step - loss: 0.1267 - accuracy: 0.9667 - val_loss: 0.1406 - val_accuracy: 0.9667\n",
            "Epoch 70/100\n",
            "3/3 [==============================] - 0s 6ms/step - loss: 0.1220 - accuracy: 0.9667 - val_loss: 0.1370 - val_accuracy: 0.9667\n",
            "Epoch 71/100\n",
            "3/3 [==============================] - 0s 5ms/step - loss: 0.1196 - accuracy: 0.9667 - val_loss: 0.1321 - val_accuracy: 0.9667\n",
            "Epoch 72/100\n",
            "3/3 [==============================] - 0s 6ms/step - loss: 0.1194 - accuracy: 0.9667 - val_loss: 0.1247 - val_accuracy: 0.9667\n",
            "Epoch 73/100\n",
            "3/3 [==============================] - 0s 6ms/step - loss: 0.1149 - accuracy: 0.9667 - val_loss: 0.1264 - val_accuracy: 0.9667\n",
            "Epoch 74/100\n",
            "3/3 [==============================] - 0s 6ms/step - loss: 0.1159 - accuracy: 0.9667 - val_loss: 0.1343 - val_accuracy: 0.9667\n",
            "Epoch 75/100\n",
            "3/3 [==============================] - 0s 6ms/step - loss: 0.1109 - accuracy: 0.9778 - val_loss: 0.1237 - val_accuracy: 0.9667\n",
            "Epoch 76/100\n",
            "3/3 [==============================] - 0s 6ms/step - loss: 0.1089 - accuracy: 0.9667 - val_loss: 0.1141 - val_accuracy: 0.9667\n",
            "Epoch 77/100\n",
            "3/3 [==============================] - 0s 6ms/step - loss: 0.1090 - accuracy: 0.9667 - val_loss: 0.1116 - val_accuracy: 0.9667\n",
            "Epoch 78/100\n",
            "3/3 [==============================] - 0s 6ms/step - loss: 0.1054 - accuracy: 0.9667 - val_loss: 0.1230 - val_accuracy: 0.9667\n",
            "Epoch 79/100\n",
            "3/3 [==============================] - 0s 6ms/step - loss: 0.1036 - accuracy: 0.9778 - val_loss: 0.1242 - val_accuracy: 0.9667\n",
            "Epoch 80/100\n",
            "3/3 [==============================] - 0s 6ms/step - loss: 0.1030 - accuracy: 0.9778 - val_loss: 0.1190 - val_accuracy: 0.9667\n",
            "Epoch 81/100\n",
            "3/3 [==============================] - 0s 6ms/step - loss: 0.1003 - accuracy: 0.9667 - val_loss: 0.1112 - val_accuracy: 0.9667\n",
            "Epoch 82/100\n",
            "3/3 [==============================] - 0s 6ms/step - loss: 0.0998 - accuracy: 0.9667 - val_loss: 0.1044 - val_accuracy: 0.9667\n",
            "Epoch 83/100\n",
            "3/3 [==============================] - 0s 6ms/step - loss: 0.0982 - accuracy: 0.9667 - val_loss: 0.1005 - val_accuracy: 0.9667\n",
            "Epoch 84/100\n",
            "3/3 [==============================] - 0s 6ms/step - loss: 0.0966 - accuracy: 0.9667 - val_loss: 0.1045 - val_accuracy: 0.9667\n",
            "Epoch 85/100\n",
            "3/3 [==============================] - 0s 6ms/step - loss: 0.0979 - accuracy: 0.9778 - val_loss: 0.1204 - val_accuracy: 0.9667\n",
            "Epoch 86/100\n",
            "3/3 [==============================] - 0s 7ms/step - loss: 0.0952 - accuracy: 0.9778 - val_loss: 0.1136 - val_accuracy: 0.9667\n",
            "Epoch 87/100\n",
            "3/3 [==============================] - 0s 6ms/step - loss: 0.0926 - accuracy: 0.9667 - val_loss: 0.0987 - val_accuracy: 0.9667\n",
            "Epoch 88/100\n",
            "3/3 [==============================] - 0s 5ms/step - loss: 0.0918 - accuracy: 0.9667 - val_loss: 0.0951 - val_accuracy: 0.9667\n",
            "Epoch 89/100\n",
            "3/3 [==============================] - 0s 6ms/step - loss: 0.0908 - accuracy: 0.9778 - val_loss: 0.0950 - val_accuracy: 0.9667\n",
            "Epoch 90/100\n",
            "3/3 [==============================] - 0s 5ms/step - loss: 0.0897 - accuracy: 0.9667 - val_loss: 0.1084 - val_accuracy: 0.9667\n",
            "Epoch 91/100\n",
            "3/3 [==============================] - 0s 5ms/step - loss: 0.0900 - accuracy: 0.9778 - val_loss: 0.1116 - val_accuracy: 0.9667\n",
            "Epoch 92/100\n",
            "3/3 [==============================] - 0s 6ms/step - loss: 0.0870 - accuracy: 0.9778 - val_loss: 0.1004 - val_accuracy: 0.9667\n",
            "Epoch 93/100\n",
            "3/3 [==============================] - 0s 6ms/step - loss: 0.0868 - accuracy: 0.9778 - val_loss: 0.0844 - val_accuracy: 0.9667\n",
            "Epoch 94/100\n",
            "3/3 [==============================] - 0s 6ms/step - loss: 0.0884 - accuracy: 0.9667 - val_loss: 0.0839 - val_accuracy: 0.9667\n",
            "Epoch 95/100\n",
            "3/3 [==============================] - 0s 6ms/step - loss: 0.0846 - accuracy: 0.9667 - val_loss: 0.0993 - val_accuracy: 0.9667\n",
            "Epoch 96/100\n",
            "3/3 [==============================] - 0s 6ms/step - loss: 0.0824 - accuracy: 0.9778 - val_loss: 0.1072 - val_accuracy: 0.9667\n",
            "Epoch 97/100\n",
            "3/3 [==============================] - 0s 6ms/step - loss: 0.0831 - accuracy: 0.9778 - val_loss: 0.1042 - val_accuracy: 0.9667\n",
            "Epoch 98/100\n",
            "3/3 [==============================] - 0s 6ms/step - loss: 0.0820 - accuracy: 0.9778 - val_loss: 0.1000 - val_accuracy: 0.9667\n",
            "Epoch 99/100\n",
            "3/3 [==============================] - 0s 6ms/step - loss: 0.0794 - accuracy: 0.9667 - val_loss: 0.0901 - val_accuracy: 0.9667\n",
            "Epoch 100/100\n",
            "3/3 [==============================] - 0s 5ms/step - loss: 0.0810 - accuracy: 0.9667 - val_loss: 0.0790 - val_accuracy: 0.9667\n"
          ],
          "name": "stdout"
        }
      ]
    },
    {
      "cell_type": "code",
      "metadata": {
        "id": "HlJG086xBvxh",
        "colab_type": "code",
        "colab": {
          "base_uri": "https://localhost:8080/",
          "height": 55
        },
        "outputId": "871fb6ae-ca94-42fc-bef4-2955315f03cc"
      },
      "source": [
        "model.evaluate(x_test, y_test)"
      ],
      "execution_count": 31,
      "outputs": [
        {
          "output_type": "stream",
          "text": [
            "1/1 [==============================] - 0s 1ms/step - loss: 0.1013 - accuracy: 0.9667\n"
          ],
          "name": "stdout"
        },
        {
          "output_type": "execute_result",
          "data": {
            "text/plain": [
              "[0.10127101093530655, 0.9666666388511658]"
            ]
          },
          "metadata": {
            "tags": []
          },
          "execution_count": 31
        }
      ]
    },
    {
      "cell_type": "code",
      "metadata": {
        "id": "xbCKSpyoCjzI",
        "colab_type": "code",
        "colab": {
          "base_uri": "https://localhost:8080/",
          "height": 573
        },
        "outputId": "b681c419-f4e6-4e03-8e51-dd6518252354"
      },
      "source": [
        "import matplotlib.pyplot as plt\n",
        "\n",
        "plt.plot(hist.history['loss'])\n",
        "plt.plot(hist.history['val_loss'])\n",
        "plt.title('Model loss')\n",
        "plt.ylabel('Loss')\n",
        "plt.xlabel('Epoch')\n",
        "plt.legend(['Train', 'Val'])\n",
        "plt.figure()\n",
        "\n",
        "plt.plot(hist.history['accuracy'])\n",
        "plt.plot(hist.history['val_accuracy'])\n",
        "plt.title('Model acc')\n",
        "plt.ylabel('acc')\n",
        "plt.xlabel('Epoch')\n",
        "plt.legend(['Train', 'Val'])\n",
        "plt.show()"
      ],
      "execution_count": 32,
      "outputs": [
        {
          "output_type": "display_data",
          "data": {
            "image/png": "[encoded data removed]",
            "text/plain": [
              "<Figure size 432x288 with 1 Axes>"
            ]
          },
          "metadata": {
            "tags": [],
            "needs_background": "light"
          }
        },
        {
          "output_type": "display_data",
          "data": {
            "image/png": "[encoded data removed]",
            "text/plain": [
              "<Figure size 432x288 with 1 Axes>"
            ]
          },
          "metadata": {
            "tags": [],
            "needs_background": "light"
          }
        }
      ]
    },
    {
      "cell_type": "code",
      "metadata": {
        "id": "VvU-oMuYEgNE",
        "colab_type": "code",
        "colab": {}
      },
      "source": [
        ""
      ],
      "execution_count": null,
      "outputs": []
    }
  ]
}