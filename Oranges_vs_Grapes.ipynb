{
  "nbformat": 4,
  "nbformat_minor": 0,
  "metadata": {
    "colab": {
      "name": "Oranges-vs-Grapes.ipynb",
      "provenance": [],
      "mount_file_id": "1idi4CqRhUiB9SRvMu-ko6UexV47Ty6f3",
      "authorship_tag": "ABX9TyNUbiPk6xoO3H1/weGr17nv",
      "include_colab_link": true
    },
    "kernelspec": {
      "name": "python3",
      "display_name": "Python 3"
    }
  },
  "cells": [
    {
      "cell_type": "markdown",
      "metadata": {
        "id": "view-in-github",
        "colab_type": "text"
      },
      "source": [
        "<a href=\"https://colab.research.google.com/github/aemiralfath/BPML-Dicoding/blob/master/Oranges_vs_Grapes.ipynb\" target=\"_parent\"><img src=\"https://colab.research.google.com/assets/colab-badge.svg\" alt=\"Open In Colab\"/></a>"
      ]
    },
    {
      "cell_type": "code",
      "metadata": {
        "id": "d6O2JqGqJo6D",
        "colab_type": "code",
        "colab": {
          "base_uri": "https://localhost:8080/",
          "height": 36
        },
        "outputId": "9ab9744d-7c02-4ca9-9d89-942ba27de06a"
      },
      "source": [
        "from google.colab import drive\n",
        "drive.mount('/content/drive')"
      ],
      "execution_count": null,
      "outputs": [
        {
          "output_type": "stream",
          "text": [
            "Drive already mounted at /content/drive; to attempt to forcibly remount, call drive.mount(\"/content/drive\", force_remount=True).\n"
          ],
          "name": "stdout"
        }
      ]
    },
    {
      "cell_type": "code",
      "metadata": {
        "id": "y_HU-gR7KG5y",
        "colab_type": "code",
        "colab": {
          "base_uri": "https://localhost:8080/",
          "height": 284
        },
        "outputId": "f3fb9408-edcd-4475-e67b-3cae0276e3b3"
      },
      "source": [
        "!pip install --upgrade --force-reinstall --no-deps kaggle\n",
        "! mkdir /root/.kaggle/\n",
        "! cp \"/content/drive/My Drive/Machine Learning/kaggle.json\" /root/.kaggle/\n",
        "! chmod 600 /root/.kaggle/kaggle.json"
      ],
      "execution_count": null,
      "outputs": [
        {
          "output_type": "stream",
          "text": [
            "Collecting kaggle\n",
            "\u001b[?25l  Downloading https://files.pythonhosted.org/packages/62/ab/bb20f9b9e24f9a6250f95a432f8d9a7d745f8d24039d7a5a6eaadb7783ba/kaggle-1.5.6.tar.gz (58kB)\n",
            "\r\u001b[K     |█████▋                          | 10kB 17.2MB/s eta 0:00:01\r\u001b[K     |███████████▎                    | 20kB 6.4MB/s eta 0:00:01\r\u001b[K     |█████████████████               | 30kB 7.5MB/s eta 0:00:01\r\u001b[K     |██████████████████████▌         | 40kB 8.5MB/s eta 0:00:01\r\u001b[K     |████████████████████████████▏   | 51kB 7.1MB/s eta 0:00:01\r\u001b[K     |████████████████████████████████| 61kB 4.5MB/s \n",
            "\u001b[?25hBuilding wheels for collected packages: kaggle\n",
            "  Building wheel for kaggle (setup.py) ... \u001b[?25l\u001b[?25hdone\n",
            "  Created wheel for kaggle: filename=kaggle-1.5.6-cp36-none-any.whl size=72859 sha256=61ea1b056a40df67c1be761620793f2f836ccba3ff8c8ffb52d74a16f12430ed\n",
            "  Stored in directory: /root/.cache/pip/wheels/57/4e/e8/bb28d035162fb8f17f8ca5d42c3230e284c6aa565b42b72674\n",
            "Successfully built kaggle\n",
            "Installing collected packages: kaggle\n",
            "  Found existing installation: kaggle 1.5.6\n",
            "    Uninstalling kaggle-1.5.6:\n",
            "      Successfully uninstalled kaggle-1.5.6\n",
            "Successfully installed kaggle-1.5.6\n"
          ],
          "name": "stdout"
        }
      ]
    },
    {
      "cell_type": "code",
      "metadata": {
        "id": "eJTK6JudK_UA",
        "colab_type": "code",
        "colab": {
          "base_uri": "https://localhost:8080/",
          "height": 74
        },
        "outputId": "a0cb6c41-de73-4021-a0fe-f6ad9bb1a141"
      },
      "source": [
        "# kaggle source\n",
        "!kaggle datasets download -d joshmcadams/oranges-vs-grapefruit -p '/tmp/'"
      ],
      "execution_count": null,
      "outputs": [
        {
          "output_type": "stream",
          "text": [
            "Downloading oranges-vs-grapefruit.zip to /tmp\n",
            "\r  0% 0.00/61.2k [00:00<?, ?B/s]\n",
            "\r100% 61.2k/61.2k [00:00<00:00, 41.0MB/s]\n"
          ],
          "name": "stdout"
        }
      ]
    },
    {
      "cell_type": "code",
      "metadata": {
        "id": "GlVucojNLzqb",
        "colab_type": "code",
        "colab": {}
      },
      "source": [
        "import zipfile\n",
        "\n",
        "PATH = '/tmp/oranges-vs-grapefruit.zip'\n",
        "zip_ref = zipfile.ZipFile(PATH, 'r')\n",
        "zip_ref.extractall('/tmp/')\n",
        "zip_ref.close()"
      ],
      "execution_count": null,
      "outputs": []
    },
    {
      "cell_type": "code",
      "metadata": {
        "id": "B6CVrQGhLGLR",
        "colab_type": "code",
        "colab": {}
      },
      "source": [
        "import pandas as pd\n",
        "\n",
        "df = pd.read_csv('/tmp/citrus.csv')"
      ],
      "execution_count": null,
      "outputs": []
    },
    {
      "cell_type": "code",
      "metadata": {
        "id": "fnlJDxw0Loqm",
        "colab_type": "code",
        "colab": {
          "base_uri": "https://localhost:8080/",
          "height": 264
        },
        "outputId": "e86eeae6-7f8a-47ea-9eec-d5ea2dc112b0"
      },
      "source": [
        "df.info()"
      ],
      "execution_count": null,
      "outputs": [
        {
          "output_type": "stream",
          "text": [
            "<class 'pandas.core.frame.DataFrame'>\n",
            "RangeIndex: 10000 entries, 0 to 9999\n",
            "Data columns (total 6 columns):\n",
            " #   Column    Non-Null Count  Dtype  \n",
            "---  ------    --------------  -----  \n",
            " 0   name      10000 non-null  object \n",
            " 1   diameter  10000 non-null  float64\n",
            " 2   weight    10000 non-null  float64\n",
            " 3   red       10000 non-null  int64  \n",
            " 4   green     10000 non-null  int64  \n",
            " 5   blue      10000 non-null  int64  \n",
            "dtypes: float64(2), int64(3), object(1)\n",
            "memory usage: 468.9+ KB\n"
          ],
          "name": "stdout"
        }
      ]
    },
    {
      "cell_type": "code",
      "metadata": {
        "id": "WPnBnIj-Mooz",
        "colab_type": "code",
        "colab": {
          "base_uri": "https://localhost:8080/",
          "height": 204
        },
        "outputId": "3fbffd13-367b-4aef-ee18-094b7b23d717"
      },
      "source": [
        "df.head()"
      ],
      "execution_count": null,
      "outputs": [
        {
          "output_type": "execute_result",
          "data": {
            "text/html": [
              "<div>\n",
              "<style scoped>\n",
              "    .dataframe tbody tr th:only-of-type {\n",
              "        vertical-align: middle;\n",
              "    }\n",
              "\n",
              "    .dataframe tbody tr th {\n",
              "        vertical-align: top;\n",
              "    }\n",
              "\n",
              "    .dataframe thead th {\n",
              "        text-align: right;\n",
              "    }\n",
              "</style>\n",
              "<table border=\"1\" class=\"dataframe\">\n",
              "  <thead>\n",
              "    <tr style=\"text-align: right;\">\n",
              "      <th></th>\n",
              "      <th>name</th>\n",
              "      <th>diameter</th>\n",
              "      <th>weight</th>\n",
              "      <th>red</th>\n",
              "      <th>green</th>\n",
              "      <th>blue</th>\n",
              "    </tr>\n",
              "  </thead>\n",
              "  <tbody>\n",
              "    <tr>\n",
              "      <th>0</th>\n",
              "      <td>orange</td>\n",
              "      <td>2.96</td>\n",
              "      <td>86.76</td>\n",
              "      <td>172</td>\n",
              "      <td>85</td>\n",
              "      <td>2</td>\n",
              "    </tr>\n",
              "    <tr>\n",
              "      <th>1</th>\n",
              "      <td>orange</td>\n",
              "      <td>3.91</td>\n",
              "      <td>88.05</td>\n",
              "      <td>166</td>\n",
              "      <td>78</td>\n",
              "      <td>3</td>\n",
              "    </tr>\n",
              "    <tr>\n",
              "      <th>2</th>\n",
              "      <td>orange</td>\n",
              "      <td>4.42</td>\n",
              "      <td>95.17</td>\n",
              "      <td>156</td>\n",
              "      <td>81</td>\n",
              "      <td>2</td>\n",
              "    </tr>\n",
              "    <tr>\n",
              "      <th>3</th>\n",
              "      <td>orange</td>\n",
              "      <td>4.47</td>\n",
              "      <td>95.60</td>\n",
              "      <td>163</td>\n",
              "      <td>81</td>\n",
              "      <td>4</td>\n",
              "    </tr>\n",
              "    <tr>\n",
              "      <th>4</th>\n",
              "      <td>orange</td>\n",
              "      <td>4.48</td>\n",
              "      <td>95.76</td>\n",
              "      <td>161</td>\n",
              "      <td>72</td>\n",
              "      <td>9</td>\n",
              "    </tr>\n",
              "  </tbody>\n",
              "</table>\n",
              "</div>"
            ],
            "text/plain": [
              "     name  diameter  weight  red  green  blue\n",
              "0  orange      2.96   86.76  172     85     2\n",
              "1  orange      3.91   88.05  166     78     3\n",
              "2  orange      4.42   95.17  156     81     2\n",
              "3  orange      4.47   95.60  163     81     4\n",
              "4  orange      4.48   95.76  161     72     9"
            ]
          },
          "metadata": {
            "tags": []
          },
          "execution_count": 7
        }
      ]
    },
    {
      "cell_type": "code",
      "metadata": {
        "id": "4BcxWbDvMwd5",
        "colab_type": "code",
        "colab": {}
      },
      "source": [
        "df.loc[df['name'] == 'orange', 'name'] = 0\n",
        "df.loc[df['name'] == 'grapefruit', 'name'] = 1"
      ],
      "execution_count": null,
      "outputs": []
    },
    {
      "cell_type": "code",
      "metadata": {
        "id": "9s3UjnNXNLAT",
        "colab_type": "code",
        "colab": {
          "base_uri": "https://localhost:8080/",
          "height": 204
        },
        "outputId": "b26aef2c-d9fe-414a-bfa7-4f3de95fd00c"
      },
      "source": [
        "df.head()"
      ],
      "execution_count": null,
      "outputs": [
        {
          "output_type": "execute_result",
          "data": {
            "text/html": [
              "<div>\n",
              "<style scoped>\n",
              "    .dataframe tbody tr th:only-of-type {\n",
              "        vertical-align: middle;\n",
              "    }\n",
              "\n",
              "    .dataframe tbody tr th {\n",
              "        vertical-align: top;\n",
              "    }\n",
              "\n",
              "    .dataframe thead th {\n",
              "        text-align: right;\n",
              "    }\n",
              "</style>\n",
              "<table border=\"1\" class=\"dataframe\">\n",
              "  <thead>\n",
              "    <tr style=\"text-align: right;\">\n",
              "      <th></th>\n",
              "      <th>name</th>\n",
              "      <th>diameter</th>\n",
              "      <th>weight</th>\n",
              "      <th>red</th>\n",
              "      <th>green</th>\n",
              "      <th>blue</th>\n",
              "    </tr>\n",
              "  </thead>\n",
              "  <tbody>\n",
              "    <tr>\n",
              "      <th>0</th>\n",
              "      <td>0</td>\n",
              "      <td>2.96</td>\n",
              "      <td>86.76</td>\n",
              "      <td>172</td>\n",
              "      <td>85</td>\n",
              "      <td>2</td>\n",
              "    </tr>\n",
              "    <tr>\n",
              "      <th>1</th>\n",
              "      <td>0</td>\n",
              "      <td>3.91</td>\n",
              "      <td>88.05</td>\n",
              "      <td>166</td>\n",
              "      <td>78</td>\n",
              "      <td>3</td>\n",
              "    </tr>\n",
              "    <tr>\n",
              "      <th>2</th>\n",
              "      <td>0</td>\n",
              "      <td>4.42</td>\n",
              "      <td>95.17</td>\n",
              "      <td>156</td>\n",
              "      <td>81</td>\n",
              "      <td>2</td>\n",
              "    </tr>\n",
              "    <tr>\n",
              "      <th>3</th>\n",
              "      <td>0</td>\n",
              "      <td>4.47</td>\n",
              "      <td>95.60</td>\n",
              "      <td>163</td>\n",
              "      <td>81</td>\n",
              "      <td>4</td>\n",
              "    </tr>\n",
              "    <tr>\n",
              "      <th>4</th>\n",
              "      <td>0</td>\n",
              "      <td>4.48</td>\n",
              "      <td>95.76</td>\n",
              "      <td>161</td>\n",
              "      <td>72</td>\n",
              "      <td>9</td>\n",
              "    </tr>\n",
              "  </tbody>\n",
              "</table>\n",
              "</div>"
            ],
            "text/plain": [
              "  name  diameter  weight  red  green  blue\n",
              "0    0      2.96   86.76  172     85     2\n",
              "1    0      3.91   88.05  166     78     3\n",
              "2    0      4.42   95.17  156     81     2\n",
              "3    0      4.47   95.60  163     81     4\n",
              "4    0      4.48   95.76  161     72     9"
            ]
          },
          "metadata": {
            "tags": []
          },
          "execution_count": 9
        }
      ]
    },
    {
      "cell_type": "code",
      "metadata": {
        "id": "-rQLLi6BPGUQ",
        "colab_type": "code",
        "colab": {}
      },
      "source": [
        "dataset = df.values\n",
        "X = dataset[:, 1:6]\n",
        "y = dataset[:, 0]"
      ],
      "execution_count": null,
      "outputs": []
    },
    {
      "cell_type": "code",
      "metadata": {
        "id": "w0J4RjJCQC7t",
        "colab_type": "code",
        "colab": {
          "base_uri": "https://localhost:8080/",
          "height": 150
        },
        "outputId": "145dad6f-ff78-40a2-edef-21e64bb9d5ec"
      },
      "source": [
        "from sklearn import preprocessing\n",
        "\n",
        "min_max_scaler = preprocessing.MinMaxScaler()\n",
        "X_scale = min_max_scaler.fit_transform(X)\n",
        "X_scale"
      ],
      "execution_count": null,
      "outputs": [
        {
          "output_type": "execute_result",
          "data": {
            "text/plain": [
              "array([[0.        , 0.        , 0.74025974, 0.63529412, 0.        ],\n",
              "       [0.07042254, 0.00738197, 0.66233766, 0.55294118, 0.01851852],\n",
              "       [0.10822832, 0.04812589, 0.53246753, 0.58823529, 0.        ],\n",
              "       ...,\n",
              "       [0.93624907, 0.97133047, 0.68831169, 0.6       , 0.33333333],\n",
              "       [0.96071164, 0.99216023, 0.35064935, 0.48235294, 0.16666667],\n",
              "       [1.        , 1.        , 0.48051948, 0.50588235, 0.        ]])"
            ]
          },
          "metadata": {
            "tags": []
          },
          "execution_count": 11
        }
      ]
    },
    {
      "cell_type": "code",
      "metadata": {
        "id": "cAANdwbYQaRk",
        "colab_type": "code",
        "colab": {}
      },
      "source": [
        "import numpy as np\n",
        "from sklearn.model_selection import train_test_split\n",
        "\n",
        "X_train, X_test, Y_train, Y_test = train_test_split(X_scale, y, test_size=0.2)\n",
        "X_train, X_val, Y_train, Y_val = train_test_split(X_train, Y_train, test_size=0.25)\n",
        "\n",
        "Y_train = Y_train.astype(np.float32)\n",
        "Y_test = Y_test.astype(np.float32)\n",
        "Y_val = Y_val.astype(np.float32)"
      ],
      "execution_count": null,
      "outputs": []
    },
    {
      "cell_type": "code",
      "metadata": {
        "id": "0q0l5RzLQwTB",
        "colab_type": "code",
        "colab": {}
      },
      "source": [
        "from keras.models import Sequential\n",
        "from keras.layers import Dense\n",
        "\n",
        "model = Sequential([\n",
        "                    Dense(32, activation='relu', input_shape=(5,)),\n",
        "                    Dense(32, activation='relu'),\n",
        "                    Dense(1, activation='sigmoid')\n",
        "])"
      ],
      "execution_count": null,
      "outputs": []
    },
    {
      "cell_type": "code",
      "metadata": {
        "id": "42RPsLRoRTPU",
        "colab_type": "code",
        "colab": {}
      },
      "source": [
        "model.compile(\n",
        "    optimizer='sgd',\n",
        "    loss='binary_crossentropy',\n",
        "    metrics=['accuracy']\n",
        ")"
      ],
      "execution_count": null,
      "outputs": []
    },
    {
      "cell_type": "code",
      "metadata": {
        "id": "MF59GBK3RmTx",
        "colab_type": "code",
        "colab": {
          "base_uri": "https://localhost:8080/",
          "height": 1000
        },
        "outputId": "43d69f6e-55a0-4801-ea44-244cd1faa0e4"
      },
      "source": [
        "model.fit(\n",
        "    X_train,\n",
        "    Y_train,\n",
        "    epochs=100,\n",
        "    validation_data=(X_val, Y_val)\n",
        ")"
      ],
      "execution_count": null,
      "outputs": [
        {
          "output_type": "stream",
          "text": [
            "Epoch 1/100\n",
            "188/188 [==============================] - 0s 2ms/step - loss: 0.6688 - accuracy: 0.6963 - val_loss: 0.6503 - val_accuracy: 0.8925\n",
            "Epoch 2/100\n",
            "188/188 [==============================] - 0s 1ms/step - loss: 0.6292 - accuracy: 0.9148 - val_loss: 0.6088 - val_accuracy: 0.9030\n",
            "Epoch 3/100\n",
            "188/188 [==============================] - 0s 1ms/step - loss: 0.5787 - accuracy: 0.9175 - val_loss: 0.5503 - val_accuracy: 0.9180\n",
            "Epoch 4/100\n",
            "188/188 [==============================] - 0s 1ms/step - loss: 0.5095 - accuracy: 0.9238 - val_loss: 0.4739 - val_accuracy: 0.9140\n",
            "Epoch 5/100\n",
            "188/188 [==============================] - 0s 1ms/step - loss: 0.4269 - accuracy: 0.9272 - val_loss: 0.3919 - val_accuracy: 0.9210\n",
            "Epoch 6/100\n",
            "188/188 [==============================] - 0s 1ms/step - loss: 0.3489 - accuracy: 0.9258 - val_loss: 0.3233 - val_accuracy: 0.9235\n",
            "Epoch 7/100\n",
            "188/188 [==============================] - 0s 1ms/step - loss: 0.2895 - accuracy: 0.9268 - val_loss: 0.2755 - val_accuracy: 0.9250\n",
            "Epoch 8/100\n",
            "188/188 [==============================] - 0s 1ms/step - loss: 0.2498 - accuracy: 0.9265 - val_loss: 0.2450 - val_accuracy: 0.9240\n",
            "Epoch 9/100\n",
            "188/188 [==============================] - 0s 1ms/step - loss: 0.2251 - accuracy: 0.9257 - val_loss: 0.2255 - val_accuracy: 0.9255\n",
            "Epoch 10/100\n",
            "188/188 [==============================] - 0s 1ms/step - loss: 0.2092 - accuracy: 0.9270 - val_loss: 0.2133 - val_accuracy: 0.9290\n",
            "Epoch 11/100\n",
            "188/188 [==============================] - 0s 1ms/step - loss: 0.1994 - accuracy: 0.9272 - val_loss: 0.2052 - val_accuracy: 0.9285\n",
            "Epoch 12/100\n",
            "188/188 [==============================] - 0s 1ms/step - loss: 0.1931 - accuracy: 0.9278 - val_loss: 0.2004 - val_accuracy: 0.9245\n",
            "Epoch 13/100\n",
            "188/188 [==============================] - 0s 1ms/step - loss: 0.1880 - accuracy: 0.9263 - val_loss: 0.1984 - val_accuracy: 0.9235\n",
            "Epoch 14/100\n",
            "188/188 [==============================] - 0s 1ms/step - loss: 0.1852 - accuracy: 0.9268 - val_loss: 0.1944 - val_accuracy: 0.9270\n",
            "Epoch 15/100\n",
            "188/188 [==============================] - 0s 1ms/step - loss: 0.1831 - accuracy: 0.9275 - val_loss: 0.1919 - val_accuracy: 0.9285\n",
            "Epoch 16/100\n",
            "188/188 [==============================] - 0s 1ms/step - loss: 0.1815 - accuracy: 0.9272 - val_loss: 0.1905 - val_accuracy: 0.9285\n",
            "Epoch 17/100\n",
            "188/188 [==============================] - 0s 1ms/step - loss: 0.1802 - accuracy: 0.9283 - val_loss: 0.1896 - val_accuracy: 0.9280\n",
            "Epoch 18/100\n",
            "188/188 [==============================] - 0s 1ms/step - loss: 0.1792 - accuracy: 0.9280 - val_loss: 0.1921 - val_accuracy: 0.9215\n",
            "Epoch 19/100\n",
            "188/188 [==============================] - 0s 1ms/step - loss: 0.1790 - accuracy: 0.9267 - val_loss: 0.1882 - val_accuracy: 0.9285\n",
            "Epoch 20/100\n",
            "188/188 [==============================] - 0s 1ms/step - loss: 0.1784 - accuracy: 0.9277 - val_loss: 0.1888 - val_accuracy: 0.9250\n",
            "Epoch 21/100\n",
            "188/188 [==============================] - 0s 1ms/step - loss: 0.1781 - accuracy: 0.9290 - val_loss: 0.1876 - val_accuracy: 0.9275\n",
            "Epoch 22/100\n",
            "188/188 [==============================] - 0s 1ms/step - loss: 0.1775 - accuracy: 0.9265 - val_loss: 0.1898 - val_accuracy: 0.9245\n",
            "Epoch 23/100\n",
            "188/188 [==============================] - 0s 1ms/step - loss: 0.1773 - accuracy: 0.9283 - val_loss: 0.1918 - val_accuracy: 0.9235\n",
            "Epoch 24/100\n",
            "188/188 [==============================] - 0s 1ms/step - loss: 0.1780 - accuracy: 0.9287 - val_loss: 0.1876 - val_accuracy: 0.9275\n",
            "Epoch 25/100\n",
            "188/188 [==============================] - 0s 1ms/step - loss: 0.1774 - accuracy: 0.9273 - val_loss: 0.1868 - val_accuracy: 0.9295\n",
            "Epoch 26/100\n",
            "188/188 [==============================] - 0s 1ms/step - loss: 0.1771 - accuracy: 0.9268 - val_loss: 0.1870 - val_accuracy: 0.9255\n",
            "Epoch 27/100\n",
            "188/188 [==============================] - 0s 1ms/step - loss: 0.1774 - accuracy: 0.9268 - val_loss: 0.1878 - val_accuracy: 0.9255\n",
            "Epoch 28/100\n",
            "188/188 [==============================] - 0s 1ms/step - loss: 0.1768 - accuracy: 0.9280 - val_loss: 0.1866 - val_accuracy: 0.9270\n",
            "Epoch 29/100\n",
            "188/188 [==============================] - 0s 1ms/step - loss: 0.1769 - accuracy: 0.9277 - val_loss: 0.1867 - val_accuracy: 0.9285\n",
            "Epoch 30/100\n",
            "188/188 [==============================] - 0s 1ms/step - loss: 0.1765 - accuracy: 0.9268 - val_loss: 0.1866 - val_accuracy: 0.9270\n",
            "Epoch 31/100\n",
            "188/188 [==============================] - 0s 1ms/step - loss: 0.1771 - accuracy: 0.9277 - val_loss: 0.1865 - val_accuracy: 0.9295\n",
            "Epoch 32/100\n",
            "188/188 [==============================] - 0s 1ms/step - loss: 0.1761 - accuracy: 0.9273 - val_loss: 0.1920 - val_accuracy: 0.9240\n",
            "Epoch 33/100\n",
            "188/188 [==============================] - 0s 1ms/step - loss: 0.1769 - accuracy: 0.9282 - val_loss: 0.1863 - val_accuracy: 0.9290\n",
            "Epoch 34/100\n",
            "188/188 [==============================] - 0s 1ms/step - loss: 0.1770 - accuracy: 0.9267 - val_loss: 0.1863 - val_accuracy: 0.9295\n",
            "Epoch 35/100\n",
            "188/188 [==============================] - 0s 1ms/step - loss: 0.1759 - accuracy: 0.9272 - val_loss: 0.1871 - val_accuracy: 0.9275\n",
            "Epoch 36/100\n",
            "188/188 [==============================] - 0s 1ms/step - loss: 0.1770 - accuracy: 0.9270 - val_loss: 0.1915 - val_accuracy: 0.9210\n",
            "Epoch 37/100\n",
            "188/188 [==============================] - 0s 1ms/step - loss: 0.1769 - accuracy: 0.9288 - val_loss: 0.1863 - val_accuracy: 0.9295\n",
            "Epoch 38/100\n",
            "188/188 [==============================] - 0s 1ms/step - loss: 0.1768 - accuracy: 0.9278 - val_loss: 0.1861 - val_accuracy: 0.9295\n",
            "Epoch 39/100\n",
            "188/188 [==============================] - 0s 1ms/step - loss: 0.1766 - accuracy: 0.9272 - val_loss: 0.1861 - val_accuracy: 0.9280\n",
            "Epoch 40/100\n",
            "188/188 [==============================] - 0s 1ms/step - loss: 0.1769 - accuracy: 0.9282 - val_loss: 0.1861 - val_accuracy: 0.9275\n",
            "Epoch 41/100\n",
            "188/188 [==============================] - 0s 1ms/step - loss: 0.1765 - accuracy: 0.9270 - val_loss: 0.1861 - val_accuracy: 0.9275\n",
            "Epoch 42/100\n",
            "188/188 [==============================] - 0s 1ms/step - loss: 0.1768 - accuracy: 0.9288 - val_loss: 0.1863 - val_accuracy: 0.9290\n",
            "Epoch 43/100\n",
            "188/188 [==============================] - 0s 1ms/step - loss: 0.1763 - accuracy: 0.9288 - val_loss: 0.1942 - val_accuracy: 0.9210\n",
            "Epoch 44/100\n",
            "188/188 [==============================] - 0s 1ms/step - loss: 0.1769 - accuracy: 0.9282 - val_loss: 0.1860 - val_accuracy: 0.9290\n",
            "Epoch 45/100\n",
            "188/188 [==============================] - 0s 1ms/step - loss: 0.1767 - accuracy: 0.9275 - val_loss: 0.1866 - val_accuracy: 0.9275\n",
            "Epoch 46/100\n",
            "188/188 [==============================] - 0s 1ms/step - loss: 0.1761 - accuracy: 0.9263 - val_loss: 0.1859 - val_accuracy: 0.9295\n",
            "Epoch 47/100\n",
            "188/188 [==============================] - 0s 1ms/step - loss: 0.1767 - accuracy: 0.9275 - val_loss: 0.1863 - val_accuracy: 0.9255\n",
            "Epoch 48/100\n",
            "188/188 [==============================] - 0s 1ms/step - loss: 0.1766 - accuracy: 0.9272 - val_loss: 0.1880 - val_accuracy: 0.9260\n",
            "Epoch 49/100\n",
            "188/188 [==============================] - 0s 1ms/step - loss: 0.1768 - accuracy: 0.9285 - val_loss: 0.1860 - val_accuracy: 0.9290\n",
            "Epoch 50/100\n",
            "188/188 [==============================] - 0s 1ms/step - loss: 0.1764 - accuracy: 0.9285 - val_loss: 0.1861 - val_accuracy: 0.9285\n",
            "Epoch 51/100\n",
            "188/188 [==============================] - 0s 1ms/step - loss: 0.1759 - accuracy: 0.9283 - val_loss: 0.1883 - val_accuracy: 0.9250\n",
            "Epoch 52/100\n",
            "188/188 [==============================] - 0s 1ms/step - loss: 0.1761 - accuracy: 0.9288 - val_loss: 0.1858 - val_accuracy: 0.9295\n",
            "Epoch 53/100\n",
            "188/188 [==============================] - 0s 1ms/step - loss: 0.1764 - accuracy: 0.9278 - val_loss: 0.1858 - val_accuracy: 0.9295\n",
            "Epoch 54/100\n",
            "188/188 [==============================] - 0s 1ms/step - loss: 0.1764 - accuracy: 0.9270 - val_loss: 0.1858 - val_accuracy: 0.9285\n",
            "Epoch 55/100\n",
            "188/188 [==============================] - 0s 1ms/step - loss: 0.1766 - accuracy: 0.9268 - val_loss: 0.1858 - val_accuracy: 0.9295\n",
            "Epoch 56/100\n",
            "188/188 [==============================] - 0s 1ms/step - loss: 0.1762 - accuracy: 0.9273 - val_loss: 0.1858 - val_accuracy: 0.9285\n",
            "Epoch 57/100\n",
            "188/188 [==============================] - 0s 1ms/step - loss: 0.1766 - accuracy: 0.9270 - val_loss: 0.1866 - val_accuracy: 0.9255\n",
            "Epoch 58/100\n",
            "188/188 [==============================] - 0s 1ms/step - loss: 0.1763 - accuracy: 0.9292 - val_loss: 0.1863 - val_accuracy: 0.9250\n",
            "Epoch 59/100\n",
            "188/188 [==============================] - 0s 1ms/step - loss: 0.1759 - accuracy: 0.9290 - val_loss: 0.1896 - val_accuracy: 0.9250\n",
            "Epoch 60/100\n",
            "188/188 [==============================] - 0s 1ms/step - loss: 0.1761 - accuracy: 0.9280 - val_loss: 0.1867 - val_accuracy: 0.9250\n",
            "Epoch 61/100\n",
            "188/188 [==============================] - 0s 1ms/step - loss: 0.1758 - accuracy: 0.9295 - val_loss: 0.1861 - val_accuracy: 0.9290\n",
            "Epoch 62/100\n",
            "188/188 [==============================] - 0s 1ms/step - loss: 0.1760 - accuracy: 0.9275 - val_loss: 0.1864 - val_accuracy: 0.9250\n",
            "Epoch 63/100\n",
            "188/188 [==============================] - 0s 1ms/step - loss: 0.1766 - accuracy: 0.9270 - val_loss: 0.1859 - val_accuracy: 0.9285\n",
            "Epoch 64/100\n",
            "188/188 [==============================] - 0s 1ms/step - loss: 0.1761 - accuracy: 0.9273 - val_loss: 0.1861 - val_accuracy: 0.9255\n",
            "Epoch 65/100\n",
            "188/188 [==============================] - 0s 1ms/step - loss: 0.1765 - accuracy: 0.9280 - val_loss: 0.1858 - val_accuracy: 0.9270\n",
            "Epoch 66/100\n",
            "188/188 [==============================] - 0s 1ms/step - loss: 0.1760 - accuracy: 0.9285 - val_loss: 0.1878 - val_accuracy: 0.9255\n",
            "Epoch 67/100\n",
            "188/188 [==============================] - 0s 1ms/step - loss: 0.1761 - accuracy: 0.9272 - val_loss: 0.1857 - val_accuracy: 0.9275\n",
            "Epoch 68/100\n",
            "188/188 [==============================] - 0s 1ms/step - loss: 0.1761 - accuracy: 0.9275 - val_loss: 0.1879 - val_accuracy: 0.9255\n",
            "Epoch 69/100\n",
            "188/188 [==============================] - 0s 1ms/step - loss: 0.1758 - accuracy: 0.9280 - val_loss: 0.1885 - val_accuracy: 0.9250\n",
            "Epoch 70/100\n",
            "188/188 [==============================] - 0s 1ms/step - loss: 0.1761 - accuracy: 0.9283 - val_loss: 0.1855 - val_accuracy: 0.9290\n",
            "Epoch 71/100\n",
            "188/188 [==============================] - 0s 1ms/step - loss: 0.1759 - accuracy: 0.9285 - val_loss: 0.1858 - val_accuracy: 0.9255\n",
            "Epoch 72/100\n",
            "188/188 [==============================] - 0s 1ms/step - loss: 0.1762 - accuracy: 0.9257 - val_loss: 0.1860 - val_accuracy: 0.9250\n",
            "Epoch 73/100\n",
            "188/188 [==============================] - 0s 1ms/step - loss: 0.1761 - accuracy: 0.9290 - val_loss: 0.1856 - val_accuracy: 0.9275\n",
            "Epoch 74/100\n",
            "188/188 [==============================] - 0s 1ms/step - loss: 0.1761 - accuracy: 0.9278 - val_loss: 0.1871 - val_accuracy: 0.9265\n",
            "Epoch 75/100\n",
            "188/188 [==============================] - 0s 1ms/step - loss: 0.1759 - accuracy: 0.9278 - val_loss: 0.1871 - val_accuracy: 0.9265\n",
            "Epoch 76/100\n",
            "188/188 [==============================] - 0s 1ms/step - loss: 0.1761 - accuracy: 0.9273 - val_loss: 0.1855 - val_accuracy: 0.9280\n",
            "Epoch 77/100\n",
            "188/188 [==============================] - 0s 1ms/step - loss: 0.1759 - accuracy: 0.9270 - val_loss: 0.1894 - val_accuracy: 0.9235\n",
            "Epoch 78/100\n",
            "188/188 [==============================] - 0s 1ms/step - loss: 0.1760 - accuracy: 0.9277 - val_loss: 0.1857 - val_accuracy: 0.9255\n",
            "Epoch 79/100\n",
            "188/188 [==============================] - 0s 1ms/step - loss: 0.1760 - accuracy: 0.9272 - val_loss: 0.1855 - val_accuracy: 0.9275\n",
            "Epoch 80/100\n",
            "188/188 [==============================] - 0s 1ms/step - loss: 0.1755 - accuracy: 0.9278 - val_loss: 0.1873 - val_accuracy: 0.9260\n",
            "Epoch 81/100\n",
            "188/188 [==============================] - 0s 1ms/step - loss: 0.1760 - accuracy: 0.9278 - val_loss: 0.1866 - val_accuracy: 0.9260\n",
            "Epoch 82/100\n",
            "188/188 [==============================] - 0s 1ms/step - loss: 0.1758 - accuracy: 0.9270 - val_loss: 0.1860 - val_accuracy: 0.9285\n",
            "Epoch 83/100\n",
            "188/188 [==============================] - 0s 1ms/step - loss: 0.1761 - accuracy: 0.9277 - val_loss: 0.1881 - val_accuracy: 0.9250\n",
            "Epoch 84/100\n",
            "188/188 [==============================] - 0s 1ms/step - loss: 0.1757 - accuracy: 0.9262 - val_loss: 0.1867 - val_accuracy: 0.9255\n",
            "Epoch 85/100\n",
            "188/188 [==============================] - 0s 1ms/step - loss: 0.1760 - accuracy: 0.9283 - val_loss: 0.1853 - val_accuracy: 0.9295\n",
            "Epoch 86/100\n",
            "188/188 [==============================] - 0s 1ms/step - loss: 0.1759 - accuracy: 0.9270 - val_loss: 0.1857 - val_accuracy: 0.9255\n",
            "Epoch 87/100\n",
            "188/188 [==============================] - 0s 1ms/step - loss: 0.1756 - accuracy: 0.9285 - val_loss: 0.1879 - val_accuracy: 0.9255\n",
            "Epoch 88/100\n",
            "188/188 [==============================] - 0s 1ms/step - loss: 0.1758 - accuracy: 0.9278 - val_loss: 0.1853 - val_accuracy: 0.9295\n",
            "Epoch 89/100\n",
            "188/188 [==============================] - 0s 1ms/step - loss: 0.1759 - accuracy: 0.9292 - val_loss: 0.1857 - val_accuracy: 0.9255\n",
            "Epoch 90/100\n",
            "188/188 [==============================] - 0s 1ms/step - loss: 0.1755 - accuracy: 0.9282 - val_loss: 0.1861 - val_accuracy: 0.9280\n",
            "Epoch 91/100\n",
            "188/188 [==============================] - 0s 1ms/step - loss: 0.1759 - accuracy: 0.9280 - val_loss: 0.1852 - val_accuracy: 0.9290\n",
            "Epoch 92/100\n",
            "188/188 [==============================] - 0s 1ms/step - loss: 0.1757 - accuracy: 0.9283 - val_loss: 0.1853 - val_accuracy: 0.9280\n",
            "Epoch 93/100\n",
            "188/188 [==============================] - 0s 1ms/step - loss: 0.1757 - accuracy: 0.9292 - val_loss: 0.1884 - val_accuracy: 0.9245\n",
            "Epoch 94/100\n",
            "188/188 [==============================] - 0s 1ms/step - loss: 0.1757 - accuracy: 0.9287 - val_loss: 0.1855 - val_accuracy: 0.9255\n",
            "Epoch 95/100\n",
            "188/188 [==============================] - 0s 1ms/step - loss: 0.1754 - accuracy: 0.9298 - val_loss: 0.1852 - val_accuracy: 0.9290\n",
            "Epoch 96/100\n",
            "188/188 [==============================] - 0s 1ms/step - loss: 0.1760 - accuracy: 0.9285 - val_loss: 0.1851 - val_accuracy: 0.9290\n",
            "Epoch 97/100\n",
            "188/188 [==============================] - 0s 1ms/step - loss: 0.1758 - accuracy: 0.9275 - val_loss: 0.1852 - val_accuracy: 0.9290\n",
            "Epoch 98/100\n",
            "188/188 [==============================] - 0s 1ms/step - loss: 0.1756 - accuracy: 0.9272 - val_loss: 0.1863 - val_accuracy: 0.9260\n",
            "Epoch 99/100\n",
            "188/188 [==============================] - 0s 1ms/step - loss: 0.1759 - accuracy: 0.9270 - val_loss: 0.1851 - val_accuracy: 0.9295\n",
            "Epoch 100/100\n",
            "188/188 [==============================] - 0s 1ms/step - loss: 0.1754 - accuracy: 0.9277 - val_loss: 0.1853 - val_accuracy: 0.9255\n"
          ],
          "name": "stdout"
        },
        {
          "output_type": "execute_result",
          "data": {
            "text/plain": [
              "<tensorflow.python.keras.callbacks.History at 0x7fa418f55630>"
            ]
          },
          "metadata": {
            "tags": []
          },
          "execution_count": 15
        }
      ]
    },
    {
      "cell_type": "code",
      "metadata": {
        "id": "V6Xj7BgsS0Tu",
        "colab_type": "code",
        "colab": {
          "base_uri": "https://localhost:8080/",
          "height": 55
        },
        "outputId": "15c228e8-6cd5-424b-d19b-65dd07d05ba9"
      },
      "source": [
        "model.evaluate(X_test, Y_test)"
      ],
      "execution_count": null,
      "outputs": [
        {
          "output_type": "stream",
          "text": [
            "63/63 [==============================] - 0s 866us/step - loss: 0.1760 - accuracy: 0.9260\n"
          ],
          "name": "stdout"
        },
        {
          "output_type": "execute_result",
          "data": {
            "text/plain": [
              "[0.17599192261695862, 0.9259999990463257]"
            ]
          },
          "metadata": {
            "tags": []
          },
          "execution_count": 16
        }
      ]
    },
    {
      "cell_type": "code",
      "metadata": {
        "id": "h4uk-JRuVNCh",
        "colab_type": "code",
        "colab": {}
      },
      "source": [
        ""
      ],
      "execution_count": null,
      "outputs": []
    }
  ]
}