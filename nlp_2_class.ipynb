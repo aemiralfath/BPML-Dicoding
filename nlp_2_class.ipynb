{
  "nbformat": 4,
  "nbformat_minor": 0,
  "metadata": {
    "colab": {
      "name": "nlp_2_class.ipynb",
      "provenance": [],
      "authorship_tag": "ABX9TyONjf0oi94hYs3xoAAb/d6+",
      "include_colab_link": true
    },
    "kernelspec": {
      "name": "python3",
      "display_name": "Python 3"
    },
    "accelerator": "GPU"
  },
  "cells": [
    {
      "cell_type": "markdown",
      "metadata": {
        "id": "view-in-github",
        "colab_type": "text"
      },
      "source": [
        "<a href=\"https://colab.research.google.com/github/aemiralfath/BPML-Dicoding/blob/master/nlp_2_class.ipynb\" target=\"_parent\"><img src=\"https://colab.research.google.com/assets/colab-badge.svg\" alt=\"Open In Colab\"/></a>"
      ]
    },
    {
      "cell_type": "code",
      "metadata": {
        "id": "nKG27TvepANt",
        "colab_type": "code",
        "colab": {
          "base_uri": "https://localhost:8080/",
          "height": 132
        },
        "outputId": "6b2c9a27-c3ab-4cbe-ed87-1f6a71e6eecb"
      },
      "source": [
        "from google.colab import drive\n",
        "drive.mount('/content/drive')"
      ],
      "execution_count": 1,
      "outputs": [
        {
          "output_type": "stream",
          "text": [
            "Go to this URL in a browser: https://accounts.google.com/o/oauth2/auth?client_id=947318989803-6bn6qk8qdgf4n4g3pfee6491hc0brc4i.apps.googleusercontent.com&redirect_uri=urn%3aietf%3awg%3aoauth%3a2.0%3aoob&response_type=code&scope=email%20https%3a%2f%2fwww.googleapis.com%2fauth%2fdocs.test%20https%3a%2f%2fwww.googleapis.com%2fauth%2fdrive%20https%3a%2f%2fwww.googleapis.com%2fauth%2fdrive.photos.readonly%20https%3a%2f%2fwww.googleapis.com%2fauth%2fpeopleapi.readonly\n",
            "\n",
            "Enter your authorization code:\n",
            "··········\n",
            "Mounted at /content/drive\n"
          ],
          "name": "stdout"
        }
      ]
    },
    {
      "cell_type": "code",
      "metadata": {
        "id": "IcPjWD-ZpJYG",
        "colab_type": "code",
        "colab": {
          "base_uri": "https://localhost:8080/",
          "height": 284
        },
        "outputId": "9ace2c6e-2f2a-4631-dc80-0f1ccd35d8b2"
      },
      "source": [
        "! pip install --upgrade --force-reinstall --no-deps kaggle\n",
        "! mkdir /root/.kaggle/\n",
        "! cp \"/content/drive/My Drive/Machine Learning/kaggle.json\" /root/.kaggle/\n",
        "! chmod 600 /root/.kaggle/kaggle.json"
      ],
      "execution_count": 2,
      "outputs": [
        {
          "output_type": "stream",
          "text": [
            "Collecting kaggle\n",
            "\u001b[?25l  Downloading https://files.pythonhosted.org/packages/62/ab/bb20f9b9e24f9a6250f95a432f8d9a7d745f8d24039d7a5a6eaadb7783ba/kaggle-1.5.6.tar.gz (58kB)\n",
            "\r\u001b[K     |█████▋                          | 10kB 18.8MB/s eta 0:00:01\r\u001b[K     |███████████▎                    | 20kB 2.9MB/s eta 0:00:01\r\u001b[K     |█████████████████               | 30kB 3.8MB/s eta 0:00:01\r\u001b[K     |██████████████████████▌         | 40kB 4.1MB/s eta 0:00:01\r\u001b[K     |████████████████████████████▏   | 51kB 3.3MB/s eta 0:00:01\r\u001b[K     |████████████████████████████████| 61kB 2.9MB/s \n",
            "\u001b[?25hBuilding wheels for collected packages: kaggle\n",
            "  Building wheel for kaggle (setup.py) ... \u001b[?25l\u001b[?25hdone\n",
            "  Created wheel for kaggle: filename=kaggle-1.5.6-cp36-none-any.whl size=72859 sha256=7b12356be4306621df0a4a5045c5a56b90984bca0f5fce6d814b2abad4060d6e\n",
            "  Stored in directory: /root/.cache/pip/wheels/57/4e/e8/bb28d035162fb8f17f8ca5d42c3230e284c6aa565b42b72674\n",
            "Successfully built kaggle\n",
            "Installing collected packages: kaggle\n",
            "  Found existing installation: kaggle 1.5.6\n",
            "    Uninstalling kaggle-1.5.6:\n",
            "      Successfully uninstalled kaggle-1.5.6\n",
            "Successfully installed kaggle-1.5.6\n"
          ],
          "name": "stdout"
        }
      ]
    },
    {
      "cell_type": "code",
      "metadata": {
        "id": "lCSjsj1oprwD",
        "colab_type": "code",
        "colab": {
          "base_uri": "https://localhost:8080/",
          "height": 74
        },
        "outputId": "7fcf8b6f-65f2-474e-b530-d3b55535d5c3"
      },
      "source": [
        "!kaggle datasets download -d marklvl/sentiment-labelled-sentences-data-set"
      ],
      "execution_count": 3,
      "outputs": [
        {
          "output_type": "stream",
          "text": [
            "Downloading sentiment-labelled-sentences-data-set.zip to /content\n",
            "\r  0% 0.00/326k [00:00<?, ?B/s]\n",
            "\r100% 326k/326k [00:00<00:00, 77.4MB/s]\n"
          ],
          "name": "stdout"
        }
      ]
    },
    {
      "cell_type": "code",
      "metadata": {
        "id": "Q3eRrGzIqJRX",
        "colab_type": "code",
        "colab": {}
      },
      "source": [
        "import zipfile\n",
        "\n",
        "zipref = zipfile.ZipFile('sentiment-labelled-sentences-data-set.zip', 'r')\n",
        "zipref.extractall()\n",
        "zipref.close()"
      ],
      "execution_count": 4,
      "outputs": []
    },
    {
      "cell_type": "code",
      "metadata": {
        "id": "EHfc1ScjqXfK",
        "colab_type": "code",
        "colab": {}
      },
      "source": [
        "import pandas as pd\n",
        "\n",
        "df = pd.read_csv('sentiment labelled sentences/yelp_labelled.txt', names=['sentence', 'label'], sep='\\t')"
      ],
      "execution_count": 59,
      "outputs": []
    },
    {
      "cell_type": "code",
      "metadata": {
        "id": "mYun7SvgqvkR",
        "colab_type": "code",
        "colab": {
          "base_uri": "https://localhost:8080/",
          "height": 204
        },
        "outputId": "9c96ed04-e868-40c7-c3ef-2f48be28e6d3"
      },
      "source": [
        "df.tail()"
      ],
      "execution_count": 60,
      "outputs": [
        {
          "output_type": "execute_result",
          "data": {
            "text/html": [
              "<div>\n",
              "<style scoped>\n",
              "    .dataframe tbody tr th:only-of-type {\n",
              "        vertical-align: middle;\n",
              "    }\n",
              "\n",
              "    .dataframe tbody tr th {\n",
              "        vertical-align: top;\n",
              "    }\n",
              "\n",
              "    .dataframe thead th {\n",
              "        text-align: right;\n",
              "    }\n",
              "</style>\n",
              "<table border=\"1\" class=\"dataframe\">\n",
              "  <thead>\n",
              "    <tr style=\"text-align: right;\">\n",
              "      <th></th>\n",
              "      <th>sentence</th>\n",
              "      <th>label</th>\n",
              "    </tr>\n",
              "  </thead>\n",
              "  <tbody>\n",
              "    <tr>\n",
              "      <th>995</th>\n",
              "      <td>I think food should have flavor and texture an...</td>\n",
              "      <td>0</td>\n",
              "    </tr>\n",
              "    <tr>\n",
              "      <th>996</th>\n",
              "      <td>Appetite instantly gone.</td>\n",
              "      <td>0</td>\n",
              "    </tr>\n",
              "    <tr>\n",
              "      <th>997</th>\n",
              "      <td>Overall I was not impressed and would not go b...</td>\n",
              "      <td>0</td>\n",
              "    </tr>\n",
              "    <tr>\n",
              "      <th>998</th>\n",
              "      <td>The whole experience was underwhelming, and I ...</td>\n",
              "      <td>0</td>\n",
              "    </tr>\n",
              "    <tr>\n",
              "      <th>999</th>\n",
              "      <td>Then, as if I hadn't wasted enough of my life ...</td>\n",
              "      <td>0</td>\n",
              "    </tr>\n",
              "  </tbody>\n",
              "</table>\n",
              "</div>"
            ],
            "text/plain": [
              "                                              sentence  label\n",
              "995  I think food should have flavor and texture an...      0\n",
              "996                           Appetite instantly gone.      0\n",
              "997  Overall I was not impressed and would not go b...      0\n",
              "998  The whole experience was underwhelming, and I ...      0\n",
              "999  Then, as if I hadn't wasted enough of my life ...      0"
            ]
          },
          "metadata": {
            "tags": []
          },
          "execution_count": 60
        }
      ]
    },
    {
      "cell_type": "code",
      "metadata": {
        "id": "kqWr5Z_wqwu9",
        "colab_type": "code",
        "colab": {}
      },
      "source": [
        "from sklearn.model_selection import train_test_split\n",
        "\n",
        "sentences = df['sentence'].values\n",
        "y = df['label'].values\n",
        "\n",
        "x_train, x_test, y_train, y_test = train_test_split(sentences, y, test_size=0.2)"
      ],
      "execution_count": 61,
      "outputs": []
    },
    {
      "cell_type": "code",
      "metadata": {
        "id": "D1q29wOprXn3",
        "colab_type": "code",
        "colab": {}
      },
      "source": [
        "from tensorflow.keras.preprocessing.text import Tokenizer\n",
        "from tensorflow.keras.preprocessing.sequence import pad_sequences\n",
        "\n",
        "tokenizer = Tokenizer(num_words=10000, oov_token='<OOV>')\n",
        "tokenizer.fit_on_texts(x_train)\n",
        "\n",
        "sequence_train = tokenizer.texts_to_sequences(x_train)\n",
        "sequence_test = tokenizer.texts_to_sequences(x_test)\n",
        "\n",
        "padded_train = pad_sequences(sequence_train, padding='post', maxlen=30, truncating='post')\n",
        "padded_test = pad_sequences(sequence_test, padding='post', maxlen=30, truncating='post')"
      ],
      "execution_count": 62,
      "outputs": []
    },
    {
      "cell_type": "code",
      "metadata": {
        "id": "vexy3XeGtEbh",
        "colab_type": "code",
        "colab": {
          "base_uri": "https://localhost:8080/",
          "height": 283
        },
        "outputId": "408cccb7-4f9c-420d-dd01-c33148612ba0"
      },
      "source": [
        "print(padded_train)\n",
        "print(padded_test)"
      ],
      "execution_count": 63,
      "outputs": [
        {
          "output_type": "stream",
          "text": [
            "[[ 18 780  31 ...   0   0   0]\n",
            " [ 53 164 288 ...   0   0   0]\n",
            " [  4  49  89 ...   0   0   0]\n",
            " ...\n",
            " [  2  18  31 ...   0   0   0]\n",
            " [  9   8  22 ...   0   0   0]\n",
            " [ 37   4  32 ...   0   0   0]]\n",
            "[[ 150  373   53 ...    0    0    0]\n",
            " [  67    0    0 ...    0    0    0]\n",
            " [   1   24    6 ...    0    0    0]\n",
            " ...\n",
            " [ 622 1643  438 ...    0    0    0]\n",
            " [   4  104  486 ...    0    0    0]\n",
            " [  72    8  122 ...    0    0    0]]\n"
          ],
          "name": "stdout"
        }
      ]
    },
    {
      "cell_type": "code",
      "metadata": {
        "id": "1F7DPc7DtPaq",
        "colab_type": "code",
        "colab": {
          "base_uri": "https://localhost:8080/",
          "height": 55
        },
        "outputId": "9189273d-c81c-41f7-962f-18cc67b366e5"
      },
      "source": [
        "print(len(padded_train[0]))\n",
        "print(len(padded_test[0]))"
      ],
      "execution_count": 64,
      "outputs": [
        {
          "output_type": "stream",
          "text": [
            "30\n",
            "30\n"
          ],
          "name": "stdout"
        }
      ]
    },
    {
      "cell_type": "code",
      "metadata": {
        "id": "SRnJu73StuCD",
        "colab_type": "code",
        "colab": {
          "base_uri": "https://localhost:8080/",
          "height": 549
        },
        "outputId": "318454e3-41cf-4283-8a98-2830ff2bb70e"
      },
      "source": [
        "import tensorflow as tf\n",
        "\n",
        "model = tf.keras.Sequential([\n",
        "                             tf.keras.layers.Embedding(10000, 64, input_length=30),\n",
        "                             tf.keras.layers.Dropout(0.5),\n",
        "                             tf.keras.layers.Bidirectional(tf.keras.layers.LSTM(64, return_sequences=True)),\n",
        "                             tf.keras.layers.Dropout(0.5),\n",
        "                             tf.keras.layers.Bidirectional(tf.keras.layers.LSTM(64)),\n",
        "                            #  tf.keras.layers.GlobalAveragePooling1D(),\n",
        "                             tf.keras.layers.Dropout(0.5),\n",
        "                             tf.keras.layers.Flatten(),\n",
        "                             tf.keras.layers.Dense(128, activation='relu'),\n",
        "                             tf.keras.layers.Dropout(0.5),\n",
        "                             tf.keras.layers.Dense(1, activation='sigmoid')\n",
        "])\n",
        "\n",
        "model.compile(\n",
        "    loss='binary_crossentropy',\n",
        "    optimizer='adam',\n",
        "    metrics=['accuracy']\n",
        ")\n",
        "\n",
        "model.summary()"
      ],
      "execution_count": 69,
      "outputs": [
        {
          "output_type": "stream",
          "text": [
            "Model: \"sequential_12\"\n",
            "_________________________________________________________________\n",
            "Layer (type)                 Output Shape              Param #   \n",
            "=================================================================\n",
            "embedding_13 (Embedding)     (None, 30, 64)            640000    \n",
            "_________________________________________________________________\n",
            "dropout_9 (Dropout)          (None, 30, 64)            0         \n",
            "_________________________________________________________________\n",
            "bidirectional_13 (Bidirectio (None, 30, 128)           66048     \n",
            "_________________________________________________________________\n",
            "dropout_10 (Dropout)         (None, 30, 128)           0         \n",
            "_________________________________________________________________\n",
            "bidirectional_14 (Bidirectio (None, 128)               98816     \n",
            "_________________________________________________________________\n",
            "dropout_11 (Dropout)         (None, 128)               0         \n",
            "_________________________________________________________________\n",
            "flatten_10 (Flatten)         (None, 128)               0         \n",
            "_________________________________________________________________\n",
            "dense_24 (Dense)             (None, 128)               16512     \n",
            "_________________________________________________________________\n",
            "dropout_12 (Dropout)         (None, 128)               0         \n",
            "_________________________________________________________________\n",
            "dense_25 (Dense)             (None, 1)                 129       \n",
            "=================================================================\n",
            "Total params: 821,505\n",
            "Trainable params: 821,505\n",
            "Non-trainable params: 0\n",
            "_________________________________________________________________\n"
          ],
          "name": "stdout"
        }
      ]
    },
    {
      "cell_type": "code",
      "metadata": {
        "id": "6H-corNvur6Q",
        "colab_type": "code",
        "colab": {
          "base_uri": "https://localhost:8080/",
          "height": 1000
        },
        "outputId": "cdffd53a-a9d1-44cb-9212-36bb8ec4358b"
      },
      "source": [
        "num_epochs = 30\n",
        "history = model.fit(\n",
        "    padded_train,\n",
        "    y_train,\n",
        "    epochs=num_epochs,\n",
        "    validation_data=(padded_test, y_test)\n",
        ")"
      ],
      "execution_count": 70,
      "outputs": [
        {
          "output_type": "stream",
          "text": [
            "Epoch 1/30\n",
            "25/25 [==============================] - 2s 65ms/step - loss: 0.6947 - accuracy: 0.4888 - val_loss: 0.6924 - val_accuracy: 0.5500\n",
            "Epoch 2/30\n",
            "25/25 [==============================] - 0s 19ms/step - loss: 0.6919 - accuracy: 0.5088 - val_loss: 0.6885 - val_accuracy: 0.6150\n",
            "Epoch 3/30\n",
            "25/25 [==============================] - 0s 19ms/step - loss: 0.6695 - accuracy: 0.6037 - val_loss: 0.5969 - val_accuracy: 0.6650\n",
            "Epoch 4/30\n",
            "25/25 [==============================] - 0s 19ms/step - loss: 0.4632 - accuracy: 0.8150 - val_loss: 0.4313 - val_accuracy: 0.8350\n",
            "Epoch 5/30\n",
            "25/25 [==============================] - 0s 19ms/step - loss: 0.2357 - accuracy: 0.9212 - val_loss: 0.4110 - val_accuracy: 0.8300\n",
            "Epoch 6/30\n",
            "25/25 [==============================] - 0s 19ms/step - loss: 0.1600 - accuracy: 0.9525 - val_loss: 0.5723 - val_accuracy: 0.7900\n",
            "Epoch 7/30\n",
            "25/25 [==============================] - 0s 19ms/step - loss: 0.1143 - accuracy: 0.9663 - val_loss: 0.4239 - val_accuracy: 0.8550\n",
            "Epoch 8/30\n",
            "25/25 [==============================] - 0s 18ms/step - loss: 0.0491 - accuracy: 0.9812 - val_loss: 0.6833 - val_accuracy: 0.8250\n",
            "Epoch 9/30\n",
            "25/25 [==============================] - 0s 18ms/step - loss: 0.0400 - accuracy: 0.9887 - val_loss: 0.6771 - val_accuracy: 0.8250\n",
            "Epoch 10/30\n",
            "25/25 [==============================] - 0s 17ms/step - loss: 0.0351 - accuracy: 0.9900 - val_loss: 0.9915 - val_accuracy: 0.8150\n",
            "Epoch 11/30\n",
            "25/25 [==============================] - 0s 18ms/step - loss: 0.0618 - accuracy: 0.9775 - val_loss: 0.6037 - val_accuracy: 0.8350\n",
            "Epoch 12/30\n",
            "25/25 [==============================] - 0s 18ms/step - loss: 0.0298 - accuracy: 0.9875 - val_loss: 0.9446 - val_accuracy: 0.8050\n",
            "Epoch 13/30\n",
            "25/25 [==============================] - 0s 18ms/step - loss: 0.0412 - accuracy: 0.9912 - val_loss: 0.8856 - val_accuracy: 0.8200\n",
            "Epoch 14/30\n",
            "25/25 [==============================] - 0s 17ms/step - loss: 0.0208 - accuracy: 0.9950 - val_loss: 0.8579 - val_accuracy: 0.8250\n",
            "Epoch 15/30\n",
            "25/25 [==============================] - 0s 18ms/step - loss: 0.0127 - accuracy: 0.9975 - val_loss: 0.8697 - val_accuracy: 0.8150\n",
            "Epoch 16/30\n",
            "25/25 [==============================] - 0s 18ms/step - loss: 0.0119 - accuracy: 0.9937 - val_loss: 0.8215 - val_accuracy: 0.8300\n",
            "Epoch 17/30\n",
            "25/25 [==============================] - 0s 18ms/step - loss: 0.0120 - accuracy: 0.9975 - val_loss: 0.8390 - val_accuracy: 0.8600\n",
            "Epoch 18/30\n",
            "25/25 [==============================] - 0s 18ms/step - loss: 0.0251 - accuracy: 0.9937 - val_loss: 0.9237 - val_accuracy: 0.8250\n",
            "Epoch 19/30\n",
            "25/25 [==============================] - 0s 17ms/step - loss: 0.0211 - accuracy: 0.9925 - val_loss: 0.7282 - val_accuracy: 0.8250\n",
            "Epoch 20/30\n",
            "25/25 [==============================] - 0s 18ms/step - loss: 0.0111 - accuracy: 0.9962 - val_loss: 1.0837 - val_accuracy: 0.8350\n",
            "Epoch 21/30\n",
            "25/25 [==============================] - 0s 19ms/step - loss: 0.0085 - accuracy: 0.9975 - val_loss: 0.8062 - val_accuracy: 0.8450\n",
            "Epoch 22/30\n",
            "25/25 [==============================] - 0s 18ms/step - loss: 0.0066 - accuracy: 0.9962 - val_loss: 0.9821 - val_accuracy: 0.8300\n",
            "Epoch 23/30\n",
            "25/25 [==============================] - 0s 18ms/step - loss: 0.0066 - accuracy: 0.9975 - val_loss: 1.0500 - val_accuracy: 0.8250\n",
            "Epoch 24/30\n",
            "25/25 [==============================] - 0s 18ms/step - loss: 0.0035 - accuracy: 0.9987 - val_loss: 0.9333 - val_accuracy: 0.8300\n",
            "Epoch 25/30\n",
            "25/25 [==============================] - 0s 19ms/step - loss: 0.0088 - accuracy: 0.9987 - val_loss: 1.5734 - val_accuracy: 0.8200\n",
            "Epoch 26/30\n",
            "25/25 [==============================] - 1s 21ms/step - loss: 0.0042 - accuracy: 0.9975 - val_loss: 1.3281 - val_accuracy: 0.8300\n",
            "Epoch 27/30\n",
            "25/25 [==============================] - 0s 18ms/step - loss: 0.0102 - accuracy: 0.9962 - val_loss: 1.1356 - val_accuracy: 0.8150\n",
            "Epoch 28/30\n",
            "25/25 [==============================] - 0s 17ms/step - loss: 0.0162 - accuracy: 0.9937 - val_loss: 1.1518 - val_accuracy: 0.8100\n",
            "Epoch 29/30\n",
            "25/25 [==============================] - 0s 17ms/step - loss: 0.0166 - accuracy: 0.9925 - val_loss: 1.0489 - val_accuracy: 0.8050\n",
            "Epoch 30/30\n",
            "25/25 [==============================] - 0s 18ms/step - loss: 0.0079 - accuracy: 0.9962 - val_loss: 1.1168 - val_accuracy: 0.8250\n"
          ],
          "name": "stdout"
        }
      ]
    },
    {
      "cell_type": "code",
      "metadata": {
        "id": "JU-YhdYRvIAC",
        "colab_type": "code",
        "colab": {}
      },
      "source": [
        ""
      ],
      "execution_count": null,
      "outputs": []
    }
  ]
}