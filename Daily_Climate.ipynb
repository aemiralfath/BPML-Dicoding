{
  "nbformat": 4,
  "nbformat_minor": 0,
  "metadata": {
    "colab": {
      "name": "Daily Climate.ipynb",
      "provenance": [],
      "authorship_tag": "ABX9TyM2DgCYSI2bdM9SjDLN/rQn",
      "include_colab_link": true
    },
    "kernelspec": {
      "name": "python3",
      "display_name": "Python 3"
    },
    "accelerator": "GPU"
  },
  "cells": [
    {
      "cell_type": "markdown",
      "metadata": {
        "id": "view-in-github",
        "colab_type": "text"
      },
      "source": [
        "<a href=\"https://colab.research.google.com/github/aemiralfath/BPML-Dicoding/blob/master/Daily_Climate.ipynb\" target=\"_parent\"><img src=\"https://colab.research.google.com/assets/colab-badge.svg\" alt=\"Open In Colab\"/></a>"
      ]
    },
    {
      "cell_type": "code",
      "metadata": {
        "id": "Lu2gpFkxTt2V",
        "colab_type": "code",
        "colab": {
          "base_uri": "https://localhost:8080/",
          "height": 132
        },
        "outputId": "ead6c047-f589-41c6-ea8b-fe8ae1bd2d69"
      },
      "source": [
        "from google.colab import drive\n",
        "drive.mount('/content/drive')"
      ],
      "execution_count": 1,
      "outputs": [
        {
          "output_type": "stream",
          "text": [
            "Go to this URL in a browser: https://accounts.google.com/o/oauth2/auth?client_id=947318989803-6bn6qk8qdgf4n4g3pfee6491hc0brc4i.apps.googleusercontent.com&redirect_uri=urn%3aietf%3awg%3aoauth%3a2.0%3aoob&scope=email%20https%3a%2f%2fwww.googleapis.com%2fauth%2fdocs.test%20https%3a%2f%2fwww.googleapis.com%2fauth%2fdrive%20https%3a%2f%2fwww.googleapis.com%2fauth%2fdrive.photos.readonly%20https%3a%2f%2fwww.googleapis.com%2fauth%2fpeopleapi.readonly&response_type=code\n",
            "\n",
            "Enter your authorization code:\n",
            "··········\n",
            "Mounted at /content/drive\n"
          ],
          "name": "stdout"
        }
      ]
    },
    {
      "cell_type": "code",
      "metadata": {
        "id": "2PoaeanxULbs",
        "colab_type": "code",
        "colab": {
          "base_uri": "https://localhost:8080/",
          "height": 284
        },
        "outputId": "d9076799-d723-4b5f-9120-f3ad75f5ffb8"
      },
      "source": [
        "! pip install --upgrade --force-reinstall --no-deps kaggle\n",
        "! mkdir /root/.kaggle/\n",
        "! cp \"/content/drive/My Drive/Machine Learning/kaggle.json\" /root/.kaggle/\n",
        "! chmod 600 /root/.kaggle/kaggle.json"
      ],
      "execution_count": 2,
      "outputs": [
        {
          "output_type": "stream",
          "text": [
            "Collecting kaggle\n",
            "\u001b[?25l  Downloading https://files.pythonhosted.org/packages/62/ab/bb20f9b9e24f9a6250f95a432f8d9a7d745f8d24039d7a5a6eaadb7783ba/kaggle-1.5.6.tar.gz (58kB)\n",
            "\r\u001b[K     |█████▋                          | 10kB 18.1MB/s eta 0:00:01\r\u001b[K     |███████████▎                    | 20kB 4.4MB/s eta 0:00:01\r\u001b[K     |█████████████████               | 30kB 5.7MB/s eta 0:00:01\r\u001b[K     |██████████████████████▌         | 40kB 5.7MB/s eta 0:00:01\r\u001b[K     |████████████████████████████▏   | 51kB 5.2MB/s eta 0:00:01\r\u001b[K     |████████████████████████████████| 61kB 3.3MB/s \n",
            "\u001b[?25hBuilding wheels for collected packages: kaggle\n",
            "  Building wheel for kaggle (setup.py) ... \u001b[?25l\u001b[?25hdone\n",
            "  Created wheel for kaggle: filename=kaggle-1.5.6-cp36-none-any.whl size=72859 sha256=08b77714898ca2377f85730b7c1a72bb720f3cb7bb3e60c3425383ee6e6a15fe\n",
            "  Stored in directory: /root/.cache/pip/wheels/57/4e/e8/bb28d035162fb8f17f8ca5d42c3230e284c6aa565b42b72674\n",
            "Successfully built kaggle\n",
            "Installing collected packages: kaggle\n",
            "  Found existing installation: kaggle 1.5.6\n",
            "    Uninstalling kaggle-1.5.6:\n",
            "      Successfully uninstalled kaggle-1.5.6\n",
            "Successfully installed kaggle-1.5.6\n"
          ],
          "name": "stdout"
        }
      ]
    },
    {
      "cell_type": "code",
      "metadata": {
        "id": "RBepaS4pUXEy",
        "colab_type": "code",
        "colab": {
          "base_uri": "https://localhost:8080/",
          "height": 74
        },
        "outputId": "f8f9fc0e-36e2-4ebb-f162-74685e69ae98"
      },
      "source": [
        "!kaggle datasets download -d sumanthvrao/daily-climate-time-series-data"
      ],
      "execution_count": 3,
      "outputs": [
        {
          "output_type": "stream",
          "text": [
            "Downloading daily-climate-time-series-data.zip to /content\n",
            "\r  0% 0.00/22.0k [00:00<?, ?B/s]\n",
            "\r100% 22.0k/22.0k [00:00<00:00, 18.2MB/s]\n"
          ],
          "name": "stdout"
        }
      ]
    },
    {
      "cell_type": "code",
      "metadata": {
        "id": "JGqflRZwUetw",
        "colab_type": "code",
        "colab": {}
      },
      "source": [
        "import zipfile\n",
        "\n",
        "zipref = zipfile.ZipFile('daily-climate-time-series-data.zip', 'r')\n",
        "zipref.extractall()\n",
        "zipref.close()"
      ],
      "execution_count": 4,
      "outputs": []
    },
    {
      "cell_type": "code",
      "metadata": {
        "id": "T6JMk3m4V1JR",
        "colab_type": "code",
        "colab": {}
      },
      "source": [
        "import os\n",
        "import numpy as np\n",
        "import pandas as pd\n",
        "import matplotlib.pyplot as plt\n",
        "from matplotlib.ticker import MaxNLocator\n",
        "from IPython.display import display_html\n",
        "\n",
        "import tensorflow as tf\n",
        "from keras.layers import Dense, LSTM\n",
        "from keras.callbacks import ModelCheckpoint, TensorBoard, EarlyStopping\n",
        "\n",
        "from sklearn.metrics import mean_squared_error\n",
        "from sklearn.metrics import r2_score\n",
        "from sklearn.preprocessing import MinMaxScaler "
      ],
      "execution_count": 57,
      "outputs": []
    },
    {
      "cell_type": "code",
      "metadata": {
        "id": "GDszwWMcWD3c",
        "colab_type": "code",
        "colab": {
          "base_uri": "https://localhost:8080/",
          "height": 204
        },
        "outputId": "35b23423-ddd7-4f12-dd91-bcd7ab6ad11a"
      },
      "source": [
        "data_train = pd.read_csv('DailyDelhiClimateTrain.csv')\n",
        "data_train.tail()"
      ],
      "execution_count": 37,
      "outputs": [
        {
          "output_type": "execute_result",
          "data": {
            "text/html": [
              "<div>\n",
              "<style scoped>\n",
              "    .dataframe tbody tr th:only-of-type {\n",
              "        vertical-align: middle;\n",
              "    }\n",
              "\n",
              "    .dataframe tbody tr th {\n",
              "        vertical-align: top;\n",
              "    }\n",
              "\n",
              "    .dataframe thead th {\n",
              "        text-align: right;\n",
              "    }\n",
              "</style>\n",
              "<table border=\"1\" class=\"dataframe\">\n",
              "  <thead>\n",
              "    <tr style=\"text-align: right;\">\n",
              "      <th></th>\n",
              "      <th>date</th>\n",
              "      <th>meantemp</th>\n",
              "      <th>humidity</th>\n",
              "      <th>wind_speed</th>\n",
              "      <th>meanpressure</th>\n",
              "    </tr>\n",
              "  </thead>\n",
              "  <tbody>\n",
              "    <tr>\n",
              "      <th>1457</th>\n",
              "      <td>2016-12-28</td>\n",
              "      <td>17.217391</td>\n",
              "      <td>68.043478</td>\n",
              "      <td>3.547826</td>\n",
              "      <td>1015.565217</td>\n",
              "    </tr>\n",
              "    <tr>\n",
              "      <th>1458</th>\n",
              "      <td>2016-12-29</td>\n",
              "      <td>15.238095</td>\n",
              "      <td>87.857143</td>\n",
              "      <td>6.000000</td>\n",
              "      <td>1016.904762</td>\n",
              "    </tr>\n",
              "    <tr>\n",
              "      <th>1459</th>\n",
              "      <td>2016-12-30</td>\n",
              "      <td>14.095238</td>\n",
              "      <td>89.666667</td>\n",
              "      <td>6.266667</td>\n",
              "      <td>1017.904762</td>\n",
              "    </tr>\n",
              "    <tr>\n",
              "      <th>1460</th>\n",
              "      <td>2016-12-31</td>\n",
              "      <td>15.052632</td>\n",
              "      <td>87.000000</td>\n",
              "      <td>7.325000</td>\n",
              "      <td>1016.100000</td>\n",
              "    </tr>\n",
              "    <tr>\n",
              "      <th>1461</th>\n",
              "      <td>2017-01-01</td>\n",
              "      <td>10.000000</td>\n",
              "      <td>100.000000</td>\n",
              "      <td>0.000000</td>\n",
              "      <td>1016.000000</td>\n",
              "    </tr>\n",
              "  </tbody>\n",
              "</table>\n",
              "</div>"
            ],
            "text/plain": [
              "            date   meantemp    humidity  wind_speed  meanpressure\n",
              "1457  2016-12-28  17.217391   68.043478    3.547826   1015.565217\n",
              "1458  2016-12-29  15.238095   87.857143    6.000000   1016.904762\n",
              "1459  2016-12-30  14.095238   89.666667    6.266667   1017.904762\n",
              "1460  2016-12-31  15.052632   87.000000    7.325000   1016.100000\n",
              "1461  2017-01-01  10.000000  100.000000    0.000000   1016.000000"
            ]
          },
          "metadata": {
            "tags": []
          },
          "execution_count": 37
        }
      ]
    },
    {
      "cell_type": "code",
      "metadata": {
        "id": "Yrtsgh95Z0Rj",
        "colab_type": "code",
        "colab": {
          "base_uri": "https://localhost:8080/",
          "height": 204
        },
        "outputId": "9503aedb-7f5b-4ec8-ab30-6d8efb0332a1"
      },
      "source": [
        "data_test = pd.read_csv('DailyDelhiClimateTest.csv')\n",
        "data_test.tail()"
      ],
      "execution_count": 38,
      "outputs": [
        {
          "output_type": "execute_result",
          "data": {
            "text/html": [
              "<div>\n",
              "<style scoped>\n",
              "    .dataframe tbody tr th:only-of-type {\n",
              "        vertical-align: middle;\n",
              "    }\n",
              "\n",
              "    .dataframe tbody tr th {\n",
              "        vertical-align: top;\n",
              "    }\n",
              "\n",
              "    .dataframe thead th {\n",
              "        text-align: right;\n",
              "    }\n",
              "</style>\n",
              "<table border=\"1\" class=\"dataframe\">\n",
              "  <thead>\n",
              "    <tr style=\"text-align: right;\">\n",
              "      <th></th>\n",
              "      <th>date</th>\n",
              "      <th>meantemp</th>\n",
              "      <th>humidity</th>\n",
              "      <th>wind_speed</th>\n",
              "      <th>meanpressure</th>\n",
              "    </tr>\n",
              "  </thead>\n",
              "  <tbody>\n",
              "    <tr>\n",
              "      <th>109</th>\n",
              "      <td>2017-04-20</td>\n",
              "      <td>34.500</td>\n",
              "      <td>27.500000</td>\n",
              "      <td>5.562500</td>\n",
              "      <td>998.625000</td>\n",
              "    </tr>\n",
              "    <tr>\n",
              "      <th>110</th>\n",
              "      <td>2017-04-21</td>\n",
              "      <td>34.250</td>\n",
              "      <td>39.375000</td>\n",
              "      <td>6.962500</td>\n",
              "      <td>999.875000</td>\n",
              "    </tr>\n",
              "    <tr>\n",
              "      <th>111</th>\n",
              "      <td>2017-04-22</td>\n",
              "      <td>32.900</td>\n",
              "      <td>40.900000</td>\n",
              "      <td>8.890000</td>\n",
              "      <td>1001.600000</td>\n",
              "    </tr>\n",
              "    <tr>\n",
              "      <th>112</th>\n",
              "      <td>2017-04-23</td>\n",
              "      <td>32.875</td>\n",
              "      <td>27.500000</td>\n",
              "      <td>9.962500</td>\n",
              "      <td>1002.125000</td>\n",
              "    </tr>\n",
              "    <tr>\n",
              "      <th>113</th>\n",
              "      <td>2017-04-24</td>\n",
              "      <td>32.000</td>\n",
              "      <td>27.142857</td>\n",
              "      <td>12.157143</td>\n",
              "      <td>1004.142857</td>\n",
              "    </tr>\n",
              "  </tbody>\n",
              "</table>\n",
              "</div>"
            ],
            "text/plain": [
              "           date  meantemp   humidity  wind_speed  meanpressure\n",
              "109  2017-04-20    34.500  27.500000    5.562500    998.625000\n",
              "110  2017-04-21    34.250  39.375000    6.962500    999.875000\n",
              "111  2017-04-22    32.900  40.900000    8.890000   1001.600000\n",
              "112  2017-04-23    32.875  27.500000    9.962500   1002.125000\n",
              "113  2017-04-24    32.000  27.142857   12.157143   1004.142857"
            ]
          },
          "metadata": {
            "tags": []
          },
          "execution_count": 38
        }
      ]
    },
    {
      "cell_type": "code",
      "metadata": {
        "id": "-t1Gn2XAZ7by",
        "colab_type": "code",
        "colab": {
          "base_uri": "https://localhost:8080/",
          "height": 36
        },
        "outputId": "7ba427e9-f2a4-4027-aa8c-5b6425ebe336"
      },
      "source": [
        "data = pd.concat([data_train, data_test])\n",
        "data.shapecallback = TensorBoard(logdir)"
      ],
      "execution_count": 10,
      "outputs": [
        {
          "output_type": "execute_result",
          "data": {
            "text/plain": [
              "(1576, 5)"
            ]
          },
          "metadata": {
            "tags": []
          },
          "execution_count": 10
        }
      ]
    },
    {
      "cell_type": "code",
      "metadata": {
        "id": "faX6Lcts0847",
        "colab_type": "code",
        "colab": {
          "base_uri": "https://localhost:8080/",
          "height": 419
        },
        "outputId": "cc71caae-0dbc-4408-8f2b-6b0b70480f9b"
      },
      "source": [
        "data[-116:]"
      ],
      "execution_count": 41,
      "outputs": [
        {
          "output_type": "execute_result",
          "data": {
            "text/html": [
              "<div>\n",
              "<style scoped>\n",
              "    .dataframe tbody tr th:only-of-type {\n",
              "        vertical-align: middle;\n",
              "    }\n",
              "\n",
              "    .dataframe tbody tr th {\n",
              "        vertical-align: top;\n",
              "    }\n",
              "\n",
              "    .dataframe thead th {\n",
              "        text-align: right;\n",
              "    }\n",
              "</style>\n",
              "<table border=\"1\" class=\"dataframe\">\n",
              "  <thead>\n",
              "    <tr style=\"text-align: right;\">\n",
              "      <th></th>\n",
              "      <th>date</th>\n",
              "      <th>temp</th>\n",
              "      <th>humidity</th>\n",
              "      <th>wind</th>\n",
              "      <th>pressure</th>\n",
              "    </tr>\n",
              "  </thead>\n",
              "  <tbody>\n",
              "    <tr>\n",
              "      <th>1460</th>\n",
              "      <td>2016-12-31</td>\n",
              "      <td>15.052632</td>\n",
              "      <td>87.000000</td>\n",
              "      <td>7.325000</td>\n",
              "      <td>1016.100000</td>\n",
              "    </tr>\n",
              "    <tr>\n",
              "      <th>1461</th>\n",
              "      <td>2017-01-01</td>\n",
              "      <td>10.000000</td>\n",
              "      <td>100.000000</td>\n",
              "      <td>0.000000</td>\n",
              "      <td>1016.000000</td>\n",
              "    </tr>\n",
              "    <tr>\n",
              "      <th>0</th>\n",
              "      <td>2017-01-01</td>\n",
              "      <td>15.913043</td>\n",
              "      <td>85.869565</td>\n",
              "      <td>2.743478</td>\n",
              "      <td>59.000000</td>\n",
              "    </tr>\n",
              "    <tr>\n",
              "      <th>1</th>\n",
              "      <td>2017-01-02</td>\n",
              "      <td>18.500000</td>\n",
              "      <td>77.222222</td>\n",
              "      <td>2.894444</td>\n",
              "      <td>1018.277778</td>\n",
              "    </tr>\n",
              "    <tr>\n",
              "      <th>2</th>\n",
              "      <td>2017-01-03</td>\n",
              "      <td>17.111111</td>\n",
              "      <td>81.888889</td>\n",
              "      <td>4.016667</td>\n",
              "      <td>1018.333333</td>\n",
              "    </tr>\n",
              "    <tr>\n",
              "      <th>...</th>\n",
              "      <td>...</td>\n",
              "      <td>...</td>\n",
              "      <td>...</td>\n",
              "      <td>...</td>\n",
              "      <td>...</td>\n",
              "    </tr>\n",
              "    <tr>\n",
              "      <th>109</th>\n",
              "      <td>2017-04-20</td>\n",
              "      <td>34.500000</td>\n",
              "      <td>27.500000</td>\n",
              "      <td>5.562500</td>\n",
              "      <td>998.625000</td>\n",
              "    </tr>\n",
              "    <tr>\n",
              "      <th>110</th>\n",
              "      <td>2017-04-21</td>\n",
              "      <td>34.250000</td>\n",
              "      <td>39.375000</td>\n",
              "      <td>6.962500</td>\n",
              "      <td>999.875000</td>\n",
              "    </tr>\n",
              "    <tr>\n",
              "      <th>111</th>\n",
              "      <td>2017-04-22</td>\n",
              "      <td>32.900000</td>\n",
              "      <td>40.900000</td>\n",
              "      <td>8.890000</td>\n",
              "      <td>1001.600000</td>\n",
              "    </tr>\n",
              "    <tr>\n",
              "      <th>112</th>\n",
              "      <td>2017-04-23</td>\n",
              "      <td>32.875000</td>\n",
              "      <td>27.500000</td>\n",
              "      <td>9.962500</td>\n",
              "      <td>1002.125000</td>\n",
              "    </tr>\n",
              "    <tr>\n",
              "      <th>113</th>\n",
              "      <td>2017-04-24</td>\n",
              "      <td>32.000000</td>\n",
              "      <td>27.142857</td>\n",
              "      <td>12.157143</td>\n",
              "      <td>1004.142857</td>\n",
              "    </tr>\n",
              "  </tbody>\n",
              "</table>\n",
              "<p>116 rows × 5 columns</p>\n",
              "</div>"
            ],
            "text/plain": [
              "           date       temp    humidity       wind     pressure\n",
              "1460 2016-12-31  15.052632   87.000000   7.325000  1016.100000\n",
              "1461 2017-01-01  10.000000  100.000000   0.000000  1016.000000\n",
              "0    2017-01-01  15.913043   85.869565   2.743478    59.000000\n",
              "1    2017-01-02  18.500000   77.222222   2.894444  1018.277778\n",
              "2    2017-01-03  17.111111   81.888889   4.016667  1018.333333\n",
              "...         ...        ...         ...        ...          ...\n",
              "109  2017-04-20  34.500000   27.500000   5.562500   998.625000\n",
              "110  2017-04-21  34.250000   39.375000   6.962500   999.875000\n",
              "111  2017-04-22  32.900000   40.900000   8.890000  1001.600000\n",
              "112  2017-04-23  32.875000   27.500000   9.962500  1002.125000\n",
              "113  2017-04-24  32.000000   27.142857  12.157143  1004.142857\n",
              "\n",
              "[116 rows x 5 columns]"
            ]
          },
          "metadata": {
            "tags": []
          },
          "execution_count": 41
        }
      ]
    },
    {
      "cell_type": "code",
      "metadata": {
        "id": "fXez0Bv0WNWj",
        "colab_type": "code",
        "colab": {
          "base_uri": "https://localhost:8080/",
          "height": 131
        },
        "outputId": "1d5a70bc-9278-4b98-a858-7a0784e6d047"
      },
      "source": [
        "data.isnull().sum()"
      ],
      "execution_count": 12,
      "outputs": [
        {
          "output_type": "execute_result",
          "data": {
            "text/plain": [
              "date            0\n",
              "meantemp        0\n",
              "humidity        0\n",
              "wind_speed      0\n",
              "meanpressure    0\n",
              "dtype: int64"
            ]
          },
          "metadata": {
            "tags": []
          },
          "execution_count": 12
        }
      ]
    },
    {
      "cell_type": "code",
      "metadata": {
        "id": "jG_ObvemaaXq",
        "colab_type": "code",
        "colab": {
          "base_uri": "https://localhost:8080/",
          "height": 297
        },
        "outputId": "e9838a14-588c-4d84-9b5a-2dd55a2e52b3"
      },
      "source": [
        "data.describe()"
      ],
      "execution_count": 13,
      "outputs": [
        {
          "output_type": "execute_result",
          "data": {
            "text/html": [
              "<div>\n",
              "<style scoped>\n",
              "    .dataframe tbody tr th:only-of-type {\n",
              "        vertical-align: middle;\n",
              "    }\n",
              "\n",
              "    .dataframe tbody tr th {\n",
              "        vertical-align: top;\n",
              "    }\n",
              "\n",
              "    .dataframe thead th {\n",
              "        text-align: right;\n",
              "    }\n",
              "</style>\n",
              "<table border=\"1\" class=\"dataframe\">\n",
              "  <thead>\n",
              "    <tr style=\"text-align: right;\">\n",
              "      <th></th>\n",
              "      <th>meantemp</th>\n",
              "      <th>humidity</th>\n",
              "      <th>wind_speed</th>\n",
              "      <th>meanpressure</th>\n",
              "    </tr>\n",
              "  </thead>\n",
              "  <tbody>\n",
              "    <tr>\n",
              "      <th>count</th>\n",
              "      <td>1576.000000</td>\n",
              "      <td>1576.000000</td>\n",
              "      <td>1576.000000</td>\n",
              "      <td>1576.000000</td>\n",
              "    </tr>\n",
              "    <tr>\n",
              "      <th>mean</th>\n",
              "      <td>25.221918</td>\n",
              "      <td>60.445229</td>\n",
              "      <td>6.899262</td>\n",
              "      <td>1010.593178</td>\n",
              "    </tr>\n",
              "    <tr>\n",
              "      <th>std</th>\n",
              "      <td>7.345014</td>\n",
              "      <td>16.979994</td>\n",
              "      <td>4.510725</td>\n",
              "      <td>175.242704</td>\n",
              "    </tr>\n",
              "    <tr>\n",
              "      <th>min</th>\n",
              "      <td>6.000000</td>\n",
              "      <td>13.428571</td>\n",
              "      <td>0.000000</td>\n",
              "      <td>-3.041667</td>\n",
              "    </tr>\n",
              "    <tr>\n",
              "      <th>25%</th>\n",
              "      <td>18.500000</td>\n",
              "      <td>49.750000</td>\n",
              "      <td>3.700000</td>\n",
              "      <td>1001.875000</td>\n",
              "    </tr>\n",
              "    <tr>\n",
              "      <th>50%</th>\n",
              "      <td>27.166667</td>\n",
              "      <td>62.440476</td>\n",
              "      <td>6.363571</td>\n",
              "      <td>1009.055556</td>\n",
              "    </tr>\n",
              "    <tr>\n",
              "      <th>75%</th>\n",
              "      <td>31.142857</td>\n",
              "      <td>72.125000</td>\n",
              "      <td>9.262500</td>\n",
              "      <td>1015.200000</td>\n",
              "    </tr>\n",
              "    <tr>\n",
              "      <th>max</th>\n",
              "      <td>38.714286</td>\n",
              "      <td>100.000000</td>\n",
              "      <td>42.220000</td>\n",
              "      <td>7679.333333</td>\n",
              "    </tr>\n",
              "  </tbody>\n",
              "</table>\n",
              "</div>"
            ],
            "text/plain": [
              "          meantemp     humidity   wind_speed  meanpressure\n",
              "count  1576.000000  1576.000000  1576.000000   1576.000000\n",
              "mean     25.221918    60.445229     6.899262   1010.593178\n",
              "std       7.345014    16.979994     4.510725    175.242704\n",
              "min       6.000000    13.428571     0.000000     -3.041667\n",
              "25%      18.500000    49.750000     3.700000   1001.875000\n",
              "50%      27.166667    62.440476     6.363571   1009.055556\n",
              "75%      31.142857    72.125000     9.262500   1015.200000\n",
              "max      38.714286   100.000000    42.220000   7679.333333"
            ]
          },
          "metadata": {
            "tags": []
          },
          "execution_count": 13
        }
      ]
    },
    {
      "cell_type": "code",
      "metadata": {
        "id": "fRL4AVT-aoKg",
        "colab_type": "code",
        "colab": {}
      },
      "source": [
        "data['date'] = pd.to_datetime(data['date'])"
      ],
      "execution_count": 14,
      "outputs": []
    },
    {
      "cell_type": "code",
      "metadata": {
        "id": "Zcgjn9gma90l",
        "colab_type": "code",
        "colab": {
          "base_uri": "https://localhost:8080/",
          "height": 204
        },
        "outputId": "9f25da20-a9e4-4b2e-a610-1a3002849161"
      },
      "source": [
        "data = data.rename(columns={\"meantemp\":\"temp\", \"wind_speed\":\"wind\", \"meanpressure\":\"pressure\"})\n",
        "data.head()"
      ],
      "execution_count": 15,
      "outputs": [
        {
          "output_type": "execute_result",
          "data": {
            "text/html": [
              "<div>\n",
              "<style scoped>\n",
              "    .dataframe tbody tr th:only-of-type {\n",
              "        vertical-align: middle;\n",
              "    }\n",
              "\n",
              "    .dataframe tbody tr th {\n",
              "        vertical-align: top;\n",
              "    }\n",
              "\n",
              "    .dataframe thead th {\n",
              "        text-align: right;\n",
              "    }\n",
              "</style>\n",
              "<table border=\"1\" class=\"dataframe\">\n",
              "  <thead>\n",
              "    <tr style=\"text-align: right;\">\n",
              "      <th></th>\n",
              "      <th>date</th>\n",
              "      <th>temp</th>\n",
              "      <th>humidity</th>\n",
              "      <th>wind</th>\n",
              "      <th>pressure</th>\n",
              "    </tr>\n",
              "  </thead>\n",
              "  <tbody>\n",
              "    <tr>\n",
              "      <th>0</th>\n",
              "      <td>2013-01-01</td>\n",
              "      <td>10.000000</td>\n",
              "      <td>84.500000</td>\n",
              "      <td>0.000000</td>\n",
              "      <td>1015.666667</td>\n",
              "    </tr>\n",
              "    <tr>\n",
              "      <th>1</th>\n",
              "      <td>2013-01-02</td>\n",
              "      <td>7.400000</td>\n",
              "      <td>92.000000</td>\n",
              "      <td>2.980000</td>\n",
              "      <td>1017.800000</td>\n",
              "    </tr>\n",
              "    <tr>\n",
              "      <th>2</th>\n",
              "      <td>2013-01-03</td>\n",
              "      <td>7.166667</td>\n",
              "      <td>87.000000</td>\n",
              "      <td>4.633333</td>\n",
              "      <td>1018.666667</td>\n",
              "    </tr>\n",
              "    <tr>\n",
              "      <th>3</th>\n",
              "      <td>2013-01-04</td>\n",
              "      <td>8.666667</td>\n",
              "      <td>71.333333</td>\n",
              "      <td>1.233333</td>\n",
              "      <td>1017.166667</td>\n",
              "    </tr>\n",
              "    <tr>\n",
              "      <th>4</th>\n",
              "      <td>2013-01-05</td>\n",
              "      <td>6.000000</td>\n",
              "      <td>86.833333</td>\n",
              "      <td>3.700000</td>\n",
              "      <td>1016.500000</td>\n",
              "    </tr>\n",
              "  </tbody>\n",
              "</table>\n",
              "</div>"
            ],
            "text/plain": [
              "        date       temp   humidity      wind     pressure\n",
              "0 2013-01-01  10.000000  84.500000  0.000000  1015.666667\n",
              "1 2013-01-02   7.400000  92.000000  2.980000  1017.800000\n",
              "2 2013-01-03   7.166667  87.000000  4.633333  1018.666667\n",
              "3 2013-01-04   8.666667  71.333333  1.233333  1017.166667\n",
              "4 2013-01-05   6.000000  86.833333  3.700000  1016.500000"
            ]
          },
          "metadata": {
            "tags": []
          },
          "execution_count": 15
        }
      ]
    },
    {
      "cell_type": "code",
      "metadata": {
        "id": "UiVsB1LV2ru8",
        "colab_type": "code",
        "colab": {
          "base_uri": "https://localhost:8080/",
          "height": 341
        },
        "outputId": "434f3cb8-1799-4c15-a5db-ee028fe4e059"
      },
      "source": [
        "plt.figure(figsize=(15,5))\n",
        "plt.plot(dates[len(data_train):], temp[len(data_train):])\n",
        "plt.title('Temperature average', fontsize=20);"
      ],
      "execution_count": 50,
      "outputs": [
        {
          "output_type": "display_data",
          "data": {
            "image/png": "[encoded data removed]",
            "text/plain": [
              "<Figure size 1080x360 with 1 Axes>"
            ]
          },
          "metadata": {
            "tags": [],
            "needs_background": "light"
          }
        }
      ]
    },
    {
      "cell_type": "code",
      "metadata": {
        "id": "TLUdJ2jCkCjy",
        "colab_type": "code",
        "colab": {}
      },
      "source": [
        "def Visualize(data, kind='hist',figsize=(10,10)):\n",
        "    def Col():\n",
        "        cols = ['temp',\t'humidity',\t'wind'\t,'pressure']\n",
        "        for c in cols:\n",
        "            yield c\n",
        "\n",
        "    fig, axes = plt.subplots(nrows=2, ncols=2, figsize=figsize)\n",
        "    col = Col()\n",
        "    for i in range(2):\n",
        "        for j in range(2):\n",
        "            curr = next(col)\n",
        "            if kind == 'hist':\n",
        "                axes[i,j].hist(data[curr])\n",
        "            elif kind == 'plot':\n",
        "                axes[i,j].plot(data['date'],data[curr])\n",
        "                plt.gcf().autofmt_xdate()\n",
        "            axes[i,j].set_title(curr)"
      ],
      "execution_count": 28,
      "outputs": []
    },
    {
      "cell_type": "code",
      "metadata": {
        "id": "L6yj6R05rJmd",
        "colab_type": "code",
        "colab": {
          "base_uri": "https://localhost:8080/",
          "height": 607
        },
        "outputId": "9483f599-0c08-40a8-b93f-4d3847247ffa"
      },
      "source": [
        "Visualize(data)"
      ],
      "execution_count": 30,
      "outputs": [
        {
          "output_type": "display_data",
          "data": {
            "image/png": "[encoded data removed]",
            "text/plain": [
              "<Figure size 720x720 with 4 Axes>"
            ]
          },
          "metadata": {
            "tags": [],
            "needs_background": "light"
          }
        }
      ]
    },
    {
      "cell_type": "code",
      "metadata": {
        "id": "m0IhsDEdr3e_",
        "colab_type": "code",
        "colab": {
          "base_uri": "https://localhost:8080/",
          "height": 573
        },
        "outputId": "f2d11802-7422-43f5-e6fa-5061d68b9e84"
      },
      "source": [
        "Visualize(data, 'plot', (20,10))"
      ],
      "execution_count": 31,
      "outputs": [
        {
          "output_type": "display_data",
          "data": {
            "image/png": "[encoded data removed]",
            "text/plain": [
              "<Figure size 1440x720 with 4 Axes>"
            ]
          },
          "metadata": {
            "tags": [],
            "needs_background": "light"
          }
        }
      ]
    },
    {
      "cell_type": "code",
      "metadata": {
        "id": "JS8r1Puefe-V",
        "colab_type": "code",
        "colab": {
          "base_uri": "https://localhost:8080/",
          "height": 150
        },
        "outputId": "dd43cd48-8f70-469b-b7f4-d723b0d64ebe"
      },
      "source": [
        "scaler = MinMaxScaler()\n",
        "transformed = scaler.fit_transform(data.loc[:, [\"humidity\",\"wind\",\"pressure\"]])\n",
        "transformed"
      ],
      "execution_count": 33,
      "outputs": [
        {
          "output_type": "execute_result",
          "data": {
            "text/plain": [
              "array([[0.8209571 , 0.        , 0.13260331],\n",
              "       [0.90759076, 0.07058266, 0.132881  ],\n",
              "       [0.84983498, 0.10974262, 0.13299381],\n",
              "       ...,\n",
              "       [0.31732673, 0.21056371, 0.13077228],\n",
              "       [0.16254125, 0.23596637, 0.13084061],\n",
              "       [0.15841584, 0.28794749, 0.13110328]])"
            ]
          },
          "metadata": {
            "tags": []
          },
          "execution_count": 33
        }
      ]
    },
    {
      "cell_type": "code",
      "metadata": {
        "id": "7hUBSLkZgBW4",
        "colab_type": "code",
        "colab": {
          "base_uri": "https://localhost:8080/",
          "height": 204
        },
        "outputId": "fec45cdc-66a0-4749-ae05-967c218dd7b9"
      },
      "source": [
        "transformed = pd.DataFrame(transformed, columns = [\"humidity\",\"wind\",\"pressure\"])\n",
        "transformed.head()"
      ],
      "execution_count": 34,
      "outputs": [
        {
          "output_type": "execute_result",
          "data": {
            "text/html": [
              "<div>\n",
              "<style scoped>\n",
              "    .dataframe tbody tr th:only-of-type {\n",
              "        vertical-align: middle;\n",
              "    }\n",
              "\n",
              "    .dataframe tbody tr th {\n",
              "        vertical-align: top;\n",
              "    }\n",
              "\n",
              "    .dataframe thead th {\n",
              "        text-align: right;\n",
              "    }\n",
              "</style>\n",
              "<table border=\"1\" class=\"dataframe\">\n",
              "  <thead>\n",
              "    <tr style=\"text-align: right;\">\n",
              "      <th></th>\n",
              "      <th>humidity</th>\n",
              "      <th>wind</th>\n",
              "      <th>pressure</th>\n",
              "    </tr>\n",
              "  </thead>\n",
              "  <tbody>\n",
              "    <tr>\n",
              "      <th>0</th>\n",
              "      <td>0.820957</td>\n",
              "      <td>0.000000</td>\n",
              "      <td>0.132603</td>\n",
              "    </tr>\n",
              "    <tr>\n",
              "      <th>1</th>\n",
              "      <td>0.907591</td>\n",
              "      <td>0.070583</td>\n",
              "      <td>0.132881</td>\n",
              "    </tr>\n",
              "    <tr>\n",
              "      <th>2</th>\n",
              "      <td>0.849835</td>\n",
              "      <td>0.109743</td>\n",
              "      <td>0.132994</td>\n",
              "    </tr>\n",
              "    <tr>\n",
              "      <th>3</th>\n",
              "      <td>0.668867</td>\n",
              "      <td>0.029212</td>\n",
              "      <td>0.132799</td>\n",
              "    </tr>\n",
              "    <tr>\n",
              "      <th>4</th>\n",
              "      <td>0.847910</td>\n",
              "      <td>0.087636</td>\n",
              "      <td>0.132712</td>\n",
              "    </tr>\n",
              "  </tbody>\n",
              "</table>\n",
              "</div>"
            ],
            "text/plain": [
              "   humidity      wind  pressure\n",
              "0  0.820957  0.000000  0.132603\n",
              "1  0.907591  0.070583  0.132881\n",
              "2  0.849835  0.109743  0.132994\n",
              "3  0.668867  0.029212  0.132799\n",
              "4  0.847910  0.087636  0.132712"
            ]
          },
          "metadata": {
            "tags": []
          },
          "execution_count": 34
        }
      ]
    },
    {
      "cell_type": "code",
      "metadata": {
        "id": "XT_p6iVyWX9S",
        "colab_type": "code",
        "colab": {}
      },
      "source": [
        "dates = data['date'].values\n",
        "temp = data['temp'].values\n",
        "humidity = data['humidity'].values\n",
        "wind = data['wind'].values\n",
        "pressure = data['pressure'].values"
      ],
      "execution_count": 17,
      "outputs": []
    },
    {
      "cell_type": "code",
      "metadata": {
        "id": "DY1zyIcWgI53",
        "colab_type": "code",
        "colab": {}
      },
      "source": [
        "humidity_s = transformed['humidity'].values\n",
        "wind_s = transformed['wind'].values\n",
        "pressure_s = transformed['pressure'].values"
      ],
      "execution_count": 35,
      "outputs": []
    },
    {
      "cell_type": "code",
      "metadata": {
        "id": "Gw3ig4W7Zw7P",
        "colab_type": "code",
        "colab": {
          "base_uri": "https://localhost:8080/",
          "height": 245
        },
        "outputId": "bedcdfcb-d75a-4ea6-bf6d-a5e3c621360d"
      },
      "source": [
        "dataset = tf.data.Dataset.range(10)\n",
        "dataset = dataset.window(5, shift=1, drop_remainder=True)\n",
        "dataset = dataset.flat_map(lambda window: window.batch(5))\n",
        "dataset = dataset.map(lambda window: (window[:-1], window[-1:]))\n",
        "dataset = dataset.shuffle(buffer_size=10)\n",
        "dataset = dataset.batch(2).prefetch(1)\n",
        "for x,y in dataset:\n",
        "  print(\"x = \", x.numpy())\n",
        "  print(\"y = \", y.numpy())"
      ],
      "execution_count": 42,
      "outputs": [
        {
          "output_type": "stream",
          "text": [
            "x =  [[5 6 7 8]\n",
            " [4 5 6 7]]\n",
            "y =  [[9]\n",
            " [8]]\n",
            "x =  [[2 3 4 5]\n",
            " [0 1 2 3]]\n",
            "y =  [[6]\n",
            " [4]]\n",
            "x =  [[1 2 3 4]\n",
            " [3 4 5 6]]\n",
            "y =  [[5]\n",
            " [7]]\n"
          ],
          "name": "stdout"
        }
      ]
    },
    {
      "cell_type": "code",
      "metadata": {
        "id": "aeufMyaPW2qM",
        "colab_type": "code",
        "colab": {}
      },
      "source": [
        "def windowed_dataset(series, window_size, batch_size, shuffle_buffer):\n",
        "    series = tf.expand_dims(series, axis=-1)\n",
        "    ds = tf.data.Dataset.from_tensor_slices(series)\n",
        "    ds = ds.window(window_size + 1, shift=1, drop_remainder=True)\n",
        "    ds = ds.flat_map(lambda w: w.batch(window_size + 1))\n",
        "    ds = ds.shuffle(shuffle_buffer)\n",
        "    ds = ds.map(lambda w: (w[:-1], w[1:]))\n",
        "    return ds.batch(batch_size).prefetch(1)"
      ],
      "execution_count": 43,
      "outputs": []
    },
    {
      "cell_type": "code",
      "metadata": {
        "id": "_fq2n42V19P0",
        "colab_type": "code",
        "colab": {
          "base_uri": "https://localhost:8080/",
          "height": 36
        },
        "outputId": "3012bfe6-2bc8-4b2e-ad58-f5239752c56b"
      },
      "source": [
        "train_length = len(data_train)\n",
        "print(train_length)"
      ],
      "execution_count": 44,
      "outputs": [
        {
          "output_type": "stream",
          "text": [
            "1462\n"
          ],
          "name": "stdout"
        }
      ]
    },
    {
      "cell_type": "code",
      "metadata": {
        "id": "lqstfEeeZ0fC",
        "colab_type": "code",
        "colab": {}
      },
      "source": [
        "train_temp = windowed_dataset(temp[:train_length], window_size=60, batch_size=100, shuffle_buffer=1000)\n",
        "test_temp = windowed_dataset(temp[train_length:], window_size=60, batch_size=4, shuffle_buffer=4)"
      ],
      "execution_count": 51,
      "outputs": []
    },
    {
      "cell_type": "code",
      "metadata": {
        "id": "0pzF8rancyjm",
        "colab_type": "code",
        "colab": {}
      },
      "source": [
        "model = tf.keras.models.Sequential([\n",
        "  tf.keras.layers.LSTM(60, return_sequences=True),\n",
        "  tf.keras.layers.LSTM(60),\n",
        "  tf.keras.layers.Dense(30, activation=\"relu\"),\n",
        "  tf.keras.layers.Dense(10, activation=\"relu\"),\n",
        "  tf.keras.layers.Dense(1),\n",
        "])\n",
        "\n",
        "optimizer = tf.keras.optimizers.SGD(lr=1.0000e-04, momentum=0.9)\n",
        "model.compile(loss=tf.keras.losses.Huber(),\n",
        "              optimizer=optimizer,\n",
        "              metrics=[\"mae\"])"
      ],
      "execution_count": 53,
      "outputs": []
    },
    {
      "cell_type": "code",
      "metadata": {
        "id": "CkfT4pVu52JR",
        "colab_type": "code",
        "colab": {}
      },
      "source": [
        "earlyStoping = EarlyStopping(monitor='loss',patience=3)"
      ],
      "execution_count": 58,
      "outputs": []
    },
    {
      "cell_type": "code",
      "metadata": {
        "id": "YO8qmTluc561",
        "colab_type": "code",
        "colab": {
          "base_uri": "https://localhost:8080/",
          "height": 1000
        },
        "outputId": "081299d0-f9f9-4d3a-a836-1fe0b002171b"
      },
      "source": [
        "history = model.fit(train_temp, epochs=100, validation_data=test_temp)"
      ],
      "execution_count": 59,
      "outputs": [
        {
          "output_type": "stream",
          "text": [
            "Epoch 1/100\n",
            "WARNING:tensorflow:Layer lstm is casting an input tensor from dtype float64 to the layer's dtype of float32, which is new behavior in TensorFlow 2.  The layer has dtype float32 because its dtype defaults to floatx.\n",
            "\n",
            "If you intended to run this layer in float32, you can safely ignore this warning. If in doubt, this warning is likely only an issue if you are porting a TensorFlow 1.X model to TensorFlow 2.\n",
            "\n",
            "To change all layers to have dtype float64 by default, call `tf.keras.backend.set_floatx('float64')`. To change just this layer, pass dtype='float64' to the layer constructor. If you are the author of this layer, you can disable autocasting by passing autocast=False to the base Layer constructor.\n",
            "\n",
            "15/15 [==============================] - 1s 95ms/step - loss: 25.4595 - mae: 25.9595 - val_loss: 20.3656 - val_mae: 20.8656\n",
            "Epoch 2/100\n",
            "15/15 [==============================] - 1s 38ms/step - loss: 25.2431 - mae: 25.7431 - val_loss: 20.1397 - val_mae: 20.6397\n",
            "Epoch 3/100\n",
            "15/15 [==============================] - 1s 39ms/step - loss: 25.0589 - mae: 25.5589 - val_loss: 19.9971 - val_mae: 20.4971\n",
            "Epoch 4/100\n",
            "15/15 [==============================] - 1s 39ms/step - loss: 24.9136 - mae: 25.4136 - val_loss: 19.8531 - val_mae: 20.3531\n",
            "Epoch 5/100\n",
            "15/15 [==============================] - 1s 40ms/step - loss: 24.7647 - mae: 25.2647 - val_loss: 19.7004 - val_mae: 20.2004\n",
            "Epoch 6/100\n",
            "15/15 [==============================] - 1s 37ms/step - loss: 24.6063 - mae: 25.1063 - val_loss: 19.5356 - val_mae: 20.0356\n",
            "Epoch 7/100\n",
            "15/15 [==============================] - 1s 39ms/step - loss: 24.4348 - mae: 24.9348 - val_loss: 19.3576 - val_mae: 19.8576\n",
            "Epoch 8/100\n",
            "15/15 [==============================] - 1s 39ms/step - loss: 24.2486 - mae: 24.7486 - val_loss: 19.1467 - val_mae: 19.6467\n",
            "Epoch 9/100\n",
            "15/15 [==============================] - 1s 38ms/step - loss: 24.0178 - mae: 24.5178 - val_loss: 18.8939 - val_mae: 19.3939\n",
            "Epoch 10/100\n",
            "15/15 [==============================] - 1s 38ms/step - loss: 23.7503 - mae: 24.2503 - val_loss: 18.6057 - val_mae: 19.1057\n",
            "Epoch 11/100\n",
            "15/15 [==============================] - 1s 38ms/step - loss: 23.4448 - mae: 23.9448 - val_loss: 18.2736 - val_mae: 18.7736\n",
            "Epoch 12/100\n",
            "15/15 [==============================] - 1s 40ms/step - loss: 23.0927 - mae: 23.5927 - val_loss: 17.8905 - val_mae: 18.3905\n",
            "Epoch 13/100\n",
            "15/15 [==============================] - 1s 39ms/step - loss: 22.6805 - mae: 23.1805 - val_loss: 17.4342 - val_mae: 17.9342\n",
            "Epoch 14/100\n",
            "15/15 [==============================] - 1s 38ms/step - loss: 22.1878 - mae: 22.6878 - val_loss: 16.8846 - val_mae: 17.3846\n",
            "Epoch 15/100\n",
            "15/15 [==============================] - 1s 37ms/step - loss: 21.5888 - mae: 22.0888 - val_loss: 16.2104 - val_mae: 16.7104\n",
            "Epoch 16/100\n",
            "15/15 [==============================] - 1s 40ms/step - loss: 20.8486 - mae: 21.3486 - val_loss: 15.3686 - val_mae: 15.8686\n",
            "Epoch 17/100\n",
            "15/15 [==============================] - 1s 39ms/step - loss: 19.9147 - mae: 20.4147 - val_loss: 14.2928 - val_mae: 14.7928\n",
            "Epoch 18/100\n",
            "15/15 [==============================] - 1s 39ms/step - loss: 18.7090 - mae: 19.2090 - val_loss: 12.8867 - val_mae: 13.3867\n",
            "Epoch 19/100\n",
            "15/15 [==============================] - 1s 39ms/step - loss: 17.1139 - mae: 17.6137 - val_loss: 10.9963 - val_mae: 11.4963\n",
            "Epoch 20/100\n",
            "15/15 [==============================] - 1s 41ms/step - loss: 14.9567 - mae: 15.4544 - val_loss: 8.4114 - val_mae: 8.9080\n",
            "Epoch 21/100\n",
            "15/15 [==============================] - 1s 40ms/step - loss: 12.1683 - mae: 12.6604 - val_loss: 5.1864 - val_mae: 5.6533\n",
            "Epoch 22/100\n",
            "15/15 [==============================] - 1s 39ms/step - loss: 9.1500 - mae: 9.6386 - val_loss: 3.4227 - val_mae: 3.8883\n",
            "Epoch 23/100\n",
            "15/15 [==============================] - 1s 39ms/step - loss: 6.8049 - mae: 7.2962 - val_loss: 4.5869 - val_mae: 5.0694\n",
            "Epoch 24/100\n",
            "15/15 [==============================] - 1s 40ms/step - loss: 5.6401 - mae: 6.1297 - val_loss: 6.4470 - val_mae: 6.9378\n",
            "Epoch 25/100\n",
            "15/15 [==============================] - 1s 39ms/step - loss: 5.2979 - mae: 5.7838 - val_loss: 7.3932 - val_mae: 7.8888\n",
            "Epoch 26/100\n",
            "15/15 [==============================] - 1s 38ms/step - loss: 5.2625 - mae: 5.7420 - val_loss: 7.3887 - val_mae: 7.8840\n",
            "Epoch 27/100\n",
            "15/15 [==============================] - 1s 39ms/step - loss: 5.2330 - mae: 5.7133 - val_loss: 7.2998 - val_mae: 7.7956\n",
            "Epoch 28/100\n",
            "15/15 [==============================] - 1s 37ms/step - loss: 5.2079 - mae: 5.6895 - val_loss: 7.2137 - val_mae: 7.7094\n",
            "Epoch 29/100\n",
            "15/15 [==============================] - 1s 39ms/step - loss: 5.1839 - mae: 5.6661 - val_loss: 7.1917 - val_mae: 7.6873\n",
            "Epoch 30/100\n",
            "15/15 [==============================] - 1s 38ms/step - loss: 5.1573 - mae: 5.6399 - val_loss: 7.1998 - val_mae: 7.6956\n",
            "Epoch 31/100\n",
            "15/15 [==============================] - 1s 39ms/step - loss: 5.1264 - mae: 5.6066 - val_loss: 7.4854 - val_mae: 7.9762\n",
            "Epoch 32/100\n",
            "15/15 [==============================] - 1s 40ms/step - loss: 5.1067 - mae: 5.5854 - val_loss: 7.5073 - val_mae: 7.9962\n",
            "Epoch 33/100\n",
            "15/15 [==============================] - 1s 40ms/step - loss: 5.0573 - mae: 5.5370 - val_loss: 7.2444 - val_mae: 7.7392\n",
            "Epoch 34/100\n",
            "15/15 [==============================] - 1s 39ms/step - loss: 4.9892 - mae: 5.4719 - val_loss: 6.8993 - val_mae: 7.3938\n",
            "Epoch 35/100\n",
            "15/15 [==============================] - 1s 39ms/step - loss: 4.9161 - mae: 5.4027 - val_loss: 6.7573 - val_mae: 7.2512\n",
            "Epoch 36/100\n",
            "15/15 [==============================] - 1s 39ms/step - loss: 4.7994 - mae: 5.2821 - val_loss: 6.9897 - val_mae: 7.4835\n",
            "Epoch 37/100\n",
            "15/15 [==============================] - 1s 38ms/step - loss: 4.6277 - mae: 5.1112 - val_loss: 6.6171 - val_mae: 7.1116\n",
            "Epoch 38/100\n",
            "15/15 [==============================] - 1s 39ms/step - loss: 4.2073 - mae: 4.6888 - val_loss: 5.5210 - val_mae: 6.0116\n",
            "Epoch 39/100\n",
            "15/15 [==============================] - 1s 39ms/step - loss: 3.7940 - mae: 4.2724 - val_loss: 5.8568 - val_mae: 6.3383\n",
            "Epoch 40/100\n",
            "15/15 [==============================] - 1s 39ms/step - loss: 3.3449 - mae: 3.8155 - val_loss: 4.0192 - val_mae: 4.5040\n",
            "Epoch 41/100\n",
            "15/15 [==============================] - 1s 39ms/step - loss: 3.5113 - mae: 3.9894 - val_loss: 4.4201 - val_mae: 4.9073\n",
            "Epoch 42/100\n",
            "15/15 [==============================] - 1s 38ms/step - loss: 2.8669 - mae: 3.3345 - val_loss: 3.3910 - val_mae: 3.8697\n",
            "Epoch 43/100\n",
            "15/15 [==============================] - 1s 39ms/step - loss: 2.3828 - mae: 2.8429 - val_loss: 2.9982 - val_mae: 3.4676\n",
            "Epoch 44/100\n",
            "15/15 [==============================] - 1s 39ms/step - loss: 2.3851 - mae: 2.8438 - val_loss: 3.4647 - val_mae: 3.9385\n",
            "Epoch 45/100\n",
            "15/15 [==============================] - 1s 38ms/step - loss: 2.3613 - mae: 2.8201 - val_loss: 2.9178 - val_mae: 3.3905\n",
            "Epoch 46/100\n",
            "15/15 [==============================] - 1s 39ms/step - loss: 2.3133 - mae: 2.7715 - val_loss: 2.9997 - val_mae: 3.4745\n",
            "Epoch 47/100\n",
            "15/15 [==============================] - 1s 38ms/step - loss: 2.3616 - mae: 2.8203 - val_loss: 2.9190 - val_mae: 3.3918\n",
            "Epoch 48/100\n",
            "15/15 [==============================] - 1s 38ms/step - loss: 2.2994 - mae: 2.7572 - val_loss: 2.9039 - val_mae: 3.3782\n",
            "Epoch 49/100\n",
            "15/15 [==============================] - 1s 38ms/step - loss: 2.2924 - mae: 2.7495 - val_loss: 2.9662 - val_mae: 3.4355\n",
            "Epoch 50/100\n",
            "15/15 [==============================] - 1s 38ms/step - loss: 2.2805 - mae: 2.7378 - val_loss: 2.9473 - val_mae: 3.4200\n",
            "Epoch 51/100\n",
            "15/15 [==============================] - 1s 40ms/step - loss: 2.2916 - mae: 2.7491 - val_loss: 2.9664 - val_mae: 3.4356\n",
            "Epoch 52/100\n",
            "15/15 [==============================] - 1s 39ms/step - loss: 2.2698 - mae: 2.7274 - val_loss: 2.9601 - val_mae: 3.4302\n",
            "Epoch 53/100\n",
            "15/15 [==============================] - 1s 38ms/step - loss: 2.2423 - mae: 2.6992 - val_loss: 2.9815 - val_mae: 3.4512\n",
            "Epoch 54/100\n",
            "15/15 [==============================] - 1s 39ms/step - loss: 2.2261 - mae: 2.6830 - val_loss: 3.0456 - val_mae: 3.5145\n",
            "Epoch 55/100\n",
            "15/15 [==============================] - 1s 38ms/step - loss: 2.2176 - mae: 2.6756 - val_loss: 3.0705 - val_mae: 3.5401\n",
            "Epoch 56/100\n",
            "15/15 [==============================] - 1s 40ms/step - loss: 2.1764 - mae: 2.6337 - val_loss: 2.9394 - val_mae: 3.4166\n",
            "Epoch 57/100\n",
            "15/15 [==============================] - 1s 39ms/step - loss: 2.1529 - mae: 2.6103 - val_loss: 2.9466 - val_mae: 3.4239\n",
            "Epoch 58/100\n",
            "15/15 [==============================] - 1s 38ms/step - loss: 2.1122 - mae: 2.5694 - val_loss: 2.9685 - val_mae: 3.4464\n",
            "Epoch 59/100\n",
            "15/15 [==============================] - 1s 37ms/step - loss: 2.0879 - mae: 2.5448 - val_loss: 3.5289 - val_mae: 4.0077\n",
            "Epoch 60/100\n",
            "15/15 [==============================] - 1s 37ms/step - loss: 2.2362 - mae: 2.6946 - val_loss: 3.8224 - val_mae: 4.3024\n",
            "Epoch 61/100\n",
            "15/15 [==============================] - 1s 39ms/step - loss: 2.1806 - mae: 2.6376 - val_loss: 3.1927 - val_mae: 3.6661\n",
            "Epoch 62/100\n",
            "15/15 [==============================] - 1s 39ms/step - loss: 2.0890 - mae: 2.5456 - val_loss: 2.9155 - val_mae: 3.3892\n",
            "Epoch 63/100\n",
            "15/15 [==============================] - 1s 38ms/step - loss: 2.1566 - mae: 2.6137 - val_loss: 2.9235 - val_mae: 3.3945\n",
            "Epoch 64/100\n",
            "15/15 [==============================] - 1s 39ms/step - loss: 2.1774 - mae: 2.6362 - val_loss: 3.1667 - val_mae: 3.6435\n",
            "Epoch 65/100\n",
            "15/15 [==============================] - 1s 38ms/step - loss: 2.1049 - mae: 2.5613 - val_loss: 3.1006 - val_mae: 3.5784\n",
            "Epoch 66/100\n",
            "15/15 [==============================] - 1s 40ms/step - loss: 2.0678 - mae: 2.5250 - val_loss: 3.0226 - val_mae: 3.5013\n",
            "Epoch 67/100\n",
            "15/15 [==============================] - 1s 38ms/step - loss: 2.0389 - mae: 2.4954 - val_loss: 3.0411 - val_mae: 3.5197\n",
            "Epoch 68/100\n",
            "15/15 [==============================] - 1s 38ms/step - loss: 2.0272 - mae: 2.4826 - val_loss: 3.0108 - val_mae: 3.4864\n",
            "Epoch 69/100\n",
            "15/15 [==============================] - 1s 38ms/step - loss: 2.0499 - mae: 2.5065 - val_loss: 2.9493 - val_mae: 3.4181\n",
            "Epoch 70/100\n",
            "15/15 [==============================] - 1s 38ms/step - loss: 2.0147 - mae: 2.4697 - val_loss: 2.9949 - val_mae: 3.4702\n",
            "Epoch 71/100\n",
            "15/15 [==============================] - 1s 39ms/step - loss: 2.0167 - mae: 2.4727 - val_loss: 3.0208 - val_mae: 3.4969\n",
            "Epoch 72/100\n",
            "15/15 [==============================] - 1s 39ms/step - loss: 2.0461 - mae: 2.5027 - val_loss: 2.9316 - val_mae: 3.3999\n",
            "Epoch 73/100\n",
            "15/15 [==============================] - 1s 38ms/step - loss: 2.0087 - mae: 2.4639 - val_loss: 2.9952 - val_mae: 3.4735\n",
            "Epoch 74/100\n",
            "15/15 [==============================] - 1s 39ms/step - loss: 1.9960 - mae: 2.4508 - val_loss: 2.9594 - val_mae: 3.4354\n",
            "Epoch 75/100\n",
            "15/15 [==============================] - 1s 39ms/step - loss: 2.0141 - mae: 2.4702 - val_loss: 2.9690 - val_mae: 3.4453\n",
            "Epoch 76/100\n",
            "15/15 [==============================] - 1s 38ms/step - loss: 2.0057 - mae: 2.4611 - val_loss: 3.0424 - val_mae: 3.5214\n",
            "Epoch 77/100\n",
            "15/15 [==============================] - 1s 38ms/step - loss: 2.0182 - mae: 2.4745 - val_loss: 2.9918 - val_mae: 3.4692\n",
            "Epoch 78/100\n",
            "15/15 [==============================] - 1s 39ms/step - loss: 1.9905 - mae: 2.4453 - val_loss: 2.9936 - val_mae: 3.4722\n",
            "Epoch 79/100\n",
            "15/15 [==============================] - 1s 39ms/step - loss: 2.0050 - mae: 2.4612 - val_loss: 3.0174 - val_mae: 3.4952\n",
            "Epoch 80/100\n",
            "15/15 [==============================] - 1s 38ms/step - loss: 1.9997 - mae: 2.4550 - val_loss: 3.0452 - val_mae: 3.5231\n",
            "Epoch 81/100\n",
            "15/15 [==============================] - 1s 39ms/step - loss: 2.0115 - mae: 2.4678 - val_loss: 2.9726 - val_mae: 3.4497\n",
            "Epoch 82/100\n",
            "15/15 [==============================] - 1s 38ms/step - loss: 2.0160 - mae: 2.4723 - val_loss: 2.9856 - val_mae: 3.4638\n",
            "Epoch 83/100\n",
            "15/15 [==============================] - 1s 40ms/step - loss: 1.9985 - mae: 2.4539 - val_loss: 3.0101 - val_mae: 3.4882\n",
            "Epoch 84/100\n",
            "15/15 [==============================] - 1s 39ms/step - loss: 1.9982 - mae: 2.4537 - val_loss: 3.0168 - val_mae: 3.4946\n",
            "Epoch 85/100\n",
            "15/15 [==============================] - 1s 40ms/step - loss: 1.9963 - mae: 2.4515 - val_loss: 2.9332 - val_mae: 3.4117\n",
            "Epoch 86/100\n",
            "15/15 [==============================] - 1s 39ms/step - loss: 1.9816 - mae: 2.4360 - val_loss: 3.0141 - val_mae: 3.4915\n",
            "Epoch 87/100\n",
            "15/15 [==============================] - 1s 39ms/step - loss: 1.9869 - mae: 2.4413 - val_loss: 2.8986 - val_mae: 3.3718\n",
            "Epoch 88/100\n",
            "15/15 [==============================] - 1s 39ms/step - loss: 1.9829 - mae: 2.4377 - val_loss: 2.9708 - val_mae: 3.4491\n",
            "Epoch 89/100\n",
            "15/15 [==============================] - 1s 38ms/step - loss: 1.9844 - mae: 2.4396 - val_loss: 2.8987 - val_mae: 3.3723\n",
            "Epoch 90/100\n",
            "15/15 [==============================] - 1s 39ms/step - loss: 1.9791 - mae: 2.4338 - val_loss: 2.8955 - val_mae: 3.3686\n",
            "Epoch 91/100\n",
            "15/15 [==============================] - 1s 39ms/step - loss: 1.9938 - mae: 2.4496 - val_loss: 2.8987 - val_mae: 3.3674\n",
            "Epoch 92/100\n",
            "15/15 [==============================] - 1s 38ms/step - loss: 1.9881 - mae: 2.4434 - val_loss: 2.9686 - val_mae: 3.4470\n",
            "Epoch 93/100\n",
            "15/15 [==============================] - 1s 37ms/step - loss: 1.9790 - mae: 2.4337 - val_loss: 3.0084 - val_mae: 3.4838\n",
            "Epoch 94/100\n",
            "15/15 [==============================] - 1s 38ms/step - loss: 1.9886 - mae: 2.4437 - val_loss: 2.9660 - val_mae: 3.4437\n",
            "Epoch 95/100\n",
            "15/15 [==============================] - 1s 38ms/step - loss: 2.0131 - mae: 2.4697 - val_loss: 2.8912 - val_mae: 3.3648\n",
            "Epoch 96/100\n",
            "15/15 [==============================] - 1s 39ms/step - loss: 1.9922 - mae: 2.4482 - val_loss: 2.8951 - val_mae: 3.3648\n",
            "Epoch 97/100\n",
            "15/15 [==============================] - 1s 39ms/step - loss: 2.0084 - mae: 2.4641 - val_loss: 2.9011 - val_mae: 3.3693\n",
            "Epoch 98/100\n",
            "15/15 [==============================] - 1s 39ms/step - loss: 1.9951 - mae: 2.4502 - val_loss: 2.9705 - val_mae: 3.4486\n",
            "Epoch 99/100\n",
            "15/15 [==============================] - 1s 39ms/step - loss: 1.9889 - mae: 2.4451 - val_loss: 3.0326 - val_mae: 3.5071\n",
            "Epoch 100/100\n",
            "15/15 [==============================] - 1s 39ms/step - loss: 1.9941 - mae: 2.4502 - val_loss: 2.9898 - val_mae: 3.4676\n"
          ],
          "name": "stdout"
        }
      ]
    },
    {
      "cell_type": "code",
      "metadata": {
        "id": "MfbhTOX-dGTy",
        "colab_type": "code",
        "colab": {}
      },
      "source": [
        ""
      ],
      "execution_count": null,
      "outputs": []
    }
  ]
}