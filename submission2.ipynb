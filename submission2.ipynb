{
  "nbformat": 4,
  "nbformat_minor": 0,
  "metadata": {
    "colab": {
      "name": "submission2.ipynb",
      "provenance": [],
      "authorship_tag": "ABX9TyOAb/dpcIwBTP0VnmBryqCo",
      "include_colab_link": true
    },
    "kernelspec": {
      "name": "python3",
      "display_name": "Python 3"
    },
    "accelerator": "GPU"
  },
  "cells": [
    {
      "cell_type": "markdown",
      "metadata": {
        "id": "view-in-github",
        "colab_type": "text"
      },
      "source": [
        "<a href=\"https://colab.research.google.com/github/aemiralfath/BPML-Dicoding/blob/master/submission2.ipynb\" target=\"_parent\"><img src=\"https://colab.research.google.com/assets/colab-badge.svg\" alt=\"Open In Colab\"/></a>"
      ]
    },
    {
      "cell_type": "code",
      "metadata": {
        "id": "xmV0-cB10qHo",
        "colab_type": "code",
        "colab": {}
      },
      "source": [
        "import time\n",
        "import zipfile\n",
        "import numpy as np\n",
        "import pandas as pd\n",
        "import seaborn as sns\n",
        "import matplotlib.pyplot as plt\n",
        "\n",
        "import tensorflow as tf\n",
        "from keras.callbacks import ModelCheckpoint, TensorBoard, EarlyStopping"
      ],
      "execution_count": 46,
      "outputs": []
    },
    {
      "cell_type": "code",
      "metadata": {
        "id": "NdrsPrswzDuQ",
        "colab_type": "code",
        "colab": {
          "base_uri": "https://localhost:8080/",
          "height": 132
        },
        "outputId": "1a076d1f-be8d-4e08-b77d-d7bbcf60a82a"
      },
      "source": [
        "from google.colab import drive\n",
        "drive.mount('/content/drive')"
      ],
      "execution_count": 2,
      "outputs": [
        {
          "output_type": "stream",
          "text": [
            "Go to this URL in a browser: https://accounts.google.com/o/oauth2/auth?client_id=947318989803-6bn6qk8qdgf4n4g3pfee6491hc0brc4i.apps.googleusercontent.com&redirect_uri=urn%3aietf%3awg%3aoauth%3a2.0%3aoob&scope=email%20https%3a%2f%2fwww.googleapis.com%2fauth%2fdocs.test%20https%3a%2f%2fwww.googleapis.com%2fauth%2fdrive%20https%3a%2f%2fwww.googleapis.com%2fauth%2fdrive.photos.readonly%20https%3a%2f%2fwww.googleapis.com%2fauth%2fpeopleapi.readonly&response_type=code\n",
            "\n",
            "Enter your authorization code:\n",
            "··········\n",
            "Mounted at /content/drive\n"
          ],
          "name": "stdout"
        }
      ]
    },
    {
      "cell_type": "code",
      "metadata": {
        "id": "4U_kpNnP0MFj",
        "colab_type": "code",
        "colab": {
          "base_uri": "https://localhost:8080/",
          "height": 284
        },
        "outputId": "b6c0dded-fd1d-493b-9079-25197bf77823"
      },
      "source": [
        "! pip install --upgrade --force-reinstall --no-deps kaggle\n",
        "! mkdir /root/.kaggle/\n",
        "! cp \"/content/drive/My Drive/Machine Learning/kaggle.json\" /root/.kaggle/\n",
        "! chmod 600 /root/.kaggle/kaggle.json"
      ],
      "execution_count": 3,
      "outputs": [
        {
          "output_type": "stream",
          "text": [
            "Collecting kaggle\n",
            "\u001b[?25l  Downloading https://files.pythonhosted.org/packages/62/ab/bb20f9b9e24f9a6250f95a432f8d9a7d745f8d24039d7a5a6eaadb7783ba/kaggle-1.5.6.tar.gz (58kB)\n",
            "\r\u001b[K     |█████▋                          | 10kB 19.0MB/s eta 0:00:01\r\u001b[K     |███████████▎                    | 20kB 4.7MB/s eta 0:00:01\r\u001b[K     |█████████████████               | 30kB 6.1MB/s eta 0:00:01\r\u001b[K     |██████████████████████▌         | 40kB 5.9MB/s eta 0:00:01\r\u001b[K     |████████████████████████████▏   | 51kB 5.3MB/s eta 0:00:01\r\u001b[K     |████████████████████████████████| 61kB 3.6MB/s \n",
            "\u001b[?25hBuilding wheels for collected packages: kaggle\n",
            "  Building wheel for kaggle (setup.py) ... \u001b[?25l\u001b[?25hdone\n",
            "  Created wheel for kaggle: filename=kaggle-1.5.6-cp36-none-any.whl size=72859 sha256=4141542e31d94ebe9dad9c8b3ba42b483900b1514d5b9f4152d25a2929fe6b5c\n",
            "  Stored in directory: /root/.cache/pip/wheels/57/4e/e8/bb28d035162fb8f17f8ca5d42c3230e284c6aa565b42b72674\n",
            "Successfully built kaggle\n",
            "Installing collected packages: kaggle\n",
            "  Found existing installation: kaggle 1.5.6\n",
            "    Uninstalling kaggle-1.5.6:\n",
            "      Successfully uninstalled kaggle-1.5.6\n",
            "Successfully installed kaggle-1.5.6\n"
          ],
          "name": "stdout"
        }
      ]
    },
    {
      "cell_type": "code",
      "metadata": {
        "id": "RkGyCtl50cRs",
        "colab_type": "code",
        "colab": {
          "base_uri": "https://localhost:8080/",
          "height": 74
        },
        "outputId": "b5820d47-fe62-477d-d462-bb237230dd48"
      },
      "source": [
        "!kaggle datasets download -d taranvee/smart-home-dataset-with-weather-information"
      ],
      "execution_count": 4,
      "outputs": [
        {
          "output_type": "stream",
          "text": [
            "Downloading smart-home-dataset-with-weather-information.zip to /content\n",
            " 87% 17.0M/19.4M [00:02<00:00, 8.59MB/s]\n",
            "100% 19.4M/19.4M [00:02<00:00, 9.13MB/s]\n"
          ],
          "name": "stdout"
        }
      ]
    },
    {
      "cell_type": "code",
      "metadata": {
        "id": "38r7te3k0gej",
        "colab_type": "code",
        "colab": {}
      },
      "source": [
        "zipref = zipfile.ZipFile('smart-home-dataset-with-weather-information.zip', 'r')\n",
        "zipref.extractall()\n",
        "zipref.close()"
      ],
      "execution_count": 5,
      "outputs": []
    },
    {
      "cell_type": "code",
      "metadata": {
        "id": "dZr-IeDa0m9m",
        "colab_type": "code",
        "colab": {
          "base_uri": "https://localhost:8080/",
          "height": 758
        },
        "outputId": "c9f2ec71-54e0-44d7-f408-4a6bf738d99c"
      },
      "source": [
        "df = pd.read_csv('HomeC.csv', low_memory=False)\n",
        "df.info()"
      ],
      "execution_count": 12,
      "outputs": [
        {
          "output_type": "stream",
          "text": [
            "<class 'pandas.core.frame.DataFrame'>\n",
            "RangeIndex: 503911 entries, 0 to 503910\n",
            "Data columns (total 32 columns):\n",
            " #   Column               Non-Null Count   Dtype  \n",
            "---  ------               --------------   -----  \n",
            " 0   time                 503911 non-null  object \n",
            " 1   use [kW]             503910 non-null  float64\n",
            " 2   gen [kW]             503910 non-null  float64\n",
            " 3   House overall [kW]   503910 non-null  float64\n",
            " 4   Dishwasher [kW]      503910 non-null  float64\n",
            " 5   Furnace 1 [kW]       503910 non-null  float64\n",
            " 6   Furnace 2 [kW]       503910 non-null  float64\n",
            " 7   Home office [kW]     503910 non-null  float64\n",
            " 8   Fridge [kW]          503910 non-null  float64\n",
            " 9   Wine cellar [kW]     503910 non-null  float64\n",
            " 10  Garage door [kW]     503910 non-null  float64\n",
            " 11  Kitchen 12 [kW]      503910 non-null  float64\n",
            " 12  Kitchen 14 [kW]      503910 non-null  float64\n",
            " 13  Kitchen 38 [kW]      503910 non-null  float64\n",
            " 14  Barn [kW]            503910 non-null  float64\n",
            " 15  Well [kW]            503910 non-null  float64\n",
            " 16  Microwave [kW]       503910 non-null  float64\n",
            " 17  Living room [kW]     503910 non-null  float64\n",
            " 18  Solar [kW]           503910 non-null  float64\n",
            " 19  temperature          503910 non-null  float64\n",
            " 20  icon                 503910 non-null  object \n",
            " 21  humidity             503910 non-null  float64\n",
            " 22  visibility           503910 non-null  float64\n",
            " 23  summary              503910 non-null  object \n",
            " 24  apparentTemperature  503910 non-null  float64\n",
            " 25  pressure             503910 non-null  float64\n",
            " 26  windSpeed            503910 non-null  float64\n",
            " 27  cloudCover           503910 non-null  object \n",
            " 28  windBearing          503910 non-null  float64\n",
            " 29  precipIntensity      503910 non-null  float64\n",
            " 30  dewPoint             503910 non-null  float64\n",
            " 31  precipProbability    503910 non-null  float64\n",
            "dtypes: float64(28), object(4)\n",
            "memory usage: 123.0+ MB\n"
          ],
          "name": "stdout"
        }
      ]
    },
    {
      "cell_type": "code",
      "metadata": {
        "id": "AB_HR_uE1Mvs",
        "colab_type": "code",
        "colab": {
          "base_uri": "https://localhost:8080/",
          "height": 326
        },
        "outputId": "dbfc9007-6f28-4148-c671-fac1d8c69ed9"
      },
      "source": [
        "df.tail()"
      ],
      "execution_count": 13,
      "outputs": [
        {
          "output_type": "execute_result",
          "data": {
            "text/html": [
              "<div>\n",
              "<style scoped>\n",
              "    .dataframe tbody tr th:only-of-type {\n",
              "        vertical-align: middle;\n",
              "    }\n",
              "\n",
              "    .dataframe tbody tr th {\n",
              "        vertical-align: top;\n",
              "    }\n",
              "\n",
              "    .dataframe thead th {\n",
              "        text-align: right;\n",
              "    }\n",
              "</style>\n",
              "<table border=\"1\" class=\"dataframe\">\n",
              "  <thead>\n",
              "    <tr style=\"text-align: right;\">\n",
              "      <th></th>\n",
              "      <th>time</th>\n",
              "      <th>use [kW]</th>\n",
              "      <th>gen [kW]</th>\n",
              "      <th>House overall [kW]</th>\n",
              "      <th>Dishwasher [kW]</th>\n",
              "      <th>Furnace 1 [kW]</th>\n",
              "      <th>Furnace 2 [kW]</th>\n",
              "      <th>Home office [kW]</th>\n",
              "      <th>Fridge [kW]</th>\n",
              "      <th>Wine cellar [kW]</th>\n",
              "      <th>Garage door [kW]</th>\n",
              "      <th>Kitchen 12 [kW]</th>\n",
              "      <th>Kitchen 14 [kW]</th>\n",
              "      <th>Kitchen 38 [kW]</th>\n",
              "      <th>Barn [kW]</th>\n",
              "      <th>Well [kW]</th>\n",
              "      <th>Microwave [kW]</th>\n",
              "      <th>Living room [kW]</th>\n",
              "      <th>Solar [kW]</th>\n",
              "      <th>temperature</th>\n",
              "      <th>icon</th>\n",
              "      <th>humidity</th>\n",
              "      <th>visibility</th>\n",
              "      <th>summary</th>\n",
              "      <th>apparentTemperature</th>\n",
              "      <th>pressure</th>\n",
              "      <th>windSpeed</th>\n",
              "      <th>cloudCover</th>\n",
              "      <th>windBearing</th>\n",
              "      <th>precipIntensity</th>\n",
              "      <th>dewPoint</th>\n",
              "      <th>precipProbability</th>\n",
              "    </tr>\n",
              "  </thead>\n",
              "  <tbody>\n",
              "    <tr>\n",
              "      <th>503906</th>\n",
              "      <td>1452128306</td>\n",
              "      <td>1.599333</td>\n",
              "      <td>0.003233</td>\n",
              "      <td>1.599333</td>\n",
              "      <td>0.000050</td>\n",
              "      <td>0.104017</td>\n",
              "      <td>0.625033</td>\n",
              "      <td>0.041750</td>\n",
              "      <td>0.005233</td>\n",
              "      <td>0.008433</td>\n",
              "      <td>0.013433</td>\n",
              "      <td>0.000467</td>\n",
              "      <td>0.000100</td>\n",
              "      <td>0.000033</td>\n",
              "      <td>0.032200</td>\n",
              "      <td>0.00095</td>\n",
              "      <td>0.003800</td>\n",
              "      <td>0.000933</td>\n",
              "      <td>0.003233</td>\n",
              "      <td>35.12</td>\n",
              "      <td>rain</td>\n",
              "      <td>0.86</td>\n",
              "      <td>8.74</td>\n",
              "      <td>Light Rain</td>\n",
              "      <td>29.45</td>\n",
              "      <td>1011.49</td>\n",
              "      <td>6.72</td>\n",
              "      <td>0.31</td>\n",
              "      <td>186.0</td>\n",
              "      <td>0.0101</td>\n",
              "      <td>31.27</td>\n",
              "      <td>0.51</td>\n",
              "    </tr>\n",
              "    <tr>\n",
              "      <th>503907</th>\n",
              "      <td>1452128307</td>\n",
              "      <td>1.924267</td>\n",
              "      <td>0.003217</td>\n",
              "      <td>1.924267</td>\n",
              "      <td>0.000033</td>\n",
              "      <td>0.422383</td>\n",
              "      <td>0.637733</td>\n",
              "      <td>0.042033</td>\n",
              "      <td>0.004983</td>\n",
              "      <td>0.008467</td>\n",
              "      <td>0.012933</td>\n",
              "      <td>0.000533</td>\n",
              "      <td>0.000067</td>\n",
              "      <td>0.000000</td>\n",
              "      <td>0.032283</td>\n",
              "      <td>0.00100</td>\n",
              "      <td>0.003750</td>\n",
              "      <td>0.001000</td>\n",
              "      <td>0.003217</td>\n",
              "      <td>35.12</td>\n",
              "      <td>rain</td>\n",
              "      <td>0.86</td>\n",
              "      <td>8.74</td>\n",
              "      <td>Light Rain</td>\n",
              "      <td>29.45</td>\n",
              "      <td>1011.49</td>\n",
              "      <td>6.72</td>\n",
              "      <td>0.31</td>\n",
              "      <td>186.0</td>\n",
              "      <td>0.0101</td>\n",
              "      <td>31.27</td>\n",
              "      <td>0.51</td>\n",
              "    </tr>\n",
              "    <tr>\n",
              "      <th>503908</th>\n",
              "      <td>1452128308</td>\n",
              "      <td>1.978200</td>\n",
              "      <td>0.003217</td>\n",
              "      <td>1.978200</td>\n",
              "      <td>0.000050</td>\n",
              "      <td>0.495667</td>\n",
              "      <td>0.620367</td>\n",
              "      <td>0.042100</td>\n",
              "      <td>0.005333</td>\n",
              "      <td>0.008233</td>\n",
              "      <td>0.012817</td>\n",
              "      <td>0.000517</td>\n",
              "      <td>0.000117</td>\n",
              "      <td>0.000017</td>\n",
              "      <td>0.032183</td>\n",
              "      <td>0.00095</td>\n",
              "      <td>0.003767</td>\n",
              "      <td>0.000950</td>\n",
              "      <td>0.003217</td>\n",
              "      <td>35.12</td>\n",
              "      <td>rain</td>\n",
              "      <td>0.86</td>\n",
              "      <td>8.74</td>\n",
              "      <td>Light Rain</td>\n",
              "      <td>29.45</td>\n",
              "      <td>1011.49</td>\n",
              "      <td>6.72</td>\n",
              "      <td>0.31</td>\n",
              "      <td>186.0</td>\n",
              "      <td>0.0101</td>\n",
              "      <td>31.27</td>\n",
              "      <td>0.51</td>\n",
              "    </tr>\n",
              "    <tr>\n",
              "      <th>503909</th>\n",
              "      <td>1452128309</td>\n",
              "      <td>1.990950</td>\n",
              "      <td>0.003233</td>\n",
              "      <td>1.990950</td>\n",
              "      <td>0.000050</td>\n",
              "      <td>0.494700</td>\n",
              "      <td>0.634133</td>\n",
              "      <td>0.042100</td>\n",
              "      <td>0.004917</td>\n",
              "      <td>0.008133</td>\n",
              "      <td>0.012833</td>\n",
              "      <td>0.000517</td>\n",
              "      <td>0.000117</td>\n",
              "      <td>0.000017</td>\n",
              "      <td>0.032167</td>\n",
              "      <td>0.00095</td>\n",
              "      <td>0.003767</td>\n",
              "      <td>0.000950</td>\n",
              "      <td>0.003233</td>\n",
              "      <td>35.12</td>\n",
              "      <td>rain</td>\n",
              "      <td>0.86</td>\n",
              "      <td>8.74</td>\n",
              "      <td>Light Rain</td>\n",
              "      <td>29.45</td>\n",
              "      <td>1011.49</td>\n",
              "      <td>6.72</td>\n",
              "      <td>0.31</td>\n",
              "      <td>186.0</td>\n",
              "      <td>0.0101</td>\n",
              "      <td>31.27</td>\n",
              "      <td>0.51</td>\n",
              "    </tr>\n",
              "    <tr>\n",
              "      <th>503910</th>\n",
              "      <td>\\</td>\n",
              "      <td>NaN</td>\n",
              "      <td>NaN</td>\n",
              "      <td>NaN</td>\n",
              "      <td>NaN</td>\n",
              "      <td>NaN</td>\n",
              "      <td>NaN</td>\n",
              "      <td>NaN</td>\n",
              "      <td>NaN</td>\n",
              "      <td>NaN</td>\n",
              "      <td>NaN</td>\n",
              "      <td>NaN</td>\n",
              "      <td>NaN</td>\n",
              "      <td>NaN</td>\n",
              "      <td>NaN</td>\n",
              "      <td>NaN</td>\n",
              "      <td>NaN</td>\n",
              "      <td>NaN</td>\n",
              "      <td>NaN</td>\n",
              "      <td>NaN</td>\n",
              "      <td>NaN</td>\n",
              "      <td>NaN</td>\n",
              "      <td>NaN</td>\n",
              "      <td>NaN</td>\n",
              "      <td>NaN</td>\n",
              "      <td>NaN</td>\n",
              "      <td>NaN</td>\n",
              "      <td>NaN</td>\n",
              "      <td>NaN</td>\n",
              "      <td>NaN</td>\n",
              "      <td>NaN</td>\n",
              "      <td>NaN</td>\n",
              "    </tr>\n",
              "  </tbody>\n",
              "</table>\n",
              "</div>"
            ],
            "text/plain": [
              "              time  use [kW]  ...  dewPoint  precipProbability\n",
              "503906  1452128306  1.599333  ...     31.27               0.51\n",
              "503907  1452128307  1.924267  ...     31.27               0.51\n",
              "503908  1452128308  1.978200  ...     31.27               0.51\n",
              "503909  1452128309  1.990950  ...     31.27               0.51\n",
              "503910           \\       NaN  ...       NaN                NaN\n",
              "\n",
              "[5 rows x 32 columns]"
            ]
          },
          "metadata": {
            "tags": []
          },
          "execution_count": 13
        }
      ]
    },
    {
      "cell_type": "code",
      "metadata": {
        "id": "cRcQrnQM7UUh",
        "colab_type": "code",
        "colab": {
          "base_uri": "https://localhost:8080/",
          "height": 343
        },
        "outputId": "7d4c1c26-ceb4-4a12-9338-5fd1a5a63451"
      },
      "source": [
        "df = df[:-1]\n",
        "df.tail()"
      ],
      "execution_count": 14,
      "outputs": [
        {
          "output_type": "execute_result",
          "data": {
            "text/html": [
              "<div>\n",
              "<style scoped>\n",
              "    .dataframe tbody tr th:only-of-type {\n",
              "        vertical-align: middle;\n",
              "    }\n",
              "\n",
              "    .dataframe tbody tr th {\n",
              "        vertical-align: top;\n",
              "    }\n",
              "\n",
              "    .dataframe thead th {\n",
              "        text-align: right;\n",
              "    }\n",
              "</style>\n",
              "<table border=\"1\" class=\"dataframe\">\n",
              "  <thead>\n",
              "    <tr style=\"text-align: right;\">\n",
              "      <th></th>\n",
              "      <th>time</th>\n",
              "      <th>use [kW]</th>\n",
              "      <th>gen [kW]</th>\n",
              "      <th>House overall [kW]</th>\n",
              "      <th>Dishwasher [kW]</th>\n",
              "      <th>Furnace 1 [kW]</th>\n",
              "      <th>Furnace 2 [kW]</th>\n",
              "      <th>Home office [kW]</th>\n",
              "      <th>Fridge [kW]</th>\n",
              "      <th>Wine cellar [kW]</th>\n",
              "      <th>Garage door [kW]</th>\n",
              "      <th>Kitchen 12 [kW]</th>\n",
              "      <th>Kitchen 14 [kW]</th>\n",
              "      <th>Kitchen 38 [kW]</th>\n",
              "      <th>Barn [kW]</th>\n",
              "      <th>Well [kW]</th>\n",
              "      <th>Microwave [kW]</th>\n",
              "      <th>Living room [kW]</th>\n",
              "      <th>Solar [kW]</th>\n",
              "      <th>temperature</th>\n",
              "      <th>icon</th>\n",
              "      <th>humidity</th>\n",
              "      <th>visibility</th>\n",
              "      <th>summary</th>\n",
              "      <th>apparentTemperature</th>\n",
              "      <th>pressure</th>\n",
              "      <th>windSpeed</th>\n",
              "      <th>cloudCover</th>\n",
              "      <th>windBearing</th>\n",
              "      <th>precipIntensity</th>\n",
              "      <th>dewPoint</th>\n",
              "      <th>precipProbability</th>\n",
              "    </tr>\n",
              "  </thead>\n",
              "  <tbody>\n",
              "    <tr>\n",
              "      <th>503905</th>\n",
              "      <td>1452128305</td>\n",
              "      <td>1.601233</td>\n",
              "      <td>0.003183</td>\n",
              "      <td>1.601233</td>\n",
              "      <td>0.000050</td>\n",
              "      <td>0.085267</td>\n",
              "      <td>0.642417</td>\n",
              "      <td>0.041783</td>\n",
              "      <td>0.005267</td>\n",
              "      <td>0.008667</td>\n",
              "      <td>0.013483</td>\n",
              "      <td>0.000467</td>\n",
              "      <td>0.000150</td>\n",
              "      <td>0.000017</td>\n",
              "      <td>0.032283</td>\n",
              "      <td>0.000983</td>\n",
              "      <td>0.003800</td>\n",
              "      <td>0.000967</td>\n",
              "      <td>0.003183</td>\n",
              "      <td>35.12</td>\n",
              "      <td>rain</td>\n",
              "      <td>0.86</td>\n",
              "      <td>8.74</td>\n",
              "      <td>Light Rain</td>\n",
              "      <td>29.45</td>\n",
              "      <td>1011.49</td>\n",
              "      <td>6.72</td>\n",
              "      <td>0.31</td>\n",
              "      <td>186.0</td>\n",
              "      <td>0.0101</td>\n",
              "      <td>31.27</td>\n",
              "      <td>0.51</td>\n",
              "    </tr>\n",
              "    <tr>\n",
              "      <th>503906</th>\n",
              "      <td>1452128306</td>\n",
              "      <td>1.599333</td>\n",
              "      <td>0.003233</td>\n",
              "      <td>1.599333</td>\n",
              "      <td>0.000050</td>\n",
              "      <td>0.104017</td>\n",
              "      <td>0.625033</td>\n",
              "      <td>0.041750</td>\n",
              "      <td>0.005233</td>\n",
              "      <td>0.008433</td>\n",
              "      <td>0.013433</td>\n",
              "      <td>0.000467</td>\n",
              "      <td>0.000100</td>\n",
              "      <td>0.000033</td>\n",
              "      <td>0.032200</td>\n",
              "      <td>0.000950</td>\n",
              "      <td>0.003800</td>\n",
              "      <td>0.000933</td>\n",
              "      <td>0.003233</td>\n",
              "      <td>35.12</td>\n",
              "      <td>rain</td>\n",
              "      <td>0.86</td>\n",
              "      <td>8.74</td>\n",
              "      <td>Light Rain</td>\n",
              "      <td>29.45</td>\n",
              "      <td>1011.49</td>\n",
              "      <td>6.72</td>\n",
              "      <td>0.31</td>\n",
              "      <td>186.0</td>\n",
              "      <td>0.0101</td>\n",
              "      <td>31.27</td>\n",
              "      <td>0.51</td>\n",
              "    </tr>\n",
              "    <tr>\n",
              "      <th>503907</th>\n",
              "      <td>1452128307</td>\n",
              "      <td>1.924267</td>\n",
              "      <td>0.003217</td>\n",
              "      <td>1.924267</td>\n",
              "      <td>0.000033</td>\n",
              "      <td>0.422383</td>\n",
              "      <td>0.637733</td>\n",
              "      <td>0.042033</td>\n",
              "      <td>0.004983</td>\n",
              "      <td>0.008467</td>\n",
              "      <td>0.012933</td>\n",
              "      <td>0.000533</td>\n",
              "      <td>0.000067</td>\n",
              "      <td>0.000000</td>\n",
              "      <td>0.032283</td>\n",
              "      <td>0.001000</td>\n",
              "      <td>0.003750</td>\n",
              "      <td>0.001000</td>\n",
              "      <td>0.003217</td>\n",
              "      <td>35.12</td>\n",
              "      <td>rain</td>\n",
              "      <td>0.86</td>\n",
              "      <td>8.74</td>\n",
              "      <td>Light Rain</td>\n",
              "      <td>29.45</td>\n",
              "      <td>1011.49</td>\n",
              "      <td>6.72</td>\n",
              "      <td>0.31</td>\n",
              "      <td>186.0</td>\n",
              "      <td>0.0101</td>\n",
              "      <td>31.27</td>\n",
              "      <td>0.51</td>\n",
              "    </tr>\n",
              "    <tr>\n",
              "      <th>503908</th>\n",
              "      <td>1452128308</td>\n",
              "      <td>1.978200</td>\n",
              "      <td>0.003217</td>\n",
              "      <td>1.978200</td>\n",
              "      <td>0.000050</td>\n",
              "      <td>0.495667</td>\n",
              "      <td>0.620367</td>\n",
              "      <td>0.042100</td>\n",
              "      <td>0.005333</td>\n",
              "      <td>0.008233</td>\n",
              "      <td>0.012817</td>\n",
              "      <td>0.000517</td>\n",
              "      <td>0.000117</td>\n",
              "      <td>0.000017</td>\n",
              "      <td>0.032183</td>\n",
              "      <td>0.000950</td>\n",
              "      <td>0.003767</td>\n",
              "      <td>0.000950</td>\n",
              "      <td>0.003217</td>\n",
              "      <td>35.12</td>\n",
              "      <td>rain</td>\n",
              "      <td>0.86</td>\n",
              "      <td>8.74</td>\n",
              "      <td>Light Rain</td>\n",
              "      <td>29.45</td>\n",
              "      <td>1011.49</td>\n",
              "      <td>6.72</td>\n",
              "      <td>0.31</td>\n",
              "      <td>186.0</td>\n",
              "      <td>0.0101</td>\n",
              "      <td>31.27</td>\n",
              "      <td>0.51</td>\n",
              "    </tr>\n",
              "    <tr>\n",
              "      <th>503909</th>\n",
              "      <td>1452128309</td>\n",
              "      <td>1.990950</td>\n",
              "      <td>0.003233</td>\n",
              "      <td>1.990950</td>\n",
              "      <td>0.000050</td>\n",
              "      <td>0.494700</td>\n",
              "      <td>0.634133</td>\n",
              "      <td>0.042100</td>\n",
              "      <td>0.004917</td>\n",
              "      <td>0.008133</td>\n",
              "      <td>0.012833</td>\n",
              "      <td>0.000517</td>\n",
              "      <td>0.000117</td>\n",
              "      <td>0.000017</td>\n",
              "      <td>0.032167</td>\n",
              "      <td>0.000950</td>\n",
              "      <td>0.003767</td>\n",
              "      <td>0.000950</td>\n",
              "      <td>0.003233</td>\n",
              "      <td>35.12</td>\n",
              "      <td>rain</td>\n",
              "      <td>0.86</td>\n",
              "      <td>8.74</td>\n",
              "      <td>Light Rain</td>\n",
              "      <td>29.45</td>\n",
              "      <td>1011.49</td>\n",
              "      <td>6.72</td>\n",
              "      <td>0.31</td>\n",
              "      <td>186.0</td>\n",
              "      <td>0.0101</td>\n",
              "      <td>31.27</td>\n",
              "      <td>0.51</td>\n",
              "    </tr>\n",
              "  </tbody>\n",
              "</table>\n",
              "</div>"
            ],
            "text/plain": [
              "              time  use [kW]  ...  dewPoint  precipProbability\n",
              "503905  1452128305  1.601233  ...     31.27               0.51\n",
              "503906  1452128306  1.599333  ...     31.27               0.51\n",
              "503907  1452128307  1.924267  ...     31.27               0.51\n",
              "503908  1452128308  1.978200  ...     31.27               0.51\n",
              "503909  1452128309  1.990950  ...     31.27               0.51\n",
              "\n",
              "[5 rows x 32 columns]"
            ]
          },
          "metadata": {
            "tags": []
          },
          "execution_count": 14
        }
      ]
    },
    {
      "cell_type": "code",
      "metadata": {
        "id": "D2fVuGz38jrK",
        "colab_type": "code",
        "colab": {
          "base_uri": "https://localhost:8080/",
          "height": 326
        },
        "outputId": "e4e2e313-93f2-4491-db7f-f2983bdcdda9"
      },
      "source": [
        "df.columns = [col.replace(' [kW]', '') for col in df.columns]\n",
        "df.tail()"
      ],
      "execution_count": 15,
      "outputs": [
        {
          "output_type": "execute_result",
          "data": {
            "text/html": [
              "<div>\n",
              "<style scoped>\n",
              "    .dataframe tbody tr th:only-of-type {\n",
              "        vertical-align: middle;\n",
              "    }\n",
              "\n",
              "    .dataframe tbody tr th {\n",
              "        vertical-align: top;\n",
              "    }\n",
              "\n",
              "    .dataframe thead th {\n",
              "        text-align: right;\n",
              "    }\n",
              "</style>\n",
              "<table border=\"1\" class=\"dataframe\">\n",
              "  <thead>\n",
              "    <tr style=\"text-align: right;\">\n",
              "      <th></th>\n",
              "      <th>time</th>\n",
              "      <th>use</th>\n",
              "      <th>gen</th>\n",
              "      <th>House overall</th>\n",
              "      <th>Dishwasher</th>\n",
              "      <th>Furnace 1</th>\n",
              "      <th>Furnace 2</th>\n",
              "      <th>Home office</th>\n",
              "      <th>Fridge</th>\n",
              "      <th>Wine cellar</th>\n",
              "      <th>Garage door</th>\n",
              "      <th>Kitchen 12</th>\n",
              "      <th>Kitchen 14</th>\n",
              "      <th>Kitchen 38</th>\n",
              "      <th>Barn</th>\n",
              "      <th>Well</th>\n",
              "      <th>Microwave</th>\n",
              "      <th>Living room</th>\n",
              "      <th>Solar</th>\n",
              "      <th>temperature</th>\n",
              "      <th>icon</th>\n",
              "      <th>humidity</th>\n",
              "      <th>visibility</th>\n",
              "      <th>summary</th>\n",
              "      <th>apparentTemperature</th>\n",
              "      <th>pressure</th>\n",
              "      <th>windSpeed</th>\n",
              "      <th>cloudCover</th>\n",
              "      <th>windBearing</th>\n",
              "      <th>precipIntensity</th>\n",
              "      <th>dewPoint</th>\n",
              "      <th>precipProbability</th>\n",
              "    </tr>\n",
              "  </thead>\n",
              "  <tbody>\n",
              "    <tr>\n",
              "      <th>503905</th>\n",
              "      <td>1452128305</td>\n",
              "      <td>1.601233</td>\n",
              "      <td>0.003183</td>\n",
              "      <td>1.601233</td>\n",
              "      <td>0.000050</td>\n",
              "      <td>0.085267</td>\n",
              "      <td>0.642417</td>\n",
              "      <td>0.041783</td>\n",
              "      <td>0.005267</td>\n",
              "      <td>0.008667</td>\n",
              "      <td>0.013483</td>\n",
              "      <td>0.000467</td>\n",
              "      <td>0.000150</td>\n",
              "      <td>0.000017</td>\n",
              "      <td>0.032283</td>\n",
              "      <td>0.000983</td>\n",
              "      <td>0.003800</td>\n",
              "      <td>0.000967</td>\n",
              "      <td>0.003183</td>\n",
              "      <td>35.12</td>\n",
              "      <td>rain</td>\n",
              "      <td>0.86</td>\n",
              "      <td>8.74</td>\n",
              "      <td>Light Rain</td>\n",
              "      <td>29.45</td>\n",
              "      <td>1011.49</td>\n",
              "      <td>6.72</td>\n",
              "      <td>0.31</td>\n",
              "      <td>186.0</td>\n",
              "      <td>0.0101</td>\n",
              "      <td>31.27</td>\n",
              "      <td>0.51</td>\n",
              "    </tr>\n",
              "    <tr>\n",
              "      <th>503906</th>\n",
              "      <td>1452128306</td>\n",
              "      <td>1.599333</td>\n",
              "      <td>0.003233</td>\n",
              "      <td>1.599333</td>\n",
              "      <td>0.000050</td>\n",
              "      <td>0.104017</td>\n",
              "      <td>0.625033</td>\n",
              "      <td>0.041750</td>\n",
              "      <td>0.005233</td>\n",
              "      <td>0.008433</td>\n",
              "      <td>0.013433</td>\n",
              "      <td>0.000467</td>\n",
              "      <td>0.000100</td>\n",
              "      <td>0.000033</td>\n",
              "      <td>0.032200</td>\n",
              "      <td>0.000950</td>\n",
              "      <td>0.003800</td>\n",
              "      <td>0.000933</td>\n",
              "      <td>0.003233</td>\n",
              "      <td>35.12</td>\n",
              "      <td>rain</td>\n",
              "      <td>0.86</td>\n",
              "      <td>8.74</td>\n",
              "      <td>Light Rain</td>\n",
              "      <td>29.45</td>\n",
              "      <td>1011.49</td>\n",
              "      <td>6.72</td>\n",
              "      <td>0.31</td>\n",
              "      <td>186.0</td>\n",
              "      <td>0.0101</td>\n",
              "      <td>31.27</td>\n",
              "      <td>0.51</td>\n",
              "    </tr>\n",
              "    <tr>\n",
              "      <th>503907</th>\n",
              "      <td>1452128307</td>\n",
              "      <td>1.924267</td>\n",
              "      <td>0.003217</td>\n",
              "      <td>1.924267</td>\n",
              "      <td>0.000033</td>\n",
              "      <td>0.422383</td>\n",
              "      <td>0.637733</td>\n",
              "      <td>0.042033</td>\n",
              "      <td>0.004983</td>\n",
              "      <td>0.008467</td>\n",
              "      <td>0.012933</td>\n",
              "      <td>0.000533</td>\n",
              "      <td>0.000067</td>\n",
              "      <td>0.000000</td>\n",
              "      <td>0.032283</td>\n",
              "      <td>0.001000</td>\n",
              "      <td>0.003750</td>\n",
              "      <td>0.001000</td>\n",
              "      <td>0.003217</td>\n",
              "      <td>35.12</td>\n",
              "      <td>rain</td>\n",
              "      <td>0.86</td>\n",
              "      <td>8.74</td>\n",
              "      <td>Light Rain</td>\n",
              "      <td>29.45</td>\n",
              "      <td>1011.49</td>\n",
              "      <td>6.72</td>\n",
              "      <td>0.31</td>\n",
              "      <td>186.0</td>\n",
              "      <td>0.0101</td>\n",
              "      <td>31.27</td>\n",
              "      <td>0.51</td>\n",
              "    </tr>\n",
              "    <tr>\n",
              "      <th>503908</th>\n",
              "      <td>1452128308</td>\n",
              "      <td>1.978200</td>\n",
              "      <td>0.003217</td>\n",
              "      <td>1.978200</td>\n",
              "      <td>0.000050</td>\n",
              "      <td>0.495667</td>\n",
              "      <td>0.620367</td>\n",
              "      <td>0.042100</td>\n",
              "      <td>0.005333</td>\n",
              "      <td>0.008233</td>\n",
              "      <td>0.012817</td>\n",
              "      <td>0.000517</td>\n",
              "      <td>0.000117</td>\n",
              "      <td>0.000017</td>\n",
              "      <td>0.032183</td>\n",
              "      <td>0.000950</td>\n",
              "      <td>0.003767</td>\n",
              "      <td>0.000950</td>\n",
              "      <td>0.003217</td>\n",
              "      <td>35.12</td>\n",
              "      <td>rain</td>\n",
              "      <td>0.86</td>\n",
              "      <td>8.74</td>\n",
              "      <td>Light Rain</td>\n",
              "      <td>29.45</td>\n",
              "      <td>1011.49</td>\n",
              "      <td>6.72</td>\n",
              "      <td>0.31</td>\n",
              "      <td>186.0</td>\n",
              "      <td>0.0101</td>\n",
              "      <td>31.27</td>\n",
              "      <td>0.51</td>\n",
              "    </tr>\n",
              "    <tr>\n",
              "      <th>503909</th>\n",
              "      <td>1452128309</td>\n",
              "      <td>1.990950</td>\n",
              "      <td>0.003233</td>\n",
              "      <td>1.990950</td>\n",
              "      <td>0.000050</td>\n",
              "      <td>0.494700</td>\n",
              "      <td>0.634133</td>\n",
              "      <td>0.042100</td>\n",
              "      <td>0.004917</td>\n",
              "      <td>0.008133</td>\n",
              "      <td>0.012833</td>\n",
              "      <td>0.000517</td>\n",
              "      <td>0.000117</td>\n",
              "      <td>0.000017</td>\n",
              "      <td>0.032167</td>\n",
              "      <td>0.000950</td>\n",
              "      <td>0.003767</td>\n",
              "      <td>0.000950</td>\n",
              "      <td>0.003233</td>\n",
              "      <td>35.12</td>\n",
              "      <td>rain</td>\n",
              "      <td>0.86</td>\n",
              "      <td>8.74</td>\n",
              "      <td>Light Rain</td>\n",
              "      <td>29.45</td>\n",
              "      <td>1011.49</td>\n",
              "      <td>6.72</td>\n",
              "      <td>0.31</td>\n",
              "      <td>186.0</td>\n",
              "      <td>0.0101</td>\n",
              "      <td>31.27</td>\n",
              "      <td>0.51</td>\n",
              "    </tr>\n",
              "  </tbody>\n",
              "</table>\n",
              "</div>"
            ],
            "text/plain": [
              "              time       use  ...  dewPoint  precipProbability\n",
              "503905  1452128305  1.601233  ...     31.27               0.51\n",
              "503906  1452128306  1.599333  ...     31.27               0.51\n",
              "503907  1452128307  1.924267  ...     31.27               0.51\n",
              "503908  1452128308  1.978200  ...     31.27               0.51\n",
              "503909  1452128309  1.990950  ...     31.27               0.51\n",
              "\n",
              "[5 rows x 32 columns]"
            ]
          },
          "metadata": {
            "tags": []
          },
          "execution_count": 15
        }
      ]
    },
    {
      "cell_type": "code",
      "metadata": {
        "id": "sPQxkwmR89Rt",
        "colab_type": "code",
        "colab": {
          "base_uri": "https://localhost:8080/",
          "height": 204
        },
        "outputId": "edc5eaa1-2b9d-45a9-94b0-51f4057a8ec1"
      },
      "source": [
        "df_clean = df[['time', 'temperature']]\n",
        "df_clean.tail()"
      ],
      "execution_count": 48,
      "outputs": [
        {
          "output_type": "execute_result",
          "data": {
            "text/html": [
              "<div>\n",
              "<style scoped>\n",
              "    .dataframe tbody tr th:only-of-type {\n",
              "        vertical-align: middle;\n",
              "    }\n",
              "\n",
              "    .dataframe tbody tr th {\n",
              "        vertical-align: top;\n",
              "    }\n",
              "\n",
              "    .dataframe thead th {\n",
              "        text-align: right;\n",
              "    }\n",
              "</style>\n",
              "<table border=\"1\" class=\"dataframe\">\n",
              "  <thead>\n",
              "    <tr style=\"text-align: right;\">\n",
              "      <th></th>\n",
              "      <th>time</th>\n",
              "      <th>temperature</th>\n",
              "    </tr>\n",
              "  </thead>\n",
              "  <tbody>\n",
              "    <tr>\n",
              "      <th>503905</th>\n",
              "      <td>1452128305</td>\n",
              "      <td>35.12</td>\n",
              "    </tr>\n",
              "    <tr>\n",
              "      <th>503906</th>\n",
              "      <td>1452128306</td>\n",
              "      <td>35.12</td>\n",
              "    </tr>\n",
              "    <tr>\n",
              "      <th>503907</th>\n",
              "      <td>1452128307</td>\n",
              "      <td>35.12</td>\n",
              "    </tr>\n",
              "    <tr>\n",
              "      <th>503908</th>\n",
              "      <td>1452128308</td>\n",
              "      <td>35.12</td>\n",
              "    </tr>\n",
              "    <tr>\n",
              "      <th>503909</th>\n",
              "      <td>1452128309</td>\n",
              "      <td>35.12</td>\n",
              "    </tr>\n",
              "  </tbody>\n",
              "</table>\n",
              "</div>"
            ],
            "text/plain": [
              "              time  temperature\n",
              "503905  1452128305        35.12\n",
              "503906  1452128306        35.12\n",
              "503907  1452128307        35.12\n",
              "503908  1452128308        35.12\n",
              "503909  1452128309        35.12"
            ]
          },
          "metadata": {
            "tags": []
          },
          "execution_count": 48
        }
      ]
    },
    {
      "cell_type": "code",
      "metadata": {
        "id": "2iwzK0OgNzVA",
        "colab_type": "code",
        "colab": {
          "base_uri": "https://localhost:8080/",
          "height": 74
        },
        "outputId": "a788c13d-d0bf-4edd-c47c-952869a9e9b0"
      },
      "source": [
        "df_clean.isnull().sum()"
      ],
      "execution_count": 49,
      "outputs": [
        {
          "output_type": "execute_result",
          "data": {
            "text/plain": [
              "time           0\n",
              "temperature    0\n",
              "dtype: int64"
            ]
          },
          "metadata": {
            "tags": []
          },
          "execution_count": 49
        }
      ]
    },
    {
      "cell_type": "code",
      "metadata": {
        "id": "P4wZVQwhN4Ba",
        "colab_type": "code",
        "colab": {
          "base_uri": "https://localhost:8080/",
          "height": 297
        },
        "outputId": "ec6d02b8-c0cf-469a-a459-ddcd725b8964"
      },
      "source": [
        "df_clean.describe()"
      ],
      "execution_count": 50,
      "outputs": [
        {
          "output_type": "execute_result",
          "data": {
            "text/html": [
              "<div>\n",
              "<style scoped>\n",
              "    .dataframe tbody tr th:only-of-type {\n",
              "        vertical-align: middle;\n",
              "    }\n",
              "\n",
              "    .dataframe tbody tr th {\n",
              "        vertical-align: top;\n",
              "    }\n",
              "\n",
              "    .dataframe thead th {\n",
              "        text-align: right;\n",
              "    }\n",
              "</style>\n",
              "<table border=\"1\" class=\"dataframe\">\n",
              "  <thead>\n",
              "    <tr style=\"text-align: right;\">\n",
              "      <th></th>\n",
              "      <th>temperature</th>\n",
              "    </tr>\n",
              "  </thead>\n",
              "  <tbody>\n",
              "    <tr>\n",
              "      <th>count</th>\n",
              "      <td>503910.000000</td>\n",
              "    </tr>\n",
              "    <tr>\n",
              "      <th>mean</th>\n",
              "      <td>50.741935</td>\n",
              "    </tr>\n",
              "    <tr>\n",
              "      <th>std</th>\n",
              "      <td>19.113807</td>\n",
              "    </tr>\n",
              "    <tr>\n",
              "      <th>min</th>\n",
              "      <td>-12.640000</td>\n",
              "    </tr>\n",
              "    <tr>\n",
              "      <th>25%</th>\n",
              "      <td>35.770000</td>\n",
              "    </tr>\n",
              "    <tr>\n",
              "      <th>50%</th>\n",
              "      <td>50.320000</td>\n",
              "    </tr>\n",
              "    <tr>\n",
              "      <th>75%</th>\n",
              "      <td>66.260000</td>\n",
              "    </tr>\n",
              "    <tr>\n",
              "      <th>max</th>\n",
              "      <td>93.720000</td>\n",
              "    </tr>\n",
              "  </tbody>\n",
              "</table>\n",
              "</div>"
            ],
            "text/plain": [
              "         temperature\n",
              "count  503910.000000\n",
              "mean       50.741935\n",
              "std        19.113807\n",
              "min       -12.640000\n",
              "25%        35.770000\n",
              "50%        50.320000\n",
              "75%        66.260000\n",
              "max        93.720000"
            ]
          },
          "metadata": {
            "tags": []
          },
          "execution_count": 50
        }
      ]
    },
    {
      "cell_type": "code",
      "metadata": {
        "id": "sE_16qqg-IgR",
        "colab_type": "code",
        "colab": {
          "base_uri": "https://localhost:8080/",
          "height": 36
        },
        "outputId": "52dd7a71-0fdf-4bef-b310-b017ce7966c9"
      },
      "source": [
        "print(time.strftime('%Y-%m-%d %H:%M:%S', time.localtime(int(df_clean['time'].iloc[0]))))"
      ],
      "execution_count": 51,
      "outputs": [
        {
          "output_type": "stream",
          "text": [
            "2016-01-01 05:00:00\n"
          ],
          "name": "stdout"
        }
      ]
    },
    {
      "cell_type": "code",
      "metadata": {
        "id": "L10zhCB8_Qdc",
        "colab_type": "code",
        "colab": {
          "base_uri": "https://localhost:8080/",
          "height": 204
        },
        "outputId": "ac4361df-3910-48d9-966f-ceb8f3e45268"
      },
      "source": [
        "time_index = pd.date_range('2016-01-01 05:00:00', periods=len(df_clean), freq='min')\n",
        "time_index = pd.DatetimeIndex(time_index)\n",
        "df_clean = df_clean.set_index(time_index)\n",
        "df_clean.tail()"
      ],
      "execution_count": 52,
      "outputs": [
        {
          "output_type": "execute_result",
          "data": {
            "text/html": [
              "<div>\n",
              "<style scoped>\n",
              "    .dataframe tbody tr th:only-of-type {\n",
              "        vertical-align: middle;\n",
              "    }\n",
              "\n",
              "    .dataframe tbody tr th {\n",
              "        vertical-align: top;\n",
              "    }\n",
              "\n",
              "    .dataframe thead th {\n",
              "        text-align: right;\n",
              "    }\n",
              "</style>\n",
              "<table border=\"1\" class=\"dataframe\">\n",
              "  <thead>\n",
              "    <tr style=\"text-align: right;\">\n",
              "      <th></th>\n",
              "      <th>time</th>\n",
              "      <th>temperature</th>\n",
              "    </tr>\n",
              "  </thead>\n",
              "  <tbody>\n",
              "    <tr>\n",
              "      <th>2016-12-16 03:25:00</th>\n",
              "      <td>1452128305</td>\n",
              "      <td>35.12</td>\n",
              "    </tr>\n",
              "    <tr>\n",
              "      <th>2016-12-16 03:26:00</th>\n",
              "      <td>1452128306</td>\n",
              "      <td>35.12</td>\n",
              "    </tr>\n",
              "    <tr>\n",
              "      <th>2016-12-16 03:27:00</th>\n",
              "      <td>1452128307</td>\n",
              "      <td>35.12</td>\n",
              "    </tr>\n",
              "    <tr>\n",
              "      <th>2016-12-16 03:28:00</th>\n",
              "      <td>1452128308</td>\n",
              "      <td>35.12</td>\n",
              "    </tr>\n",
              "    <tr>\n",
              "      <th>2016-12-16 03:29:00</th>\n",
              "      <td>1452128309</td>\n",
              "      <td>35.12</td>\n",
              "    </tr>\n",
              "  </tbody>\n",
              "</table>\n",
              "</div>"
            ],
            "text/plain": [
              "                           time  temperature\n",
              "2016-12-16 03:25:00  1452128305        35.12\n",
              "2016-12-16 03:26:00  1452128306        35.12\n",
              "2016-12-16 03:27:00  1452128307        35.12\n",
              "2016-12-16 03:28:00  1452128308        35.12\n",
              "2016-12-16 03:29:00  1452128309        35.12"
            ]
          },
          "metadata": {
            "tags": []
          },
          "execution_count": 52
        }
      ]
    },
    {
      "cell_type": "code",
      "metadata": {
        "id": "PCQTutZn_6yk",
        "colab_type": "code",
        "colab": {
          "base_uri": "https://localhost:8080/",
          "height": 309
        },
        "outputId": "5013e09e-222b-49c7-c818-bb7fd4b6631f"
      },
      "source": [
        "%matplotlib inline\n",
        "\n",
        "df_clean['temperature'].plot(figsize=(25,5))"
      ],
      "execution_count": 53,
      "outputs": [
        {
          "output_type": "execute_result",
          "data": {
            "text/plain": [
              "<matplotlib.axes._subplots.AxesSubplot at 0x7ff8d991fa90>"
            ]
          },
          "metadata": {
            "tags": []
          },
          "execution_count": 53
        },
        {
          "output_type": "display_data",
          "data": {
            "image/png": "[encoded data removed]",
            "text/plain": [
              "<Figure size 1800x360 with 1 Axes>"
            ]
          },
          "metadata": {
            "tags": [],
            "needs_background": "light"
          }
        }
      ]
    },
    {
      "cell_type": "code",
      "metadata": {
        "id": "xworu_PCP2cT",
        "colab_type": "code",
        "colab": {}
      },
      "source": [
        "def plot_series(time, series, format=\"-\", start=0, end=None):\n",
        "    plt.plot(time[start:end], series[start:end], format)\n",
        "    plt.xlabel(\"Time\")\n",
        "    plt.ylabel(\"Value\")\n",
        "    plt.grid(True)"
      ],
      "execution_count": 58,
      "outputs": []
    },
    {
      "cell_type": "code",
      "metadata": {
        "id": "dqmF4kjPB7l4",
        "colab_type": "code",
        "colab": {}
      },
      "source": [
        "dates = df_clean.index.values\n",
        "temp = df_clean['temperature'].values"
      ],
      "execution_count": 32,
      "outputs": []
    },
    {
      "cell_type": "code",
      "metadata": {
        "id": "OoyDBK5KCOEm",
        "colab_type": "code",
        "colab": {}
      },
      "source": [
        "def windowed_dataset(series, window_size, batch_size, shuffle_buffer):\n",
        "    series = tf.expand_dims(series, axis=-1)\n",
        "    ds = tf.data.Dataset.from_tensor_slices(series)\n",
        "    ds = ds.window(window_size + 1, shift=1, drop_remainder=True)\n",
        "    ds = ds.flat_map(lambda w: w.batch(window_size + 1))\n",
        "    ds = ds.shuffle(shuffle_buffer)\n",
        "    ds = ds.map(lambda w: (w[:-1], w[1:]))\n",
        "    return ds.batch(batch_size).prefetch(1)"
      ],
      "execution_count": 33,
      "outputs": []
    },
    {
      "cell_type": "code",
      "metadata": {
        "id": "d16Y8zw9CbaR",
        "colab_type": "code",
        "colab": {
          "base_uri": "https://localhost:8080/",
          "height": 55
        },
        "outputId": "95ba2d3a-dea3-421d-a5da-61b9bf99187c"
      },
      "source": [
        "total_size = len(df_clean)\n",
        "train_length = total_size-int(total_size*0.2)\n",
        "print(total_size)\n",
        "print(train_length)"
      ],
      "execution_count": 34,
      "outputs": [
        {
          "output_type": "stream",
          "text": [
            "503910\n",
            "403128\n"
          ],
          "name": "stdout"
        }
      ]
    },
    {
      "cell_type": "code",
      "metadata": {
        "id": "FHQ8xPLcDGh3",
        "colab_type": "code",
        "colab": {}
      },
      "source": [
        "train_temp = windowed_dataset(temp[:train_length], window_size=60, batch_size=128, shuffle_buffer=1000)\n",
        "test_temp = windowed_dataset(temp[train_length:], window_size=60, batch_size=128, shuffle_buffer=1000)"
      ],
      "execution_count": 39,
      "outputs": []
    },
    {
      "cell_type": "code",
      "metadata": {
        "id": "gJi8YcxGDpdO",
        "colab_type": "code",
        "colab": {}
      },
      "source": [
        "model = tf.keras.models.Sequential([\n",
        "  tf.keras.layers.Conv1D(filters=60, kernel_size=5, strides=1, padding=\"casual\", activation='relu', input_shape=[None, 1]),\n",
        "  tf.keras.layers.Bidirectional(tf.keras.layers.LSTM(60, return_sequences=True)),\n",
        "  tf.keras.layers.Bidirectional(tf.keras.layers.LSTM(60, return_sequences=True)),\n",
        "  tf.keras.layers.Dense(30, activation=\"relu\"),\n",
        "  tf.keras.layers.Dense(10, activation=\"relu\"),\n",
        "  tf.keras.layers.Dense(1),\n",
        "])\n",
        "\n",
        "optimizer = tf.keras.optimizers.Adam(lr=1e-3)\n",
        "model.compile(loss=tf.keras.losses.Huber(),\n",
        "              optimizer=optimizer,\n",
        "              metrics=[\"mae\"])"
      ],
      "execution_count": 55,
      "outputs": []
    },
    {
      "cell_type": "code",
      "metadata": {
        "id": "koE85AdgDw04",
        "colab_type": "code",
        "colab": {}
      },
      "source": [
        "earlyStoping = EarlyStopping(monitor='val_loss',patience=4)"
      ],
      "execution_count": 56,
      "outputs": []
    },
    {
      "cell_type": "code",
      "metadata": {
        "id": "1perrcEnDzqU",
        "colab_type": "code",
        "colab": {
          "base_uri": "https://localhost:8080/",
          "height": 531
        },
        "outputId": "d72311b4-150f-44b1-f27d-8e8588b34f65"
      },
      "source": [
        "history = model.fit(\n",
        "    train_temp,\n",
        "    steps_per_epoch=train_length//128,\n",
        "    epochs=10,\n",
        "    validation_data=test_temp,\n",
        "    callbacks=[earlyStoping]\n",
        ")"
      ],
      "execution_count": 57,
      "outputs": [
        {
          "output_type": "stream",
          "text": [
            "Epoch 1/10\n",
            "WARNING:tensorflow:Layer bidirectional_2 is casting an input tensor from dtype float64 to the layer's dtype of float32, which is new behavior in TensorFlow 2.  The layer has dtype float32 because its dtype defaults to floatx.\n",
            "\n",
            "If you intended to run this layer in float32, you can safely ignore this warning. If in doubt, this warning is likely only an issue if you are porting a TensorFlow 1.X model to TensorFlow 2.\n",
            "\n",
            "To change all layers to have dtype float64 by default, call `tf.keras.backend.set_floatx('float64')`. To change just this layer, pass dtype='float64' to the layer constructor. If you are the author of this layer, you can disable autocasting by passing autocast=False to the base Layer constructor.\n",
            "\n",
            "3149/3149 [==============================] - 215s 68ms/step - loss: 3.6172 - mae: 3.9674 - val_loss: 0.8684 - val_mae: 1.1750\n",
            "Epoch 2/10\n",
            "3149/3149 [==============================] - 214s 68ms/step - loss: 0.3190 - mae: 0.5865 - val_loss: 0.2710 - val_mae: 0.5430\n",
            "Epoch 3/10\n",
            "3149/3149 [==============================] - 214s 68ms/step - loss: 0.3035 - mae: 0.5619 - val_loss: 0.2146 - val_mae: 0.4539\n",
            "Epoch 4/10\n",
            "3149/3149 [==============================] - 214s 68ms/step - loss: 0.2897 - mae: 0.5368 - val_loss: 0.2197 - val_mae: 0.4609\n",
            "Epoch 5/10\n",
            "3149/3149 [==============================] - 214s 68ms/step - loss: 0.2824 - mae: 0.5272 - val_loss: 0.2154 - val_mae: 0.4565\n",
            "Epoch 6/10\n",
            "3149/3149 [==============================] - 214s 68ms/step - loss: 0.2722 - mae: 0.5126 - val_loss: 0.2086 - val_mae: 0.4341\n",
            "Epoch 7/10\n",
            "3149/3149 [==============================] - 214s 68ms/step - loss: 0.2695 - mae: 0.5079 - val_loss: 0.2034 - val_mae: 0.4178\n",
            "Epoch 8/10\n",
            "3149/3149 [==============================] - 214s 68ms/step - loss: 0.2677 - mae: 0.5052 - val_loss: 0.2062 - val_mae: 0.4370\n",
            "Epoch 9/10\n",
            "3149/3149 [==============================] - 214s 68ms/step - loss: 0.2676 - mae: 0.5034 - val_loss: 0.2057 - val_mae: 0.4274\n",
            "Epoch 10/10\n",
            "3149/3149 [==============================] - 214s 68ms/step - loss: 0.2666 - mae: 0.5016 - val_loss: 0.2008 - val_mae: 0.4125\n"
          ],
          "name": "stdout"
        }
      ]
    },
    {
      "cell_type": "code",
      "metadata": {
        "id": "ERvzN_MASirc",
        "colab_type": "code",
        "colab": {}
      },
      "source": [
        "def plot_graphs(history, string, start=None):\n",
        "    label_plot = history.history[string]\n",
        "    epochs_plot = range(len(label_plot))\n",
        "    if start is not None:\n",
        "        label_plot = label_plot[start:]\n",
        "        epochs_plot = epochs_plot[start:]\n",
        "\n",
        "    plt.plot(epochs_plot, label_plot)\n",
        "    plt.xlabel(\"Epochs\")\n",
        "    plt.ylabel(string)\n",
        "    plt.show()"
      ],
      "execution_count": 59,
      "outputs": []
    },
    {
      "cell_type": "code",
      "metadata": {
        "id": "Q6kifVrgSl44",
        "colab_type": "code",
        "colab": {
          "base_uri": "https://localhost:8080/",
          "height": 541
        },
        "outputId": "5487594b-9535-4d58-a414-da341dd339c6"
      },
      "source": [
        "plot_graphs(history, 'mae', 1)\n",
        "plot_graphs(history, 'loss', 1)"
      ],
      "execution_count": 61,
      "outputs": [
        {
          "output_type": "display_data",
          "data": {
            "image/png": "[encoded data removed]",
            "text/plain": [
              "<Figure size 432x288 with 1 Axes>"
            ]
          },
          "metadata": {
            "tags": [],
            "needs_background": "light"
          }
        },
        {
          "output_type": "display_data",
          "data": {
            "image/png": "[encoded data removed]",
            "text/plain": [
              "<Figure size 432x288 with 1 Axes>"
            ]
          },
          "metadata": {
            "tags": [],
            "needs_background": "light"
          }
        }
      ]
    },
    {
      "cell_type": "code",
      "metadata": {
        "id": "Kv_oKOY2Q_Kx",
        "colab_type": "code",
        "colab": {}
      },
      "source": [
        "def model_forecast(model, series, window_size):\n",
        "  ds = tf.data.Dataset.from_tensor_slices(series)\n",
        "  ds = ds.window(window_size, shift=1, drop_remainder=True)\n",
        "  ds = ds.flat_map(lambda w:w.batch(window_size))\n",
        "  ds = ds.batch(128).prefetch(1)\n",
        "  return model.predict(ds)"
      ],
      "execution_count": 62,
      "outputs": []
    },
    {
      "cell_type": "code",
      "metadata": {
        "id": "YYValRUED3hC",
        "colab_type": "code",
        "colab": {
          "base_uri": "https://localhost:8080/",
          "height": 197
        },
        "outputId": "74c380fa-9394-4e32-d41d-bc16cf9a97bc"
      },
      "source": [
        "forecast = np.array(model_forecast(model, temp[..., np.newaxis], 60))\n",
        "forecast = forecast[train_length-60:-1, -1, 0]"
      ],
      "execution_count": 64,
      "outputs": [
        {
          "output_type": "error",
          "ename": "IndexError",
          "evalue": "ignored",
          "traceback": [
            "\u001b[0;31m---------------------------------------------------------------------------\u001b[0m",
            "\u001b[0;31mIndexError\u001b[0m                                Traceback (most recent call last)",
            "\u001b[0;32m<ipython-input-64-f81354fff3c1>\u001b[0m in \u001b[0;36m<module>\u001b[0;34m()\u001b[0m\n\u001b[1;32m      1\u001b[0m \u001b[0mforecast\u001b[0m \u001b[0;34m=\u001b[0m \u001b[0mnp\u001b[0m\u001b[0;34m.\u001b[0m\u001b[0marray\u001b[0m\u001b[0;34m(\u001b[0m\u001b[0mmodel_forecast\u001b[0m\u001b[0;34m(\u001b[0m\u001b[0mmodel\u001b[0m\u001b[0;34m,\u001b[0m \u001b[0mtemp\u001b[0m\u001b[0;34m[\u001b[0m\u001b[0;34m...\u001b[0m\u001b[0;34m,\u001b[0m \u001b[0mnp\u001b[0m\u001b[0;34m.\u001b[0m\u001b[0mnewaxis\u001b[0m\u001b[0;34m]\u001b[0m\u001b[0;34m,\u001b[0m \u001b[0;36m60\u001b[0m\u001b[0;34m)\u001b[0m\u001b[0;34m)\u001b[0m\u001b[0;34m\u001b[0m\u001b[0;34m\u001b[0m\u001b[0m\n\u001b[0;32m----> 2\u001b[0;31m \u001b[0mforecast\u001b[0m \u001b[0;34m=\u001b[0m \u001b[0mforecast\u001b[0m\u001b[0;34m[\u001b[0m\u001b[0mtrain_length\u001b[0m\u001b[0;34m-\u001b[0m\u001b[0;36m60\u001b[0m\u001b[0;34m:\u001b[0m\u001b[0;34m-\u001b[0m\u001b[0;36m1\u001b[0m\u001b[0;34m,\u001b[0m \u001b[0;34m-\u001b[0m\u001b[0;36m1\u001b[0m\u001b[0;34m,\u001b[0m \u001b[0;36m0\u001b[0m\u001b[0;34m]\u001b[0m\u001b[0;34m\u001b[0m\u001b[0;34m\u001b[0m\u001b[0m\n\u001b[0m",
            "\u001b[0;31mIndexError\u001b[0m: too many indices for array"
          ]
        }
      ]
    },
    {
      "cell_type": "code",
      "metadata": {
        "id": "prkGVk4KSQmw",
        "colab_type": "code",
        "colab": {}
      },
      "source": [
        "print(tf.keras.metrics.mean_absolute_error(temp[train_length:], forecast).numpy())\n",
        "print(tf.keras.metrics.mean_squared_error(temp[train_length:], forecast).numpy())"
      ],
      "execution_count": null,
      "outputs": []
    },
    {
      "cell_type": "code",
      "metadata": {
        "id": "6p7YuFSNXXMf",
        "colab_type": "code",
        "colab": {}
      },
      "source": [
        ""
      ],
      "execution_count": null,
      "outputs": []
    }
  ]
}